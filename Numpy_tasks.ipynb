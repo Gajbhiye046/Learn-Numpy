{
  "cells": [
    {
      "cell_type": "markdown",
      "metadata": {
        "id": "t1nKZ8sZv15b"
      },
      "source": [
        "# Numpy\n",
        "\n"
      ]
    },
    {
      "cell_type": "markdown",
      "metadata": {
        "id": "6E0t2vSGv15d"
      },
      "source": [
        "#### 1. Import the numpy package under the name `np` (★☆☆) \n",
        "(**hint**: import … as …)"
      ]
    },
    {
      "cell_type": "code",
      "execution_count": 1,
      "metadata": {
        "collapsed": true,
        "id": "1_q-AUP9v15e"
      },
      "outputs": [],
      "source": [
        "import numpy as np\n",
        "from numpy.lib import stride_tricks"
      ]
    },
    {
      "cell_type": "markdown",
      "metadata": {
        "id": "kI2blNgAv15f"
      },
      "source": [
        "#### 2. Print the numpy version and the configuration (★☆☆) \n",
        "(**hint**: np.\\_\\_version\\_\\_, np.show\\_config)"
      ]
    },
    {
      "cell_type": "code",
      "execution_count": null,
      "metadata": {
        "colab": {
          "base_uri": "https://localhost:8080/"
        },
        "id": "arVmmkx-v15g",
        "outputId": "58b49a2a-3b69-492f-eef3-8f11be2f489f"
      },
      "outputs": [
        {
          "output_type": "stream",
          "name": "stdout",
          "text": [
            "1.21.6\n",
            "<function show at 0x7f5c823073b0>\n"
          ]
        }
      ],
      "source": [
        "print(np.__version__)\n",
        "print(np.show_config)"
      ]
    },
    {
      "cell_type": "markdown",
      "metadata": {
        "id": "rt6-Iud2v15h"
      },
      "source": [
        "#### 3. Create a null vector of size 10 (★☆☆) \n",
        "(**hint**: np.zeros)"
      ]
    },
    {
      "cell_type": "code",
      "execution_count": null,
      "metadata": {
        "colab": {
          "base_uri": "https://localhost:8080/"
        },
        "id": "yEQqLMeev15i",
        "outputId": "3729e0c1-7cd7-4171-a098-690d71c57fd7"
      },
      "outputs": [
        {
          "output_type": "execute_result",
          "data": {
            "text/plain": [
              "array([0., 0., 0., 0., 0., 0., 0., 0., 0., 0.])"
            ]
          },
          "metadata": {},
          "execution_count": 4
        }
      ],
      "source": [
        "np.zeros(10)"
      ]
    },
    {
      "cell_type": "markdown",
      "metadata": {
        "id": "danCbrHdv15i"
      },
      "source": [
        "#### 4.  How to find the memory size of any array (★☆☆) \n",
        "(**hint**: size, itemsize)"
      ]
    },
    {
      "cell_type": "code",
      "execution_count": null,
      "metadata": {
        "colab": {
          "base_uri": "https://localhost:8080/"
        },
        "id": "lGn8gPDMv15j",
        "outputId": "e53176ee-f6f6-46bd-9037-9042fb2b6395"
      },
      "outputs": [
        {
          "output_type": "stream",
          "name": "stdout",
          "text": [
            "[[9 6 8]\n",
            " [5 7 6]\n",
            " [8 3 4]]\n",
            "9\n",
            "8\n"
          ]
        }
      ],
      "source": [
        "A = np.random.randint(3,10,size =(3,3))\n",
        "print(A)\n",
        "print(np.size(A))\n",
        "print(A.itemsize)"
      ]
    },
    {
      "cell_type": "markdown",
      "metadata": {
        "id": "5UiKwKUHv15k"
      },
      "source": [
        "#### 5.  How to get the documentation of the numpy add function from the command line? (★☆☆) \n",
        "(**hint**: np.info)"
      ]
    },
    {
      "cell_type": "code",
      "execution_count": null,
      "metadata": {
        "collapsed": true,
        "colab": {
          "base_uri": "https://localhost:8080/"
        },
        "id": "rBiqIZdJv15l",
        "outputId": "2e7fd112-a93f-4324-b0a7-c78dbd169e92"
      },
      "outputs": [
        {
          "output_type": "stream",
          "name": "stdout",
          "text": [
            "add(x1, x2, /, out=None, *, where=True, casting='same_kind', order='K', dtype=None, subok=True[, signature, extobj])\n",
            "\n",
            "Add arguments element-wise.\n",
            "\n",
            "Parameters\n",
            "----------\n",
            "x1, x2 : array_like\n",
            "    The arrays to be added.\n",
            "    If ``x1.shape != x2.shape``, they must be broadcastable to a common\n",
            "    shape (which becomes the shape of the output).\n",
            "out : ndarray, None, or tuple of ndarray and None, optional\n",
            "    A location into which the result is stored. If provided, it must have\n",
            "    a shape that the inputs broadcast to. If not provided or None,\n",
            "    a freshly-allocated array is returned. A tuple (possible only as a\n",
            "    keyword argument) must have length equal to the number of outputs.\n",
            "where : array_like, optional\n",
            "    This condition is broadcast over the input. At locations where the\n",
            "    condition is True, the `out` array will be set to the ufunc result.\n",
            "    Elsewhere, the `out` array will retain its original value.\n",
            "    Note that if an uninitialized `out` array is created via the default\n",
            "    ``out=None``, locations within it where the condition is False will\n",
            "    remain uninitialized.\n",
            "**kwargs\n",
            "    For other keyword-only arguments, see the\n",
            "    :ref:`ufunc docs <ufuncs.kwargs>`.\n",
            "\n",
            "Returns\n",
            "-------\n",
            "add : ndarray or scalar\n",
            "    The sum of `x1` and `x2`, element-wise.\n",
            "    This is a scalar if both `x1` and `x2` are scalars.\n",
            "\n",
            "Notes\n",
            "-----\n",
            "Equivalent to `x1` + `x2` in terms of array broadcasting.\n",
            "\n",
            "Examples\n",
            "--------\n",
            ">>> np.add(1.0, 4.0)\n",
            "5.0\n",
            ">>> x1 = np.arange(9.0).reshape((3, 3))\n",
            ">>> x2 = np.arange(3.0)\n",
            ">>> np.add(x1, x2)\n",
            "array([[  0.,   2.,   4.],\n",
            "       [  3.,   5.,   7.],\n",
            "       [  6.,   8.,  10.]])\n",
            "\n",
            "The ``+`` operator can be used as a shorthand for ``np.add`` on ndarrays.\n",
            "\n",
            ">>> x1 = np.arange(9.0).reshape((3, 3))\n",
            ">>> x2 = np.arange(3.0)\n",
            ">>> x1 + x2\n",
            "array([[ 0.,  2.,  4.],\n",
            "       [ 3.,  5.,  7.],\n",
            "       [ 6.,  8., 10.]])\n"
          ]
        }
      ],
      "source": [
        "np.info(np.add)"
      ]
    },
    {
      "cell_type": "markdown",
      "metadata": {
        "id": "Lt2fgE1ev15l"
      },
      "source": [
        "#### 6.  Create a null vector of size 10 but the fifth value which is 1 (★☆☆) \n",
        "(**hint**: array\\[4\\])"
      ]
    },
    {
      "cell_type": "code",
      "execution_count": null,
      "metadata": {
        "colab": {
          "base_uri": "https://localhost:8080/"
        },
        "id": "SyKdIpwLv15m",
        "outputId": "de91ec0b-b578-47cd-e5c2-d7145a27adfe"
      },
      "outputs": [
        {
          "output_type": "stream",
          "name": "stdout",
          "text": [
            "[0. 0. 0. 0. 0. 1. 0. 0. 0. 0.]\n"
          ]
        }
      ],
      "source": [
        "B = np.zeros(10)\n",
        "B[5] = 1 \n",
        "print(B)"
      ]
    },
    {
      "cell_type": "markdown",
      "metadata": {
        "id": "23v-GuTUv15n"
      },
      "source": [
        "#### 7.  Create a vector with values ranging from 10 to 49 (★☆☆) \n",
        "(**hint**: np.arange)"
      ]
    },
    {
      "cell_type": "code",
      "execution_count": null,
      "metadata": {
        "colab": {
          "base_uri": "https://localhost:8080/"
        },
        "id": "ikJ2d5T_v15n",
        "outputId": "b67af3f5-db19-470d-a4d5-dc624d0860e6"
      },
      "outputs": [
        {
          "output_type": "execute_result",
          "data": {
            "text/plain": [
              "array([10, 11, 12, 13, 14, 15, 16, 17, 18, 19, 20, 21, 22, 23, 24, 25, 26,\n",
              "       27, 28, 29, 30, 31, 32, 33, 34, 35, 36, 37, 38, 39, 40, 41, 42, 43,\n",
              "       44, 45, 46, 47, 48, 49])"
            ]
          },
          "metadata": {},
          "execution_count": 8
        }
      ],
      "source": [
        "np.arange(10,50)"
      ]
    },
    {
      "cell_type": "markdown",
      "metadata": {
        "id": "aKE2gZvDv15n"
      },
      "source": [
        "#### 8.  Reverse a vector (first element becomes last) (★☆☆) \n",
        "(**hint**: array\\[::-1\\])"
      ]
    },
    {
      "cell_type": "code",
      "execution_count": null,
      "metadata": {
        "colab": {
          "base_uri": "https://localhost:8080/"
        },
        "id": "uOW_tgxtv15n",
        "outputId": "232adacb-63ff-43d9-83e6-8962421a4c17"
      },
      "outputs": [
        {
          "output_type": "stream",
          "name": "stdout",
          "text": [
            "[[12 32 66 35  7 36  5 26 51 60]]\n",
            "Reversed : [60 51 26  5 36  7 35 66 32 12]\n"
          ]
        }
      ],
      "source": [
        "C = np.random.randint(3,70 ,size = (1,10))\n",
        "print(C)\n",
        "print('Reversed :',C[0][::-1])"
      ]
    },
    {
      "cell_type": "markdown",
      "metadata": {
        "id": "N5eUaXUmv15o"
      },
      "source": [
        "#### 9.  Create a 3x3 matrix with values ranging from 0 to 8 (★☆☆) \n",
        "(**hint**: reshape)"
      ]
    },
    {
      "cell_type": "code",
      "execution_count": null,
      "metadata": {
        "colab": {
          "base_uri": "https://localhost:8080/"
        },
        "id": "uF75onSuv15o",
        "outputId": "249ad01c-0cdd-42a1-926f-20cb21489b05"
      },
      "outputs": [
        {
          "output_type": "execute_result",
          "data": {
            "text/plain": [
              "array([[2, 4, 2],\n",
              "       [4, 1, 4],\n",
              "       [1, 5, 4]])"
            ]
          },
          "metadata": {},
          "execution_count": 10
        }
      ],
      "source": [
        "np.random.randint(0,8,size = (3,3))"
      ]
    },
    {
      "cell_type": "markdown",
      "metadata": {
        "id": "JVKEMloov15p"
      },
      "source": [
        "#### 10. Find indices of non-zero elements from \\[1,2,0,0,4,0\\] (★☆☆) \n",
        "(**hint**: np.nonzero)"
      ]
    },
    {
      "cell_type": "code",
      "execution_count": null,
      "metadata": {
        "colab": {
          "base_uri": "https://localhost:8080/"
        },
        "id": "ktFId-cJv15p",
        "outputId": "b1f6519d-0388-4819-f6a9-5550d96d4a12"
      },
      "outputs": [
        {
          "output_type": "execute_result",
          "data": {
            "text/plain": [
              "array([0, 1, 4])"
            ]
          },
          "metadata": {},
          "execution_count": 11
        }
      ],
      "source": [
        "D = np.array([1,2,0,0,4,0])\n",
        "np.argwhere(D>0).flatten()"
      ]
    },
    {
      "cell_type": "markdown",
      "metadata": {
        "id": "WNNhRuJ6v15q"
      },
      "source": [
        "#### 11. Create a 3x3 identity matrix (★☆☆) \n",
        "(**hint**: np.eye)"
      ]
    },
    {
      "cell_type": "code",
      "execution_count": 76,
      "metadata": {
        "colab": {
          "base_uri": "https://localhost:8080/"
        },
        "id": "GK8LM6qiv15q",
        "outputId": "7a5d9fa7-ab15-4b5e-ce1b-944264ee4d74",
        "collapsed": true
      },
      "outputs": [
        {
          "output_type": "execute_result",
          "data": {
            "text/plain": [
              "array([[1., 0., 0.],\n",
              "       [0., 1., 0.],\n",
              "       [0., 0., 1.]])"
            ]
          },
          "metadata": {},
          "execution_count": 76
        }
      ],
      "source": [
        "np.eye(3)"
      ]
    },
    {
      "cell_type": "markdown",
      "metadata": {
        "id": "suefYgv7v15s"
      },
      "source": [
        "#### 12. Create a 3x3x3 array with random values (★☆☆) \n",
        "(**hint**: np.random.random)"
      ]
    },
    {
      "cell_type": "code",
      "execution_count": 75,
      "metadata": {
        "collapsed": true,
        "colab": {
          "base_uri": "https://localhost:8080/"
        },
        "id": "6xUys6M8v15s",
        "outputId": "d606ad0d-cf5c-4816-a277-0a334463fb7d"
      },
      "outputs": [
        {
          "output_type": "execute_result",
          "data": {
            "text/plain": [
              "array([[[6, 6, 1],\n",
              "        [5, 8, 3],\n",
              "        [9, 7, 6]],\n",
              "\n",
              "       [[2, 3, 8],\n",
              "        [8, 0, 2],\n",
              "        [7, 0, 4]],\n",
              "\n",
              "       [[1, 0, 7],\n",
              "        [7, 4, 7],\n",
              "        [6, 3, 2]]])"
            ]
          },
          "metadata": {},
          "execution_count": 75
        }
      ],
      "source": [
        "np.random.randint(10, size = (3,3,3))"
      ]
    },
    {
      "cell_type": "markdown",
      "metadata": {
        "id": "0G-0Mhq8v15t"
      },
      "source": [
        "#### 13. Create a 10x10 array with random values and find the minimum and maximum values (★☆☆) \n",
        "(**hint**: min, max)"
      ]
    },
    {
      "cell_type": "code",
      "execution_count": null,
      "metadata": {
        "colab": {
          "base_uri": "https://localhost:8080/"
        },
        "id": "g3hdqjV7v15t",
        "outputId": "30ce8a2f-772d-4d82-a019-645aa4425f7c"
      },
      "outputs": [
        {
          "output_type": "stream",
          "name": "stdout",
          "text": [
            "Minimum value in each row of matrix :\n",
            " [-1.21892832 -1.49031823 -0.83768347 -0.82668865 -2.24748569 -1.28160968\n",
            " -1.7503371  -2.122711   -0.61939355 -1.13886138]\n",
            "Maximum value in each column of matrix :\n",
            " [0.52205554 1.86565233 1.03475438 0.68056104 2.03091428 2.65948454\n",
            " 2.02648941 0.54222638 0.95993198 1.22532225]\n"
          ]
        }
      ],
      "source": [
        "E = np.random.randn(10,10)\n",
        "print('Minimum value in each row of matrix :\\n',E.min(axis = 0))\n",
        "print('Maximum value in each column of matrix :\\n',E.max(axis =1))"
      ]
    },
    {
      "cell_type": "markdown",
      "metadata": {
        "id": "Kf0vKEr-v15u"
      },
      "source": [
        "#### 14. Create a random vector of size 30 and find the mean value (★☆☆) \n",
        "(**hint**: mean)"
      ]
    },
    {
      "cell_type": "code",
      "execution_count": null,
      "metadata": {
        "colab": {
          "base_uri": "https://localhost:8080/"
        },
        "id": "tbnzUrI3v15u",
        "outputId": "cf22ea7a-e214-404a-b8a0-831e59c2c15b"
      },
      "outputs": [
        {
          "output_type": "stream",
          "name": "stdout",
          "text": [
            "[[48 78 27 80 58 99 74 76 13 79 12 23 80  6  7 90 38 27 38 13 16 48  2 40\n",
            "  30 34 69 45 87 55]]\n",
            "46.4\n"
          ]
        }
      ],
      "source": [
        "A = np.random.randint(100,size=(1,30))\n",
        "print(A)\n",
        "print(A.mean())"
      ]
    },
    {
      "cell_type": "markdown",
      "metadata": {
        "id": "aPk8hWLdv15u"
      },
      "source": [
        "#### 15. Create a 2d array with 1 on the border and 0 inside (★☆☆) \n",
        "(**hint**: array\\[1:-1, 1:-1\\])"
      ]
    },
    {
      "cell_type": "code",
      "execution_count": null,
      "metadata": {
        "colab": {
          "base_uri": "https://localhost:8080/"
        },
        "id": "u6H0jw_cv15v",
        "outputId": "c22af148-2144-4aa0-f4fb-73cd07a3add8"
      },
      "outputs": [
        {
          "output_type": "execute_result",
          "data": {
            "text/plain": [
              "array([[1., 1., 1., 1.],\n",
              "       [1., 0., 0., 1.],\n",
              "       [1., 0., 0., 1.],\n",
              "       [1., 1., 1., 1.]])"
            ]
          },
          "metadata": {},
          "execution_count": 16
        }
      ],
      "source": [
        "def pad_with(vector, pad_width, iaxis, kwargs):\n",
        "\n",
        "    pad_value = kwargs.get('padder', 10)\n",
        "    vector[:pad_width[0]] = pad_value\n",
        "    vector[-pad_width[1]:] = pad_value\n",
        "np.pad(np.zeros((2,2)), 1, pad_with, padder=1)"
      ]
    },
    {
      "cell_type": "markdown",
      "metadata": {
        "id": "jwSaw5_bv15v"
      },
      "source": [
        "#### 16. How to add a border (filled with 0's) around an existing array? (★☆☆) \n",
        "(**hint**: np.pad)"
      ]
    },
    {
      "cell_type": "code",
      "execution_count": null,
      "metadata": {
        "colab": {
          "base_uri": "https://localhost:8080/"
        },
        "id": "ceScQgEiv15v",
        "outputId": "f9d8ba49-9953-40fb-9d40-6574a9839102"
      },
      "outputs": [
        {
          "output_type": "execute_result",
          "data": {
            "text/plain": [
              "array([[ 0,  0,  0,  0,  0],\n",
              "       [ 0,  1, 38, 14,  0],\n",
              "       [ 0, 17, 26,  0,  0],\n",
              "       [ 0, 35, 24, 21,  0],\n",
              "       [ 0,  0,  0,  0,  0]])"
            ]
          },
          "metadata": {},
          "execution_count": 17
        }
      ],
      "source": [
        "array = np.random.randint(0,50, size = (3,3))\n",
        "np.pad(array, 1, pad_with, padder=0)"
      ]
    },
    {
      "cell_type": "markdown",
      "metadata": {
        "id": "8LzCNcMDv15w"
      },
      "source": [
        "#### 17. What is the result of the following expression? (★☆☆) \n",
        "(**hint**: NaN = not a number, inf = infinity)"
      ]
    },
    {
      "cell_type": "markdown",
      "metadata": {
        "id": "HfXxpVK8v15w"
      },
      "source": [
        "```python\n",
        "0 * np.nan\n",
        "np.nan == np.nan\n",
        "np.inf > np.nan\n",
        "np.nan - np.nan\n",
        "0.3 == 3 * 0.1\n",
        "```"
      ]
    },
    {
      "cell_type": "code",
      "execution_count": null,
      "metadata": {
        "colab": {
          "base_uri": "https://localhost:8080/"
        },
        "id": "5aJNZm1iv15x",
        "outputId": "031bdbbf-5eef-4521-f676-1d7097215237"
      },
      "outputs": [
        {
          "output_type": "execute_result",
          "data": {
            "text/plain": [
              "(nan, False, False, nan, False)"
            ]
          },
          "metadata": {},
          "execution_count": 18
        }
      ],
      "source": [
        "0 * np.nan,np.nan == np.nan,np.inf > np.nan,np.nan - np.nan,0.3 == 3 * 0.1"
      ]
    },
    {
      "cell_type": "markdown",
      "metadata": {
        "id": "8_9qLAIVv15x"
      },
      "source": [
        "#### 18. Create a 5x5 matrix with values 1,2,3,4 just below the diagonal (★☆☆) \n",
        "(**hint**: np.diag)"
      ]
    },
    {
      "cell_type": "code",
      "execution_count": null,
      "metadata": {
        "colab": {
          "base_uri": "https://localhost:8080/"
        },
        "id": "bVHTXGayv15x",
        "outputId": "0d40a9f1-7c14-4483-e352-0f208bb79391"
      },
      "outputs": [
        {
          "output_type": "stream",
          "name": "stdout",
          "text": [
            "[[2 4 3 2 4]\n",
            " [3 1 1 4 2]\n",
            " [4 2 2 3 4]\n",
            " [2 1 4 4 3]\n",
            " [3 2 2 3 1]]\n"
          ]
        },
        {
          "output_type": "execute_result",
          "data": {
            "text/plain": [
              "array([[2, 0, 0, 0, 0],\n",
              "       [3, 1, 0, 0, 0],\n",
              "       [4, 2, 2, 0, 0],\n",
              "       [2, 1, 4, 4, 0],\n",
              "       [3, 2, 2, 3, 1]])"
            ]
          },
          "metadata": {},
          "execution_count": 19
        }
      ],
      "source": [
        "A = np.random.choice([1,2,3,4],size = (5,5))\n",
        "print(A)\n",
        "np.tril(A, k=0)"
      ]
    },
    {
      "cell_type": "markdown",
      "metadata": {
        "id": "6pKFov_Lv15y"
      },
      "source": [
        "#### 19. Create a 8x8 matrix and fill it with a checkerboard pattern (★☆☆) \n",
        "(**hint**: array\\[::2\\])"
      ]
    },
    {
      "cell_type": "code",
      "execution_count": 77,
      "metadata": {
        "id": "3onLgTzvv15y",
        "colab": {
          "base_uri": "https://localhost:8080/"
        },
        "outputId": "a789d2a9-3001-4ecf-8ff6-ab01e7dd75b0"
      },
      "outputs": [
        {
          "output_type": "stream",
          "name": "stdout",
          "text": [
            "[[0 1 0 1 0 1 0 1]\n",
            " [1 0 1 0 1 0 1 0]\n",
            " [0 1 0 1 0 1 0 1]\n",
            " [1 0 1 0 1 0 1 0]\n",
            " [0 1 0 1 0 1 0 1]\n",
            " [1 0 1 0 1 0 1 0]\n",
            " [0 1 0 1 0 1 0 1]\n",
            " [1 0 1 0 1 0 1 0]]\n"
          ]
        }
      ],
      "source": [
        "Z = np.zeros((8,8),dtype=int)\n",
        "Z[1::2,::2] = 1\n",
        "Z[::2,1::2] = 1\n",
        "print(Z)"
      ]
    },
    {
      "cell_type": "markdown",
      "metadata": {
        "id": "qfzkkoCGv15y"
      },
      "source": [
        "#### 20. Consider a (6,7,8) shape array, what is the index (x,y,z) of the 100th element? \n",
        "(**hint**: np.unravel_index)"
      ]
    },
    {
      "cell_type": "code",
      "execution_count": null,
      "metadata": {
        "colab": {
          "base_uri": "https://localhost:8080/"
        },
        "id": "WZO1kTq3v15y",
        "outputId": "73be91a2-5313-40f9-9578-6df0be3830f1"
      },
      "outputs": [
        {
          "output_type": "execute_result",
          "data": {
            "text/plain": [
              "(1, 5, 4)"
            ]
          },
          "metadata": {},
          "execution_count": 20
        }
      ],
      "source": [
        "#array = np.random.randint(0,101, size = (6,7,8))\n",
        "np.unravel_index(100,shape =(6,7,8))"
      ]
    },
    {
      "cell_type": "markdown",
      "metadata": {
        "id": "UAKkBzwxv15y"
      },
      "source": [
        "#### 21. Create a checkerboard 8x8 matrix using the tile function (★☆☆) \n",
        "(**hint**: np.tile)"
      ]
    },
    {
      "cell_type": "code",
      "execution_count": null,
      "metadata": {
        "colab": {
          "base_uri": "https://localhost:8080/"
        },
        "id": "muDLUO-Av15z",
        "outputId": "f99bbf4c-5d4e-46ec-a5d5-e073eae2a383"
      },
      "outputs": [
        {
          "output_type": "execute_result",
          "data": {
            "text/plain": [
              "array([[1, 0, 1, 0, 1, 0, 1, 0],\n",
              "       [0, 1, 0, 1, 0, 1, 0, 1],\n",
              "       [1, 0, 1, 0, 1, 0, 1, 0],\n",
              "       [0, 1, 0, 1, 0, 1, 0, 1],\n",
              "       [1, 0, 1, 0, 1, 0, 1, 0],\n",
              "       [0, 1, 0, 1, 0, 1, 0, 1],\n",
              "       [1, 0, 1, 0, 1, 0, 1, 0],\n",
              "       [0, 1, 0, 1, 0, 1, 0, 1]])"
            ]
          },
          "metadata": {},
          "execution_count": 21
        }
      ],
      "source": [
        "array =[ [1,0],[0,1]]\n",
        "np.tile(array, (4, 4))"
      ]
    },
    {
      "cell_type": "markdown",
      "metadata": {
        "id": "bNqN1d8jv15z"
      },
      "source": [
        "#### 22. Normalize a 5x5 random matrix (★☆☆) \n",
        "(**hint**: (x - min) / (max - min))"
      ]
    },
    {
      "cell_type": "code",
      "execution_count": null,
      "metadata": {
        "colab": {
          "base_uri": "https://localhost:8080/"
        },
        "id": "KzeKTaudv15z",
        "outputId": "9d3f57a2-9e9a-490b-d934-eb6f4b4ec24d"
      },
      "outputs": [
        {
          "output_type": "stream",
          "name": "stdout",
          "text": [
            "[[ 37  87  20   6  30]\n",
            " [ 55  96  96  34  58]\n",
            " [ 37  33  37  55  69]\n",
            " [ 90  54  75  49 100]\n",
            " [ 22  16  31  36 100]]\n"
          ]
        },
        {
          "output_type": "execute_result",
          "data": {
            "text/plain": [
              "array([[0.32978723, 0.86170213, 0.14893617, 0.        , 0.25531915],\n",
              "       [0.5212766 , 0.95744681, 0.95744681, 0.29787234, 0.55319149],\n",
              "       [0.32978723, 0.28723404, 0.32978723, 0.5212766 , 0.67021277],\n",
              "       [0.89361702, 0.5106383 , 0.73404255, 0.45744681, 1.        ],\n",
              "       [0.17021277, 0.10638298, 0.26595745, 0.31914894, 1.        ]])"
            ]
          },
          "metadata": {},
          "execution_count": 22
        }
      ],
      "source": [
        "array = np.random.randint(0,101,size=(5,5))\n",
        "print(array)\n",
        "(array -array.min())/(array.max()- array.min())"
      ]
    },
    {
      "cell_type": "markdown",
      "metadata": {
        "id": "0Bq_u4Wov150"
      },
      "source": [
        "#### 23. Create a custom dtype that describes a color as four unsigned bytes (RGBA) (★☆☆) \n",
        "(**hint**: np.dtype)"
      ]
    },
    {
      "cell_type": "code",
      "execution_count": 79,
      "metadata": {
        "collapsed": true,
        "id": "xRfYewgev150"
      },
      "outputs": [],
      "source": [
        "color = np.dtype([(\"r\", np.ubyte),\n",
        "                  (\"g\", np.ubyte),\n",
        "                  (\"b\", np.ubyte),\n",
        "                  (\"a\", np.ubyte)])"
      ]
    },
    {
      "cell_type": "markdown",
      "metadata": {
        "id": "uc-UQDhHv151"
      },
      "source": [
        "#### 24. Multiply a 5x3 matrix by a 3x2 matrix (real matrix product) (★☆☆) \n",
        "(**hint**: np.dot | @)"
      ]
    },
    {
      "cell_type": "code",
      "execution_count": null,
      "metadata": {
        "colab": {
          "base_uri": "https://localhost:8080/"
        },
        "id": "KGO-_mDUv151",
        "outputId": "d198d1cc-c41c-40a4-8dc0-8c55d8a04a4d"
      },
      "outputs": [
        {
          "output_type": "execute_result",
          "data": {
            "text/plain": [
              "array([[88, 57],\n",
              "       [76, 50],\n",
              "       [33, 21],\n",
              "       [66, 17],\n",
              "       [53, 40]])"
            ]
          },
          "metadata": {},
          "execution_count": 23
        }
      ],
      "source": [
        "a= np.random.randint(1,10, size=(5,3))\n",
        "b= np.random.randint(1,10, size=(3,2))\n",
        "a.dot(b)"
      ]
    },
    {
      "cell_type": "markdown",
      "metadata": {
        "id": "T7esd7X1v152"
      },
      "source": [
        "#### 25. Given a 1D array, negate all elements which are between 3 and 8, in place. (★☆☆) \n",
        "(**hint**: >, <=)"
      ]
    },
    {
      "cell_type": "code",
      "execution_count": null,
      "metadata": {
        "colab": {
          "base_uri": "https://localhost:8080/"
        },
        "id": "0x_Bk5Hiv152",
        "outputId": "1a7b8aef-122f-4f09-c99f-e76dd2591d28"
      },
      "outputs": [
        {
          "output_type": "stream",
          "name": "stdout",
          "text": [
            "[[7 7 9 2 2 6 5 8 2 1 3 2 9]]\n",
            "[[-7 -7  9 -2 -2 -6 -5 -8 -2 -1 -3 -2  9]]\n"
          ]
        }
      ],
      "source": [
        "array = np.random.randint(1,10, size=(1,13))\n",
        "b = np.where((array>3) & (array>8), array, -array)\n",
        "print(array)\n",
        "print(b)"
      ]
    },
    {
      "cell_type": "markdown",
      "metadata": {
        "id": "SiT1bvnnv153"
      },
      "source": [
        "#### 26. What is the output of the following script? (★☆☆) \n",
        "(**hint**: np.sum)"
      ]
    },
    {
      "cell_type": "markdown",
      "metadata": {
        "id": "_mD5JIFFv153"
      },
      "source": [
        "```python\n",
        "# Author: Jake VanderPlas\n",
        "\n",
        "print(sum(range(5),-1))\n",
        "from numpy import *\n",
        "print(sum(range(5),-1))\n",
        "```"
      ]
    },
    {
      "cell_type": "code",
      "execution_count": null,
      "metadata": {
        "colab": {
          "base_uri": "https://localhost:8080/"
        },
        "id": "jnMHrua2v154",
        "outputId": "f448cdcf-fd05-4381-efea-d3dfa9c77968"
      },
      "outputs": [
        {
          "output_type": "stream",
          "name": "stdout",
          "text": [
            "9\n",
            "10\n"
          ]
        }
      ],
      "source": [
        "print(sum(range(5),-1))\n",
        "from numpy import *\n",
        "print(sum(range(5),-1))"
      ]
    },
    {
      "cell_type": "markdown",
      "source": [],
      "metadata": {
        "id": "d_L0pyh9T0rA"
      }
    },
    {
      "cell_type": "markdown",
      "metadata": {
        "id": "QJsh8H9Rv154"
      },
      "source": [
        "#### 27. Consider an integer vector Z, which of these expressions are legal? (★☆☆)"
      ]
    },
    {
      "cell_type": "markdown",
      "metadata": {
        "id": "IGzBb1euv154"
      },
      "source": [
        "```python\n",
        "Z**Z\n",
        "2 << Z >> 2\n",
        "Z <- Z\n",
        "1j*Z\n",
        "Z/1/1\n",
        "Z<Z>Z\n",
        "```"
      ]
    },
    {
      "cell_type": "code",
      "execution_count": null,
      "metadata": {
        "colab": {
          "base_uri": "https://localhost:8080/"
        },
        "id": "-AUQmlDJv155",
        "outputId": "e152fcc3-27d9-4393-8bb9-f0550a6682ca"
      },
      "outputs": [
        {
          "output_type": "stream",
          "name": "stdout",
          "text": [
            "[[27  4 11 81 17 85 79 16 83 31]]\n",
            "[[-5278486589563110205                  256         285311670611\n",
            "  -3264474685660004015 -2863221430593058543  3792227444683241861\n",
            "   1483551237918615471                    0  2536461848307888459\n",
            "  -4642015662142636065]]\n",
            "[[  67108864          8       1024          0      65536          0\n",
            "           0      32768          0 1073741824]]\n",
            "[[False False False False False False False False False False]]\n",
            "[[0.+27.j 0. +4.j 0.+11.j 0.+81.j 0.+17.j 0.+85.j 0.+79.j 0.+16.j 0.+83.j\n",
            "  0.+31.j]]\n",
            "[[27.  4. 11. 81. 17. 85. 79. 16. 83. 31.]]\n",
            "illegal operation : 'Z<Z>Z' \n"
          ]
        }
      ],
      "source": [
        "Z = np.random.randint(0,101, size=(1,10))\n",
        "print(Z)\n",
        "print(Z**Z) \n",
        "print(2 << Z >> 2) # Bitwise operation : << left shift; >> right shift\n",
        "print(Z <- Z)\n",
        "print(1j*Z)\n",
        "print(Z/1/1)\n",
        "print(\"illegal operation : 'Z<Z>Z' \")\n",
        "\n"
      ]
    },
    {
      "cell_type": "markdown",
      "metadata": {
        "id": "af4HBdnyv155"
      },
      "source": [
        "#### 28. What are the result of the following expressions?"
      ]
    },
    {
      "cell_type": "markdown",
      "metadata": {
        "id": "eEQzh7pXv155"
      },
      "source": [
        "```python\n",
        "np.array(0) / np.array(0)\n",
        "np.array(0) // np.array(0)\n",
        "np.array([np.nan]).astype(int).astype(float)\n",
        "```"
      ]
    },
    {
      "cell_type": "code",
      "execution_count": null,
      "metadata": {
        "colab": {
          "base_uri": "https://localhost:8080/"
        },
        "id": "ZXEdx3JZv155",
        "outputId": "cdc73270-8986-477b-b339-cce69015fff9"
      },
      "outputs": [
        {
          "output_type": "stream",
          "name": "stdout",
          "text": [
            "nan\n",
            "0\n",
            "[-9.22337204e+18]\n"
          ]
        },
        {
          "output_type": "stream",
          "name": "stderr",
          "text": [
            "/usr/local/lib/python3.7/dist-packages/ipykernel_launcher.py:1: RuntimeWarning: invalid value encountered in true_divide\n",
            "  \"\"\"Entry point for launching an IPython kernel.\n",
            "/usr/local/lib/python3.7/dist-packages/ipykernel_launcher.py:2: RuntimeWarning: divide by zero encountered in floor_divide\n",
            "  \n"
          ]
        }
      ],
      "source": [
        "print(np.array(0) / np.array(0) )\n",
        "print(np.array(0) // np.array(0) )\n",
        "print(np.array([np.nan]).astype(int).astype(float) )\n",
        "\n"
      ]
    },
    {
      "cell_type": "markdown",
      "metadata": {
        "id": "YQ5pfn3wv156"
      },
      "source": [
        "#### 29. How to round away from zero a float array ? (★☆☆) \n",
        "(**hint**: np.uniform, np.copysign, np.ceil, np.abs)"
      ]
    },
    {
      "cell_type": "code",
      "execution_count": null,
      "metadata": {
        "colab": {
          "base_uri": "https://localhost:8080/"
        },
        "id": "IVtA33sLv156",
        "outputId": "8b191094-b922-4d17-c291-89a3d435e40e"
      },
      "outputs": [
        {
          "output_type": "stream",
          "name": "stdout",
          "text": [
            "99.7\n",
            "100.0\n",
            "99.0\n"
          ]
        }
      ],
      "source": [
        "print(np.abs(-99.7))\n",
        "print(np.ceil(99.7))\n",
        "print(np.floor(99.7))"
      ]
    },
    {
      "cell_type": "markdown",
      "metadata": {
        "id": "TaCB8Lcpv156"
      },
      "source": [
        "#### 30. How to find common values between two arrays? (★☆☆) \n",
        "(**hint**: np.intersect1d)"
      ]
    },
    {
      "cell_type": "code",
      "execution_count": null,
      "metadata": {
        "colab": {
          "base_uri": "https://localhost:8080/"
        },
        "id": "0YKP4cmdv157",
        "outputId": "0419362a-469c-42cb-90c8-206f9ed0a56f"
      },
      "outputs": [
        {
          "output_type": "stream",
          "name": "stdout",
          "text": [
            "[[13 10 18  8 14  8  0  2  7 19]] [[10  4  7  0  9  5  6  1  0  2]]\n",
            "[ 0  2  7 10]\n"
          ]
        }
      ],
      "source": [
        "A = np.random.randint(0,21, size=(1,10))\n",
        "B = np.random.randint(0,11, size=(1,10))\n",
        "print(A,B)\n",
        "print(np.intersect1d(A,B))"
      ]
    },
    {
      "cell_type": "markdown",
      "metadata": {
        "id": "eWuWx-qEv157"
      },
      "source": [
        "#### 31. How to ignore all numpy warnings (not recommended)? (★☆☆) \n",
        "(**hint**: np.seterr, np.errstate)"
      ]
    },
    {
      "cell_type": "code",
      "execution_count": null,
      "metadata": {
        "colab": {
          "base_uri": "https://localhost:8080/"
        },
        "id": "qoW4cOxUv158",
        "outputId": "9ff5f0e3-7a9b-4d4e-8bc1-ab39431b0c7c"
      },
      "outputs": [
        {
          "output_type": "stream",
          "name": "stdout",
          "text": [
            "nan\n"
          ]
        },
        {
          "output_type": "stream",
          "name": "stderr",
          "text": [
            "/usr/local/lib/python3.7/dist-packages/ipykernel_launcher.py:4: RuntimeWarning: invalid value encountered in true_divide\n",
            "  after removing the cwd from sys.path.\n"
          ]
        }
      ],
      "source": [
        "# Division by zero \n",
        "np.seterr(all = 'warn')\n",
        "with np.errstate(divide ='print') :\n",
        "    print(np.array(0) / np.array(0)) "
      ]
    },
    {
      "cell_type": "code",
      "source": [
        "\n",
        "with np.errstate(divide ='ignore') :\n",
        "    print(5 / np.array(0)) "
      ],
      "metadata": {
        "colab": {
          "base_uri": "https://localhost:8080/"
        },
        "id": "E-lA0FGrBytd",
        "outputId": "d5f31241-0531-4bf0-fc12-46867a128d8c"
      },
      "execution_count": null,
      "outputs": [
        {
          "output_type": "stream",
          "name": "stdout",
          "text": [
            "inf\n"
          ]
        }
      ]
    },
    {
      "cell_type": "code",
      "source": [
        "5/np.array(0)"
      ],
      "metadata": {
        "colab": {
          "base_uri": "https://localhost:8080/"
        },
        "id": "JJF9xrHyCWYY",
        "outputId": "998dd751-ab0c-4db2-a1d5-c84555f5f513"
      },
      "execution_count": null,
      "outputs": [
        {
          "output_type": "stream",
          "name": "stderr",
          "text": [
            "/usr/local/lib/python3.7/dist-packages/ipykernel_launcher.py:1: RuntimeWarning: divide by zero encountered in true_divide\n",
            "  \"\"\"Entry point for launching an IPython kernel.\n"
          ]
        },
        {
          "output_type": "execute_result",
          "data": {
            "text/plain": [
              "inf"
            ]
          },
          "metadata": {},
          "execution_count": 32
        }
      ]
    },
    {
      "cell_type": "markdown",
      "metadata": {
        "id": "lyWAJWn-v158"
      },
      "source": [
        "#### 32. Is the following expressions true? (★☆☆) \n",
        "(**hint**: imaginary number)"
      ]
    },
    {
      "cell_type": "markdown",
      "metadata": {
        "id": "aakFWckLv158"
      },
      "source": [
        "```python\n",
        "np.sqrt(-1) == np.emath.sqrt(-1)\n",
        "```"
      ]
    },
    {
      "cell_type": "code",
      "execution_count": null,
      "metadata": {
        "colab": {
          "base_uri": "https://localhost:8080/"
        },
        "id": "_zkhn8gUv158",
        "outputId": "91f48a0a-72fd-4ea0-ac18-446deb966485"
      },
      "outputs": [
        {
          "output_type": "stream",
          "name": "stdout",
          "text": [
            "False\n"
          ]
        },
        {
          "output_type": "stream",
          "name": "stderr",
          "text": [
            "/usr/local/lib/python3.7/dist-packages/ipykernel_launcher.py:1: RuntimeWarning: invalid value encountered in sqrt\n",
            "  \"\"\"Entry point for launching an IPython kernel.\n"
          ]
        }
      ],
      "source": [
        "print(np.sqrt(-1) == np.emath.sqrt(-1))"
      ]
    },
    {
      "cell_type": "markdown",
      "metadata": {
        "id": "EaHCtdfHv158"
      },
      "source": [
        "#### 33. How to get the dates of yesterday, today and tomorrow? (★☆☆) \n",
        "(**hint**: np.datetime64, np.timedelta64)"
      ]
    },
    {
      "cell_type": "code",
      "execution_count": null,
      "metadata": {
        "collapsed": true,
        "colab": {
          "base_uri": "https://localhost:8080/"
        },
        "id": "ugGuAlIjv159",
        "outputId": "b736dde7-a97c-44ce-9ace-e9a2995e8b28"
      },
      "outputs": [
        {
          "output_type": "stream",
          "name": "stdout",
          "text": [
            "Yesterday date: 2022-09-16T11:21:20.063430\n",
            "Today's date: 2022-09-16T11:21:20.063430\n",
            "Tomorrow's date: 2022-09-16T11:21:20.063430\n"
          ]
        }
      ],
      "source": [
        "from datetime import datetime\n",
        "today =datetime.today()\n",
        "np_yst = np.datetime64(today) - np.timedelta64(1, 'D') \n",
        "np_today = np.datetime64(today)\n",
        "np_tm = np.datetime64(today) +np.timedelta64(1, 'D')\n",
        "print(\"Yesterday date:\",np_today)\n",
        "print(\"Today's date:\",np_today)\n",
        "print(\"Tomorrow's date:\", np_today)"
      ]
    },
    {
      "cell_type": "markdown",
      "metadata": {
        "id": "Ym6SzBSnv159"
      },
      "source": [
        "#### 34. How to get all the dates corresponding to the month of July 2016? (★★☆) \n",
        "(**hint**: np.arange(dtype=datetime64\\['D'\\]))"
      ]
    },
    {
      "cell_type": "code",
      "execution_count": null,
      "metadata": {
        "colab": {
          "base_uri": "https://localhost:8080/"
        },
        "id": "k8uDtU55v159",
        "outputId": "ae34a254-8f71-48e1-f30f-de0aa98fb6b9"
      },
      "outputs": [
        {
          "output_type": "execute_result",
          "data": {
            "text/plain": [
              "array(['2016-07-01', '2016-07-02', '2016-07-03', '2016-07-04',\n",
              "       '2016-07-05', '2016-07-06', '2016-07-07', '2016-07-08',\n",
              "       '2016-07-09', '2016-07-10', '2016-07-11', '2016-07-12',\n",
              "       '2016-07-13', '2016-07-14', '2016-07-15', '2016-07-16',\n",
              "       '2016-07-17', '2016-07-18', '2016-07-19', '2016-07-20',\n",
              "       '2016-07-21', '2016-07-22', '2016-07-23', '2016-07-24',\n",
              "       '2016-07-25', '2016-07-26', '2016-07-27', '2016-07-28',\n",
              "       '2016-07-29', '2016-07-30', '2016-07-31'], dtype='datetime64[D]')"
            ]
          },
          "metadata": {},
          "execution_count": 35
        }
      ],
      "source": [
        "np.arange(np.datetime64('2016-07-01'),np.datetime64('2016-08-01'))"
      ]
    },
    {
      "cell_type": "markdown",
      "metadata": {
        "id": "6-GjlnGdv15-"
      },
      "source": [
        "#### 35. How to compute ((A+B)\\*(-A/2)) in place (without copy)? (★★☆) \n",
        "(**hint**: np.add(out=), np.negative(out=), np.multiply(out=), np.divide(out=))"
      ]
    },
    {
      "cell_type": "code",
      "execution_count": null,
      "metadata": {
        "colab": {
          "base_uri": "https://localhost:8080/"
        },
        "id": "PDyGVdnAv15-",
        "outputId": "05432143-d182-4904-b3a4-63b32d095dd8"
      },
      "outputs": [
        {
          "output_type": "execute_result",
          "data": {
            "text/plain": [
              "-408.5"
            ]
          },
          "metadata": {},
          "execution_count": 36
        }
      ],
      "source": [
        "A =19\n",
        "B =24\n",
        "np.multiply(np.add(A,B),np.divide(-A,2))"
      ]
    },
    {
      "cell_type": "markdown",
      "metadata": {
        "id": "dlb1rDYOv15-"
      },
      "source": [
        "#### 36. Extract the integer part of a random array using 5 different methods (★★☆) \n",
        "(**hint**: %, np.floor, np.ceil, astype, np.trunc)"
      ]
    },
    {
      "cell_type": "code",
      "execution_count": null,
      "metadata": {
        "colab": {
          "base_uri": "https://localhost:8080/"
        },
        "id": "2pSMz97Mv15-",
        "outputId": "2ab9d1dc-5045-4ba1-bb6a-0e5ee9ebb622"
      },
      "outputs": [
        {
          "output_type": "stream",
          "name": "stdout",
          "text": [
            "[[63.20302273 87.49243153 28.76100594 16.38951927 47.64242333 59.5742273\n",
            "  34.88901207 38.74701473 40.1313394  14.71506541]]\n",
            "[[63. 87. 28. 16. 47. 59. 34. 38. 40. 14.]]\n",
            "[[63. 87. 28. 16. 47. 59. 34. 38. 40. 14.]]\n",
            "[[63 87 28 16 47 59 34 38 40 14]]\n",
            "[[64. 88. 29. 17. 48. 60. 35. 39. 41. 15.]]\n",
            "[[63. 87. 28. 16. 47. 59. 34. 38. 40. 14.]]\n"
          ]
        }
      ],
      "source": [
        "array = np.random.random(size=(1,10))*100\n",
        "print(array)\n",
        "print(array//1)\n",
        "print(np.floor(array))\n",
        "print(array.astype('int'))\n",
        "print(np.ceil(array))\n",
        "print(np.trunc(array))"
      ]
    },
    {
      "cell_type": "markdown",
      "metadata": {
        "id": "-P1EwpHvv15-"
      },
      "source": [
        "#### 37. Create a 5x5 matrix with row values ranging from 0 to 4 (★★☆) \n",
        "(**hint**: np.arange)"
      ]
    },
    {
      "cell_type": "code",
      "execution_count": null,
      "metadata": {
        "colab": {
          "base_uri": "https://localhost:8080/"
        },
        "id": "yEo2N54iv15_",
        "outputId": "86b8e8c5-f271-4f80-c2e8-7990ed5b55bc"
      },
      "outputs": [
        {
          "output_type": "execute_result",
          "data": {
            "text/plain": [
              "array([[2, 4, 2, 1, 2],\n",
              "       [3, 1, 2, 2, 2],\n",
              "       [2, 1, 1, 1, 4],\n",
              "       [1, 1, 1, 3, 3],\n",
              "       [4, 4, 0, 1, 0]])"
            ]
          },
          "metadata": {},
          "execution_count": 38
        }
      ],
      "source": [
        "np.random.randint(0,5,size=(5,5))"
      ]
    },
    {
      "cell_type": "markdown",
      "metadata": {
        "id": "wZDiOMsnv15_"
      },
      "source": [
        "#### 38. Consider a generator function that generates 10 integers and use it to build an array (★☆☆) \n",
        "(**hint**: np.fromiter)"
      ]
    },
    {
      "cell_type": "code",
      "execution_count": null,
      "metadata": {
        "colab": {
          "base_uri": "https://localhost:8080/"
        },
        "id": "KufVBGsXv15_",
        "outputId": "bd439e71-377a-41f1-91c3-cd220b240fa1"
      },
      "outputs": [
        {
          "output_type": "execute_result",
          "data": {
            "text/plain": [
              "array([ 0,  1,  2,  3,  4,  5,  6,  7,  8,  9, 10])"
            ]
          },
          "metadata": {},
          "execution_count": 39
        }
      ],
      "source": [
        "iterator = [i for i in range(0,11)]\n",
        "np.fromiter(iterator,dtype = int)"
      ]
    },
    {
      "cell_type": "markdown",
      "metadata": {
        "id": "h9-nZZqmv15_"
      },
      "source": [
        "#### 39. Create a vector of size 10 with values ranging from 0 to 1, both excluded (★★☆) \n",
        "(**hint**: np.linspace)"
      ]
    },
    {
      "cell_type": "code",
      "execution_count": null,
      "metadata": {
        "colab": {
          "base_uri": "https://localhost:8080/"
        },
        "id": "lqiOc26Iv15_",
        "outputId": "6c056003-07f1-4912-ff43-c33f5a41bfc9"
      },
      "outputs": [
        {
          "output_type": "execute_result",
          "data": {
            "text/plain": [
              "array([0.68807449, 0.28159328, 0.6285564 , 0.82650647, 0.84704618,\n",
              "       0.21013907, 0.23960275, 0.85766044, 0.03183557, 0.25749203])"
            ]
          },
          "metadata": {},
          "execution_count": 40
        }
      ],
      "source": [
        "np.random.random(10)"
      ]
    },
    {
      "cell_type": "markdown",
      "metadata": {
        "id": "yZbMvJRtv15_"
      },
      "source": [
        "#### 40. Create a random vector of size 10 and sort it (★★☆) \n",
        "(**hint**: sort)"
      ]
    },
    {
      "cell_type": "code",
      "execution_count": null,
      "metadata": {
        "colab": {
          "base_uri": "https://localhost:8080/"
        },
        "id": "QZEhoA7mv16A",
        "outputId": "066f6564-4efa-43f9-c8b2-62816b1e55ce"
      },
      "outputs": [
        {
          "output_type": "stream",
          "name": "stdout",
          "text": [
            "[[ 5 34 94 23 52 44 47 22 47  7]]\n",
            "[[ 5  7 22 23 34 44 47 47 52 94]]\n"
          ]
        }
      ],
      "source": [
        "array = np.random.randint(100, size=(1,10))\n",
        "print(array)\n",
        "print(np.sort(array))"
      ]
    },
    {
      "cell_type": "markdown",
      "metadata": {
        "id": "ASAAQu91v16A"
      },
      "source": [
        "#### 41. How to sum a small array faster than np.sum? (★★☆) \n",
        "(**hint**: np.add.reduce)"
      ]
    },
    {
      "cell_type": "code",
      "execution_count": null,
      "metadata": {
        "colab": {
          "base_uri": "https://localhost:8080/"
        },
        "id": "Cl70w38Iv16A",
        "outputId": "7f7d77d7-4a29-468a-ef7d-a14d8afc7839"
      },
      "outputs": [
        {
          "output_type": "stream",
          "name": "stdout",
          "text": [
            "[420]\n",
            "0.0003647804260253906\n"
          ]
        }
      ],
      "source": [
        "array = np.random.randint(100, size=(1,10))\n",
        "\n",
        "import time\n",
        "\n",
        "start = time.time()\n",
        "print(np.add.reduce(array,axis =1))\n",
        "end = time.time()\n",
        "print(end - start)"
      ]
    },
    {
      "cell_type": "code",
      "source": [
        "start = time.time()\n",
        "print(np.sum(array,axis =1))\n",
        "end = time.time()\n",
        "print(end - start)"
      ],
      "metadata": {
        "id": "2VxLuZ8JMWv7",
        "outputId": "05fd8eb3-e83e-44a6-c739-e5419fd0f2b0",
        "colab": {
          "base_uri": "https://localhost:8080/"
        }
      },
      "execution_count": null,
      "outputs": [
        {
          "output_type": "stream",
          "name": "stdout",
          "text": [
            "[420]\n",
            "0.00043392181396484375\n"
          ]
        }
      ]
    },
    {
      "cell_type": "markdown",
      "metadata": {
        "id": "x96eHHfbv16A"
      },
      "source": [
        "*italicized text*#### 42. Consider two random array A and B, check if they are equal (★★☆) \n",
        "(**hint**: np.allclose, np.array\\_equal)"
      ]
    },
    {
      "cell_type": "code",
      "execution_count": null,
      "metadata": {
        "id": "vhpEIaiyv16B",
        "colab": {
          "base_uri": "https://localhost:8080/"
        },
        "outputId": "b610caf4-7bf6-4262-9814-d9cdc8943158"
      },
      "outputs": [
        {
          "output_type": "stream",
          "name": "stdout",
          "text": [
            "False\n",
            "False\n"
          ]
        }
      ],
      "source": [
        "A = np.random.randint(0,2,5)\n",
        "B = np.random.randint(0,2,5)\n",
        "print(np.allclose(A,B))\n",
        "print(np.array_equal(A,B))"
      ]
    },
    {
      "cell_type": "markdown",
      "metadata": {
        "id": "1QEw32Hlv16B"
      },
      "source": [
        "#### 43. Make an array immutable (read-only) (★★☆) \n",
        "(**hint**: flags.writeable)"
      ]
    },
    {
      "cell_type": "code",
      "execution_count": null,
      "metadata": {
        "id": "qjEPeCcNv16C",
        "colab": {
          "base_uri": "https://localhost:8080/",
          "height": 218
        },
        "outputId": "f7a2bc22-50bd-4e36-d4f8-99d59e19cd7b"
      },
      "outputs": [
        {
          "output_type": "stream",
          "name": "stdout",
          "text": [
            "Array : [1 0 1 0 1]\n"
          ]
        },
        {
          "output_type": "error",
          "ename": "ValueError",
          "evalue": "ignored",
          "traceback": [
            "\u001b[0;31m---------------------------------------------------------------------------\u001b[0m",
            "\u001b[0;31mValueError\u001b[0m                                Traceback (most recent call last)",
            "\u001b[0;32m<ipython-input-45-24a3712558ce>\u001b[0m in \u001b[0;36m<module>\u001b[0;34m\u001b[0m\n\u001b[1;32m      3\u001b[0m \u001b[0;31m# Turn flags.writable method on array equal to False , to turn it immutable\u001b[0m\u001b[0;34m\u001b[0m\u001b[0;34m\u001b[0m\u001b[0;34m\u001b[0m\u001b[0m\n\u001b[1;32m      4\u001b[0m \u001b[0mA\u001b[0m\u001b[0;34m.\u001b[0m\u001b[0mflags\u001b[0m\u001b[0;34m.\u001b[0m\u001b[0mwriteable\u001b[0m \u001b[0;34m=\u001b[0m \u001b[0;32mFalse\u001b[0m\u001b[0;34m\u001b[0m\u001b[0;34m\u001b[0m\u001b[0m\n\u001b[0;32m----> 5\u001b[0;31m \u001b[0mA\u001b[0m\u001b[0;34m[\u001b[0m\u001b[0;36m0\u001b[0m\u001b[0;34m]\u001b[0m \u001b[0;34m=\u001b[0m\u001b[0;36m9\u001b[0m\u001b[0;34m\u001b[0m\u001b[0;34m\u001b[0m\u001b[0m\n\u001b[0m",
            "\u001b[0;31mValueError\u001b[0m: assignment destination is read-only"
          ]
        }
      ],
      "source": [
        "A = np.random.randint(0,2,5)\n",
        "print('Array :',A)\n",
        "# Turn flags.writable method on array equal to False , to turn it immutable\n",
        "A.flags.writeable = False\n",
        "A[0] =9\n"
      ]
    },
    {
      "cell_type": "markdown",
      "metadata": {
        "id": "rIrtMxMIv16C"
      },
      "source": [
        "#### 44. Consider a random 10x2 matrix representing cartesian coordinates, convert them to polar coordinates (★★☆) \n",
        "(**hint**: np.sqrt, np.arctan2)"
      ]
    },
    {
      "cell_type": "code",
      "execution_count": null,
      "metadata": {
        "id": "zfkvJnZmv16C"
      },
      "outputs": [],
      "source": [
        "coord = np.random.randint(100, size = (10,2))\n",
        "rad = np.sqrt(coord[:,0]**2 + coord[:,1]**2)\n",
        "theta = np.arctan2(coord[:,0],coord[:,1])\n",
        "pol_coord = list(zip(rad,theta))"
      ]
    },
    {
      "cell_type": "code",
      "source": [
        "pol_coord"
      ],
      "metadata": {
        "colab": {
          "base_uri": "https://localhost:8080/"
        },
        "id": "visTVOR9zctH",
        "outputId": "f48df3eb-0393-498d-9c72-37ab5fa6c98b"
      },
      "execution_count": null,
      "outputs": [
        {
          "output_type": "execute_result",
          "data": {
            "text/plain": [
              "[(74.94664769020693, 1.0235119458074597),\n",
              " (99.32270636667126, 0.08063287594517382),\n",
              " (97.082439194738, 1.1347914444368148),\n",
              " (131.52946437965906, 0.7961504371885495),\n",
              " (127.91403363196706, 0.6857295109062863),\n",
              " (112.76967677527502, 1.0714496051147666),\n",
              " (97.082439194738, 1.1347914444368148),\n",
              " (66.007575322837, 1.555645970920127),\n",
              " (110.9414259868693, 0.9777937649133708),\n",
              " (89.87213138676528, 0.9673628493566343)]"
            ]
          },
          "metadata": {},
          "execution_count": 47
        }
      ]
    },
    {
      "cell_type": "markdown",
      "metadata": {
        "id": "sI9RqX_3v16C"
      },
      "source": [
        "#### 45. Create random vector of size 10 and replace the maximum value by 0 (★★☆) \n",
        "(**hint**: argmax)"
      ]
    },
    {
      "cell_type": "code",
      "execution_count": null,
      "metadata": {
        "id": "8JKJ81zcv16C",
        "colab": {
          "base_uri": "https://localhost:8080/"
        },
        "outputId": "0e2688dd-06de-4410-9972-4ee1bc4baf00"
      },
      "outputs": [
        {
          "output_type": "stream",
          "name": "stdout",
          "text": [
            "[[63 70 17 82 66 12  7 95 98 52]]\n",
            "[[63 70 17 82 66 12  7 95  0 52]]\n"
          ]
        }
      ],
      "source": [
        "array = np.random.randint(100, size = (1,10))\n",
        "print(array)\n",
        "array[0,array.argmax()] = 0 \n",
        "print(array)"
      ]
    },
    {
      "cell_type": "code",
      "source": [
        "array[0,9]"
      ],
      "metadata": {
        "colab": {
          "base_uri": "https://localhost:8080/"
        },
        "id": "Ztnl6ZYjN0Bs",
        "outputId": "61fd1b08-38f9-4535-8645-f3b10468a767"
      },
      "execution_count": null,
      "outputs": [
        {
          "output_type": "execute_result",
          "data": {
            "text/plain": [
              "52"
            ]
          },
          "metadata": {},
          "execution_count": 49
        }
      ]
    },
    {
      "cell_type": "markdown",
      "metadata": {
        "id": "NMNnFpfNv16D"
      },
      "source": [
        "#### 46. Create a structured array with `x` and `y` coordinates covering the \\[0,1\\]x\\[0,1\\] area (★★☆) \n",
        "(**hint**: np.meshgrid)"
      ]
    },
    {
      "cell_type": "code",
      "execution_count": null,
      "metadata": {
        "id": "KxuG4PzJv16D",
        "colab": {
          "base_uri": "https://localhost:8080/"
        },
        "outputId": "f00bf2d0-addb-4721-aedd-8a4e3c46196e"
      },
      "outputs": [
        {
          "output_type": "stream",
          "name": "stdout",
          "text": [
            "[[(0.        , 0.        ) (0.33333333, 0.        )\n",
            "  (0.66666667, 0.        ) (1.        , 0.        )]\n",
            " [(0.        , 0.33333333) (0.33333333, 0.33333333)\n",
            "  (0.66666667, 0.33333333) (1.        , 0.33333333)]\n",
            " [(0.        , 0.66666667) (0.33333333, 0.66666667)\n",
            "  (0.66666667, 0.66666667) (1.        , 0.66666667)]\n",
            " [(0.        , 1.        ) (0.33333333, 1.        )\n",
            "  (0.66666667, 1.        ) (1.        , 1.        )]]\n"
          ]
        }
      ],
      "source": [
        "z = zeros((4,4),dtype=[('x', 'float'), ('y', 'float')])\n",
        "z['x'],z['y']= np.meshgrid(np.linspace(0,1,4), np.linspace(0,1,4))\n",
        "print(z)"
      ]
    },
    {
      "cell_type": "markdown",
      "metadata": {
        "id": "_HJjzI2Yv16E"
      },
      "source": [
        "####  47. Given two arrays, X and Y, construct the Cauchy matrix C (Cij =1/(xi - yj)) \n",
        "(**hint**: np.subtract.outer)"
      ]
    },
    {
      "cell_type": "code",
      "source": [
        "x1 = np.arange(9.0).reshape((3, 3))\n",
        "x2 = np.arange(3.0)\n",
        "print(x1,x2)\n",
        "np.subtract(x1, x2)\n"
      ],
      "metadata": {
        "colab": {
          "base_uri": "https://localhost:8080/"
        },
        "id": "In5cpKUBYCQr",
        "outputId": "46c0dcd4-8de3-4744-9449-add91c7c6fd5"
      },
      "execution_count": null,
      "outputs": [
        {
          "output_type": "stream",
          "name": "stdout",
          "text": [
            "[[0. 1. 2.]\n",
            " [3. 4. 5.]\n",
            " [6. 7. 8.]] [0. 1. 2.]\n"
          ]
        },
        {
          "output_type": "execute_result",
          "data": {
            "text/plain": [
              "array([[0., 0., 0.],\n",
              "       [3., 3., 3.],\n",
              "       [6., 6., 6.]])"
            ]
          },
          "metadata": {},
          "execution_count": 51
        }
      ]
    },
    {
      "cell_type": "code",
      "execution_count": null,
      "metadata": {
        "id": "etVHppOIv16F",
        "colab": {
          "base_uri": "https://localhost:8080/"
        },
        "outputId": "eb41d7df-15d3-47f0-df37-9a895d3f7a5d"
      },
      "outputs": [
        {
          "output_type": "stream",
          "name": "stdout",
          "text": [
            "[1 2 3 4 5 6 7] [1.4 2.4 3.4 4.4 5.4 6.4 7.4]\n",
            "Cauchy Matrix:\n",
            " [[-2.5        -0.71428571 -0.41666667 -0.29411765 -0.22727273 -0.18518519\n",
            "  -0.15625   ]\n",
            " [ 1.66666667 -2.5        -0.71428571 -0.41666667 -0.29411765 -0.22727273\n",
            "  -0.18518519]\n",
            " [ 0.625       1.66666667 -2.5        -0.71428571 -0.41666667 -0.29411765\n",
            "  -0.22727273]\n",
            " [ 0.38461538  0.625       1.66666667 -2.5        -0.71428571 -0.41666667\n",
            "  -0.29411765]\n",
            " [ 0.27777778  0.38461538  0.625       1.66666667 -2.5        -0.71428571\n",
            "  -0.41666667]\n",
            " [ 0.2173913   0.27777778  0.38461538  0.625       1.66666667 -2.5\n",
            "  -0.71428571]\n",
            " [ 0.17857143  0.2173913   0.27777778  0.38461538  0.625       1.66666667\n",
            "  -2.5       ]]\n",
            "Cauchy squared Matrix determinant :\n",
            " -2400.5729448147476\n"
          ]
        }
      ],
      "source": [
        "array1 = np.arange(1,8)\n",
        "array2 = array1  +  0.4\n",
        "print(array1,array2)\n",
        "# numpy.ufunc.outer : https://numpy.org/doc/stable/reference/generated/numpy.ufunc.outer.html\n",
        "## Apply the ufunc op to all pairs (a, b) with a in A and b in B.\n",
        "C_matrix = 1.0 / np.subtract.outer(array1, array2)\n",
        "print('Cauchy Matrix:\\n',C_matrix)\n",
        "print('Cauchy squared Matrix determinant :\\n',np.linalg.det(C_matrix))"
      ]
    },
    {
      "cell_type": "markdown",
      "metadata": {
        "id": "97rPEfpMv16F"
      },
      "source": [
        "#### 48. Print the minimum and maximum representable value for each numpy scalar type (★★☆) \n",
        "(**hint**: np.iinfo, np.finfo, eps)"
      ]
    },
    {
      "cell_type": "code",
      "execution_count": null,
      "metadata": {
        "id": "GYXEOz9Sv16F",
        "colab": {
          "base_uri": "https://localhost:8080/"
        },
        "outputId": "46ee8720-7566-45cd-e3f9-0f0a5ea00eb8"
      },
      "outputs": [
        {
          "output_type": "stream",
          "name": "stdout",
          "text": [
            "-128\n",
            "127\n",
            "-32768\n",
            "32767\n",
            "-2147483648\n",
            "2147483647\n",
            "-9223372036854775808\n",
            "9223372036854775807\n",
            "-65500.0\n",
            "65500.0\n",
            "0.000977\n",
            "-3.4028235e+38\n",
            "3.4028235e+38\n",
            "1.1920929e-07\n",
            "-1.7976931348623157e+308\n",
            "1.7976931348623157e+308\n",
            "2.220446049250313e-16\n"
          ]
        }
      ],
      "source": [
        "# Integer datatype in numpy : https://numpy.org/doc/stable/reference/arrays.scalars.html#numpy.integer\n",
        "# float datatype in nump y : https://numpy.org/doc/stable/reference/arrays.scalars.html#numpy.floating\n",
        "\n",
        "for dtype in [np.int8, np.int16, np.int32, np.int64]:\n",
        "   print(np.iinfo(dtype).min)\n",
        "   print(np.iinfo(dtype).max)\n",
        "for dtype in [np.float16,np.float32, np.float64]:\n",
        "   print(np.finfo(dtype).min)\n",
        "   print(np.finfo(dtype).max)\n",
        "   print(np.finfo(dtype).eps)"
      ]
    },
    {
      "cell_type": "markdown",
      "metadata": {
        "id": "fXYEQRl5v16G"
      },
      "source": [
        "#### 49. How to print all the values of an array? (★★☆) \n",
        "(**hint**: np.set\\_printoptions)"
      ]
    },
    {
      "cell_type": "code",
      "execution_count": null,
      "metadata": {
        "id": "YfGfGk-hv16G",
        "colab": {
          "base_uri": "https://localhost:8080/"
        },
        "outputId": "c22ccaa7-8e78-43b1-f044-41e153845f0a"
      },
      "outputs": [
        {
          "output_type": "stream",
          "name": "stdout",
          "text": [
            "[ 0.7937 -0.6458  0.3892  0.1462 -0.987   0.8994 -0.9606  1.2927 -0.4298\n",
            " -1.0074]\n"
          ]
        }
      ],
      "source": [
        "np.set_printoptions(precision =4)\n",
        "array = np.random.randn(10)\n",
        "print(array)"
      ]
    },
    {
      "cell_type": "markdown",
      "metadata": {
        "id": "DlU7pcTHv16G"
      },
      "source": [
        "#### 50. How to find the closest value (to a given scalar) in a vector? (★★☆) \n",
        "(**hint**: argmin)"
      ]
    },
    {
      "cell_type": "code",
      "execution_count": null,
      "metadata": {
        "id": "1CWsllh5v16G",
        "colab": {
          "base_uri": "https://localhost:8080/"
        },
        "outputId": "d2af2552-3376-47a5-bf8a-2d119c85b1f6"
      },
      "outputs": [
        {
          "output_type": "stream",
          "name": "stdout",
          "text": [
            "[0.5561 0.2386 0.5623 0.7202 0.398  0.2029 0.8771 0.0278 0.7853 0.3274]\n",
            "7\n",
            "[[12 86 70 24 43 26  7 35  1 45]\n",
            " [95 28 76 93 78 91 88 31 88 15]]\n"
          ]
        },
        {
          "output_type": "execute_result",
          "data": {
            "text/plain": [
              "array([8, 9])"
            ]
          },
          "metadata": {},
          "execution_count": 55
        }
      ],
      "source": [
        "array = np.random.random(10)\n",
        "array_2 = np.random.randint(100, size = (2,10))\n",
        "print(array)\n",
        "print(np.argmin(array))\n",
        "print(array_2)\n",
        "np.argmin(array_2, axis = 1)"
      ]
    },
    {
      "cell_type": "markdown",
      "metadata": {
        "id": "wuuabh1gv16G"
      },
      "source": [
        "#### 51. Create a structured array representing a position (x,y) and a color (r,g,b) (★★☆) \n",
        "(**hint**: dtype)"
      ]
    },
    {
      "cell_type": "code",
      "execution_count": 81,
      "metadata": {
        "id": "t1d_Fbs_v16H",
        "colab": {
          "base_uri": "https://localhost:8080/"
        },
        "outputId": "edf17ecf-e6cf-414d-d566-60f3735dbfcb"
      },
      "outputs": [
        {
          "output_type": "stream",
          "name": "stdout",
          "text": [
            "[((0., 0.), (0., 0., 0.)) ((0., 0.), (0., 0., 0.))\n",
            " ((0., 0.), (0., 0., 0.)) ((0., 0.), (0., 0., 0.))\n",
            " ((0., 0.), (0., 0., 0.)) ((0., 0.), (0., 0., 0.))\n",
            " ((0., 0.), (0., 0., 0.)) ((0., 0.), (0., 0., 0.))\n",
            " ((0., 0.), (0., 0., 0.)) ((0., 0.), (0., 0., 0.))]\n"
          ]
        },
        {
          "output_type": "stream",
          "name": "stderr",
          "text": [
            "/usr/local/lib/python3.7/dist-packages/ipykernel_launcher.py:5: FutureWarning: Passing (type, 1) or '1type' as a synonym of type is deprecated; in a future version of numpy, it will be understood as (type, (1,)) / '(1,)type'.\n",
            "  \"\"\"\n"
          ]
        }
      ],
      "source": [
        "mat = np.zeros(10, [ ('position', [ ('x', float, 1),\n",
        "                                  ('y', float, 1)]),\n",
        "                   ('color',    [ ('r', float, 1),\n",
        "                                  ('g', float, 1),\n",
        "                                  ('b', float, 1)])])\n",
        "print(mat)"
      ]
    },
    {
      "cell_type": "markdown",
      "metadata": {
        "id": "FIGfRvIgv16H"
      },
      "source": [
        "#### 52. Consider a random vector with shape (100,2) representing coordinates, find point by point distances (★★☆) \n",
        "(**hint**: np.atleast\\_2d, T, np.sqrt)"
      ]
    },
    {
      "cell_type": "code",
      "execution_count": null,
      "metadata": {
        "id": "aAkB6lAcv16I"
      },
      "outputs": [],
      "source": [
        "array = np.random.randn(100,2)\n",
        "Xval,Yval= np.atleast_2d(array[:,0],array[:,1])\n",
        "point_dist = np.sqrt( (Xval-Xval.T)**2 + (Yval-Yval.T)**2 )"
      ]
    },
    {
      "cell_type": "code",
      "source": [
        "point_dist"
      ],
      "metadata": {
        "colab": {
          "base_uri": "https://localhost:8080/"
        },
        "id": "HbB_i7p9gzq2",
        "outputId": "2e1d1dc1-ffa9-4ee5-fc9e-d6d4c0d40ad4"
      },
      "execution_count": null,
      "outputs": [
        {
          "output_type": "execute_result",
          "data": {
            "text/plain": [
              "array([[0.    , 3.1766, 1.3471, ..., 4.3971, 2.1331, 4.139 ],\n",
              "       [3.1766, 0.    , 2.9862, ..., 3.518 , 2.2648, 2.583 ],\n",
              "       [1.3471, 2.9862, 0.    , ..., 3.1354, 1.0585, 3.0633],\n",
              "       ...,\n",
              "       [4.3971, 3.518 , 3.1354, ..., 0.    , 2.2944, 1.0562],\n",
              "       [2.1331, 2.2648, 1.0585, ..., 2.2944, 0.    , 2.0368],\n",
              "       [4.139 , 2.583 , 3.0633, ..., 1.0562, 2.0368, 0.    ]])"
            ]
          },
          "metadata": {},
          "execution_count": 57
        }
      ]
    },
    {
      "cell_type": "markdown",
      "metadata": {
        "id": "TJ_tbINMv16I"
      },
      "source": [
        "#### 53. How to convert a float (32 bits) array into an integer (32 bits) in place? \n",
        "(**hint**: astype(copy=False))"
      ]
    },
    {
      "cell_type": "code",
      "execution_count": null,
      "metadata": {
        "id": "lTjM3JDMv16I",
        "colab": {
          "base_uri": "https://localhost:8080/"
        },
        "outputId": "b182d3fb-8378-47d2-95bd-349791339fb4"
      },
      "outputs": [
        {
          "output_type": "stream",
          "name": "stdout",
          "text": [
            "[[-0.4489  0.1466  0.3163  0.8161  0.0582]\n",
            " [ 0.9209  0.7153 -0.3195 -1.1889  0.2025]\n",
            " [-0.4243  0.8151  0.9938 -0.8012  1.7549]\n",
            " [ 0.2792 -1.2176 -0.5879  1.0945 -1.4284]\n",
            " [-0.3395 -0.0776 -0.2018  0.767   0.0545]]\n"
          ]
        },
        {
          "output_type": "execute_result",
          "data": {
            "text/plain": [
              "array([[ 0,  0,  0,  0,  0],\n",
              "       [ 0,  0,  0, -1,  0],\n",
              "       [ 0,  0,  0,  0,  1],\n",
              "       [ 0, -1,  0,  1, -1],\n",
              "       [ 0,  0,  0,  0,  0]], dtype=int32)"
            ]
          },
          "metadata": {},
          "execution_count": 58
        }
      ],
      "source": [
        "x = np.random.randn(5,5).astype(np.float32)\n",
        "print(x)\n",
        "x.astype(np.int32, copy =False)"
      ]
    },
    {
      "cell_type": "markdown",
      "metadata": {
        "id": "KAbLg0qNv16I"
      },
      "source": [
        "#### 54. How to read the following file? (★★☆) \n",
        "(**hint**: np.genfromtxt)"
      ]
    },
    {
      "cell_type": "markdown",
      "metadata": {
        "id": "ABZ0J7Etv16I"
      },
      "source": [
        "```\n",
        "1, 2, 3, 4, 5\n",
        "6,  ,  , 7, 8\n",
        " ,  , 9,10,11\n",
        "```"
      ]
    },
    {
      "cell_type": "code",
      "execution_count": null,
      "metadata": {
        "id": "Q9YKxOGzv16I",
        "colab": {
          "base_uri": "https://localhost:8080/"
        },
        "outputId": "c8c9d4c8-0d46-4cb2-bf18-cd9a5850dd03"
      },
      "outputs": [
        {
          "output_type": "stream",
          "name": "stderr",
          "text": [
            "/usr/local/lib/python3.7/dist-packages/ipykernel_launcher.py:6: DeprecationWarning: `np.int` is a deprecated alias for the builtin `int`. To silence this warning, use `int` by itself. Doing this will not modify any behavior and is safe. When replacing `np.int`, you may wish to use e.g. `np.int64` or `np.int32` to specify the precision. If you wish to review your current use, check the release note link for additional information.\n",
            "Deprecated in NumPy 1.20; for more details and guidance: https://numpy.org/devdocs/release/1.20.0-notes.html#deprecations\n",
            "  \n"
          ]
        },
        {
          "output_type": "execute_result",
          "data": {
            "text/plain": [
              "array([[ 1,  2,  3,  4,  5],\n",
              "       [ 6, -1, -1,  7,  8],\n",
              "       [-1, -1,  9, 10, 11]])"
            ]
          },
          "metadata": {},
          "execution_count": 59
        }
      ],
      "source": [
        "from io import StringIO\n",
        "string=\"\"\"1, 2, 3, 4, 5\n",
        "6,  ,  , 7, 8\n",
        " ,  , 9,10,11\"\"\"\n",
        "file = StringIO(string)\n",
        "np.genfromtxt(file, delimiter=\",\",dtype = np.int)"
      ]
    },
    {
      "cell_type": "markdown",
      "metadata": {
        "id": "wtbCLowLv16J"
      },
      "source": [
        "#### 55. What is the equivalent of enumerate for numpy arrays? (★★☆) \n",
        "(**hint**: np.ndenumerate, np.ndindex)"
      ]
    },
    {
      "cell_type": "code",
      "execution_count": null,
      "metadata": {
        "id": "rdw-qt_Iv16J",
        "colab": {
          "base_uri": "https://localhost:8080/"
        },
        "outputId": "6d0364e0-fc6c-4e60-8d46-ed91b0886acc"
      },
      "outputs": [
        {
          "output_type": "stream",
          "name": "stdout",
          "text": [
            "(0, 0) 0\n",
            "(0, 1) 1\n",
            "(0, 2) 2\n",
            "(1, 0) 3\n",
            "(1, 1) 4\n",
            "(1, 2) 5\n",
            "(2, 0) 6\n",
            "(2, 1) 7\n",
            "(2, 2) 8\n",
            "(0, 0) 0\n",
            "(0, 1) 1\n",
            "(0, 2) 2\n",
            "(1, 0) 3\n",
            "(1, 1) 4\n",
            "(1, 2) 5\n",
            "(2, 0) 6\n",
            "(2, 1) 7\n",
            "(2, 2) 8\n"
          ]
        }
      ],
      "source": [
        "# with np.ndenumerate\n",
        "mat = np.arange(9).reshape(3,3)\n",
        "for index,value in np.ndenumerate(mat):\n",
        "    print(index,value)\n",
        "# with np.ndindex    \n",
        "for index in np.ndindex(mat.shape):\n",
        "    print(index,mat[index])"
      ]
    },
    {
      "cell_type": "markdown",
      "metadata": {
        "id": "dE9Rkaeqv16J"
      },
      "source": [
        "#### 56. Generate a generic 2D Gaussian-like array (★★☆) \n",
        "(**hint**: np.meshgrid, np.exp)"
      ]
    },
    {
      "cell_type": "code",
      "execution_count": null,
      "metadata": {
        "id": "dmCdCeZ2v16K",
        "colab": {
          "base_uri": "https://localhost:8080/"
        },
        "outputId": "8784af39-4b7c-45d5-d68c-76e4fe9b6cd1"
      },
      "outputs": [
        {
          "output_type": "stream",
          "name": "stdout",
          "text": [
            "Matrix : [[0.6124 1.2699 0.6511 0.8582 1.48  ]\n",
            " [0.6826 1.3053 0.7176 0.9097 1.5104]\n",
            " [2.0975 2.3743 2.1092 2.182  2.493 ]\n",
            " [1.0898 1.5573 1.112  1.2447 1.7329]\n",
            " [0.7968 1.3685 0.827  0.9983 1.5653]]\n",
            "Normalised Matrix :  [[0.5862 0.3157 0.572  0.4893 0.2365]\n",
            " [0.5601 0.3017 0.5466 0.4675 0.226 ]\n",
            " [0.0784 0.0422 0.0765 0.0654 0.0316]\n",
            " [0.3905 0.2103 0.381  0.3259 0.1575]\n",
            " [0.5148 0.2772 0.5023 0.4296 0.2077]]\n"
          ]
        }
      ],
      "source": [
        "X,Y =np.meshgrid(np.random.randn(5),np.random.randn(5))\n",
        "D= np.sqrt(X*X + Y*Y)\n",
        "print(\"Matrix :\",D)\n",
        "sigma,mu = 1,0\n",
        "Norm_D = (1/(sigma*np.sqrt(2*sigma)))*np.exp( -0.5*(D- mu/sigma)**2)\n",
        "print(\"Normalised Matrix : \",Norm_D)"
      ]
    },
    {
      "cell_type": "markdown",
      "metadata": {
        "id": "zG8N4bljv16L"
      },
      "source": [
        "#### 57. How to randomly place p elements in a 2D array? (★★☆) \n",
        "(**hint**: np.put, np.random.choice)"
      ]
    },
    {
      "cell_type": "code",
      "execution_count": null,
      "metadata": {
        "id": "pWaMq8kPv16L",
        "colab": {
          "base_uri": "https://localhost:8080/"
        },
        "outputId": "6dfbbf5d-3c2e-402f-eda1-ee7e58a360e2"
      },
      "outputs": [
        {
          "output_type": "stream",
          "name": "stdout",
          "text": [
            "[[  0.   0.   0.   0.   0.]\n",
            " [  0.   0.   0. 101.   0.]\n",
            " [  0. 101.   0.   0.   0.]\n",
            " [  0.   0.   0.   0. 101.]\n",
            " [  0.   0.   0.   0.   0.]]\n"
          ]
        }
      ],
      "source": [
        "size = 5\n",
        "num_times = 3\n",
        "matx = np.zeros((size,size))\n",
        "np.put(matx,np.random.choice(np.arange(size*size),num_times,replace = False),101)\n",
        "print(matx)\n"
      ]
    },
    {
      "cell_type": "code",
      "source": [
        "#Generate a uniform random sample from np.arange(5) of size 3 without replacement:\n",
        "print(np.random.choice(5, 3, replace=False))\n",
        "#This is equivalent to np.random.permutation(np.arange(5))[:3]\n",
        "print(np.random.permutation(np.arange(5))[:3])"
      ],
      "metadata": {
        "colab": {
          "base_uri": "https://localhost:8080/"
        },
        "id": "uQU8aFGc2kpO",
        "outputId": "d51bd2e1-bf14-48f9-b178-7c290014d032"
      },
      "execution_count": null,
      "outputs": [
        {
          "output_type": "stream",
          "name": "stdout",
          "text": [
            "[3 2 1]\n",
            "[1 0 3]\n"
          ]
        }
      ]
    },
    {
      "cell_type": "code",
      "source": [
        "xal =np.arange(25)\n",
        "np.random.choice(xal,3,replace = False)"
      ],
      "metadata": {
        "colab": {
          "base_uri": "https://localhost:8080/"
        },
        "id": "QxdB-XoY2PVw",
        "outputId": "48b524a2-455f-4c69-9d19-f525a39eb6a6"
      },
      "execution_count": null,
      "outputs": [
        {
          "output_type": "execute_result",
          "data": {
            "text/plain": [
              "array([ 0, 21, 19])"
            ]
          },
          "metadata": {},
          "execution_count": 64
        }
      ]
    },
    {
      "cell_type": "markdown",
      "metadata": {
        "id": "OBucQcRUv16M"
      },
      "source": [
        "#### 58. Subtract the mean of each row of a matrix (★★☆) \n",
        "(**hint**: mean(axis=,keepdims=))"
      ]
    },
    {
      "cell_type": "code",
      "execution_count": null,
      "metadata": {
        "id": "8pDGa5udv16M",
        "colab": {
          "base_uri": "https://localhost:8080/"
        },
        "outputId": "7a74ef73-e9b8-4a5f-8997-636ef083d9e2"
      },
      "outputs": [
        {
          "output_type": "execute_result",
          "data": {
            "text/plain": [
              "array([[ 0.0531,  0.0477,  0.2236, -0.3244],\n",
              "       [-0.1815,  0.4963, -0.354 ,  0.0392],\n",
              "       [ 0.374 , -0.3139,  0.2982, -0.3583],\n",
              "       [ 0.3161,  0.0781,  0.0665, -0.4607],\n",
              "       [ 0.2736, -0.1182,  0.0498, -0.2052]])"
            ]
          },
          "metadata": {},
          "execution_count": 65
        }
      ],
      "source": [
        "A = np.random.random((5,4))\n",
        "A- A.mean(axis =1 ,keepdims =True)"
      ]
    },
    {
      "cell_type": "markdown",
      "metadata": {
        "id": "Bolq_VxVv16N"
      },
      "source": [
        "#### 59. How to sort an array by the nth column? (★★☆) \n",
        "(**hint**: argsort)"
      ]
    },
    {
      "cell_type": "code",
      "execution_count": null,
      "metadata": {
        "id": "uzOzuaoBv16N",
        "colab": {
          "base_uri": "https://localhost:8080/"
        },
        "outputId": "1c9bd4a9-3d9b-4228-e936-46872dabf0d1"
      },
      "outputs": [
        {
          "output_type": "stream",
          "name": "stdout",
          "text": [
            "[[95 90 34 20 70]\n",
            " [50 25  1 80 98]\n",
            " [17 82 88 64 44]\n",
            " [59 49 91  9 68]\n",
            " [20 43  0 31 76]]\n",
            "[1 4 3 2 0]\n"
          ]
        },
        {
          "output_type": "execute_result",
          "data": {
            "text/plain": [
              "array([[50, 25,  1, 80, 98],\n",
              "       [20, 43,  0, 31, 76],\n",
              "       [59, 49, 91,  9, 68],\n",
              "       [17, 82, 88, 64, 44],\n",
              "       [95, 90, 34, 20, 70]])"
            ]
          },
          "metadata": {},
          "execution_count": 66
        }
      ],
      "source": [
        "names = [_ for _ in 'abcde']\n",
        "A = np.random.randint(100, size = (5,5))\n",
        "print(A)\n",
        "print(np.argsort(A[:,1],axis = 0))\n",
        "A[np.argsort(A[:,1],axis = 0)]"
      ]
    },
    {
      "cell_type": "markdown",
      "metadata": {
        "id": "slGIeGL2v16N"
      },
      "source": [
        "#### 60. How to tell if a given 2D array has null columns? (★★☆) \n",
        "(**hint**: any, ~)"
      ]
    },
    {
      "cell_type": "code",
      "execution_count": null,
      "metadata": {
        "id": "2nfWj7Mjv16O",
        "colab": {
          "base_uri": "https://localhost:8080/"
        },
        "outputId": "17c2b3f9-1db8-4e4b-f24c-bb997767b6ab"
      },
      "outputs": [
        {
          "output_type": "stream",
          "name": "stdout",
          "text": [
            "A:\n",
            " [[0.614  0.8447 0.5742 0.5288 0.398 ]\n",
            " [0.9256 0.8343 0.5723 0.8126 0.9777]\n",
            " [0.399  0.7047 0.3553 0.0225 0.2253]\n",
            " [0.5548 0.9355 0.5486 0.182  0.3658]\n",
            " [0.5976 0.3224 0.119  0.8222 0.6865]]\n",
            "masked_A:\n",
            " [[0.614  0.8447 0.5742 0.5288 0.398 ]\n",
            " [   nan 0.8343    nan 0.8126    nan]\n",
            " [0.399     nan    nan    nan 0.2253]\n",
            " [0.5548    nan 0.5486 0.182     nan]\n",
            " [   nan 0.3224 0.119     nan    nan]]\n",
            "Do the masked_A matrix contains null values : True\n"
          ]
        }
      ],
      "source": [
        "# Not a Number (NaN), positive infinity and negative infinity evaluate to True because these are not equal to zero.\n",
        "A = np.random.random((5,5))\n",
        "print('A:\\n',A)\n",
        "mask = np.random.randint(0,2, size = (5,5))\n",
        "A[mask==1] = np.NaN\n",
        "print(\"masked_A:\\n\",A)\n",
        "print('Do the masked_A matrix contains null values :',np.any(A, axis = None))\n"
      ]
    },
    {
      "cell_type": "code",
      "source": [
        "data = np.zeros((4,3))\n",
        "#mask = np.random.random_integers(0,1,(4,3))\n",
        "#data[mask==0] = np.NaN\n",
        "print(data.any(axis = None))"
      ],
      "metadata": {
        "colab": {
          "base_uri": "https://localhost:8080/"
        },
        "id": "gcnR47vAQZpK",
        "outputId": "a6014610-a852-4ee9-999b-ba49cc392c23"
      },
      "execution_count": null,
      "outputs": [
        {
          "output_type": "stream",
          "name": "stdout",
          "text": [
            "False\n"
          ]
        }
      ]
    },
    {
      "cell_type": "markdown",
      "metadata": {
        "id": "CfU_lGJKv16O"
      },
      "source": [
        "#### 61. Find the nearest value from a given value in an array (★★☆) \n",
        "(**hint**: np.abs, argmin, flat)"
      ]
    },
    {
      "cell_type": "code",
      "execution_count": null,
      "metadata": {
        "id": "B9TxPTmav16O",
        "colab": {
          "base_uri": "https://localhost:8080/"
        },
        "outputId": "0a27d770-85c8-486b-94f1-0a59884ea03f"
      },
      "outputs": [
        {
          "output_type": "execute_result",
          "data": {
            "text/plain": [
              "0.34039631987564567"
            ]
          },
          "metadata": {},
          "execution_count": 94
        }
      ],
      "source": [
        "A = np.random.rand(10)\n",
        "a = 0.3\n",
        "index =np.abs(A-a).argmin(axis = 0)\n",
        "A.flat[index]"
      ]
    },
    {
      "cell_type": "markdown",
      "metadata": {
        "id": "rXhz2g8sv16O"
      },
      "source": [
        "#### 62. Considering two arrays with shape (1,3) and (3,1), how to compute their sum using an iterator? (★★☆) \n",
        "(**hint**: np.nditer)"
      ]
    },
    {
      "cell_type": "code",
      "execution_count": null,
      "metadata": {
        "id": "yMpOYH_Zv16O",
        "colab": {
          "base_uri": "https://localhost:8080/"
        },
        "outputId": "db289240-e6ae-45bb-daca-25a85b486e09"
      },
      "outputs": [
        {
          "output_type": "execute_result",
          "data": {
            "text/plain": [
              "array([[0, 1, 2],\n",
              "       [1, 2, 3],\n",
              "       [2, 3, 4]])"
            ]
          },
          "metadata": {},
          "execution_count": 99
        }
      ],
      "source": [
        "#https://numpy.org/doc/stable/reference/arrays.nditer.html#arrays-nditer\n",
        "def add_num(A,B):\n",
        "\n",
        "    with np.nditer([A,B, None]) as it:\n",
        "        for x, y,z in it: z[...] = x+y\n",
        "\n",
        "        return it.operands[2]\n",
        "A = np.arange(3).reshape(3,1)\n",
        "B = np.arange(3).reshape(1,3)\n",
        "add_num(A,B)"
      ]
    },
    {
      "cell_type": "markdown",
      "metadata": {
        "id": "8x5stL50v16O"
      },
      "source": [
        "#### 63. Create an array class that has a name attribute (★★☆) \n",
        "(**hint**: class method)"
      ]
    },
    {
      "cell_type": "code",
      "execution_count": 3,
      "metadata": {
        "id": "hbVNhwe5v16O",
        "colab": {
          "base_uri": "https://localhost:8080/"
        },
        "outputId": "c41f754d-873d-4774-92a7-088163ef0099"
      },
      "outputs": [
        {
          "output_type": "stream",
          "name": "stdout",
          "text": [
            "range_10\n"
          ]
        }
      ],
      "source": [
        "class NamedArray(np.ndarray):\n",
        "    def __new__(cls, array, name=\"no name\"):\n",
        "        obj = np.asarray(array).view(cls)\n",
        "        obj.name = name\n",
        "        return obj\n",
        "    def __array_finalize__(self, obj):\n",
        "        if obj is None: return\n",
        "        self.info = getattr(obj, 'name', \"no name\")\n",
        "Z = NamedArray(np.arange(10), \"range_10\")\n",
        "print (Z.name)"
      ]
    },
    {
      "cell_type": "code",
      "source": [
        "Z.info"
      ],
      "metadata": {
        "colab": {
          "base_uri": "https://localhost:8080/",
          "height": 35
        },
        "id": "shh1-jc783tR",
        "outputId": "3c026f45-3fb7-4f7f-9e7d-2dbc4f9aac86"
      },
      "execution_count": 5,
      "outputs": [
        {
          "output_type": "execute_result",
          "data": {
            "text/plain": [
              "'no name'"
            ],
            "application/vnd.google.colaboratory.intrinsic+json": {
              "type": "string"
            }
          },
          "metadata": {},
          "execution_count": 5
        }
      ]
    },
    {
      "cell_type": "markdown",
      "metadata": {
        "id": "ooBlA-H0v16P"
      },
      "source": [
        "#### 64. Consider a given vector, how to add 1 to each element indexed by a second vector (be careful with repeated indices)? (★★★) \n",
        "(**hint**: np.bincount | np.add.at)"
      ]
    },
    {
      "cell_type": "code",
      "execution_count": 17,
      "metadata": {
        "id": "THYFMrHwv16P",
        "colab": {
          "base_uri": "https://localhost:8080/"
        },
        "outputId": "8f7ab20b-441d-4a4b-d3b5-bef007f2c18b"
      },
      "outputs": [
        {
          "output_type": "stream",
          "name": "stdout",
          "text": [
            "[5. 6. 4. 6. 4. 4. 2. 3. 3. 3.]\n"
          ]
        }
      ],
      "source": [
        "Z = np.ones(10)\n",
        "I = np.random.randint(0,len(Z),30)\n",
        "#print(I)\n",
        "#print(np.bincount(I))\n",
        "#Z += np.bincount(I, minlength=len(Z))\n",
        "#print(Z)\n",
        "\n",
        "# np.add.at :\n",
        "#url: https://numpy.org/doc/stable/reference/generated/numpy.ufunc.at.html\n",
        "np.add.at(Z, I, 1)\n",
        "print(Z)"
      ]
    },
    {
      "cell_type": "markdown",
      "metadata": {
        "id": "bPN4Wt7Hv16P"
      },
      "source": [
        "#### 65. How to accumulate elements of a vector (X) to an array (F) based on an index list (I)? (★★★) \n",
        "(**hint**: np.bincount)"
      ]
    },
    {
      "cell_type": "code",
      "execution_count": 19,
      "metadata": {
        "id": "ASWFIG8vv16P",
        "colab": {
          "base_uri": "https://localhost:8080/"
        },
        "outputId": "908aa7cd-ec99-4e80-e181-54313ab4b494"
      },
      "outputs": [
        {
          "output_type": "stream",
          "name": "stdout",
          "text": [
            "Summation element-wise : \n",
            " [ 0. 16. 10. 17.]\n",
            "[0. 7. 0. 6. 5. 0. 0. 0. 0. 3.]\n"
          ]
        }
      ],
      "source": [
        "# Example\n",
        "##1D array with +ve integers\n",
        "array2 = [10, 11, 4, 6, 2, 1, 9]\n",
        "array1 = [1, 3, 1, 3, 1, 2, 2]\n",
        "  \n",
        "# array2 : weight\n",
        "bin =np.bincount(array1, array2)\n",
        "print(\"Summation element-wise : \\n\", bin)\n",
        "  \n",
        "#index 0 : 0\n",
        "#index 1 : 10 + 4 + 2 = 16\n",
        "#index 2 : 1 + 9 = 10\n",
        "#index 3 : 11 + 6 = 17\n",
        "\n",
        "X = [1,2,3,4,5,6] # vector\n",
        "I = [1,3,9,3,4,1] # index\n",
        "F = np.bincount(I,X)\n",
        "print(F)\n",
        "# index 1 : 1+6 =7\n",
        "# index 3 : 2+4 =6\n",
        "# index 4 : 5\n",
        "# index 9 : 3 "
      ]
    },
    {
      "cell_type": "markdown",
      "metadata": {
        "id": "Y8yzTVQpv16P"
      },
      "source": [
        "\n",
        "#### 66. Considering a (w,h,3) image of (dtype=ubyte), compute the number of unique colors (★★★) \n",
        "(**hint**: np.unique)"
      ]
    },
    {
      "cell_type": "code",
      "execution_count": 21,
      "metadata": {
        "id": "z-xoCAZav16Q",
        "colab": {
          "base_uri": "https://localhost:8080/",
          "height": 70
        },
        "outputId": "be14b0f4-a69d-4b92-aa5c-4d4f6e4e3803"
      },
      "outputs": [
        {
          "output_type": "stream",
          "name": "stdout",
          "text": [
            "64\n"
          ]
        },
        {
          "output_type": "execute_result",
          "data": {
            "text/plain": [
              "'\\nw, h = 256, 256\\nI = np.random.randint(0,4,(h,w,3), dtype=np.uint8)\\n\\n# View each pixel as a single 24-bit integer, rather than three 8-bit bytes\\nI24 = np.dot(I.astype(np.uint32),[1,256,65536])\\n\\n# Count unique colours\\nn = len(np.unique(I24))\\nprint(n)\\n'"
            ],
            "application/vnd.google.colaboratory.intrinsic+json": {
              "type": "string"
            }
          },
          "metadata": {},
          "execution_count": 21
        }
      ],
      "source": [
        "w, h = 256, 256\n",
        "I = np.random.randint(0, 4, (h, w, 3)).astype(np.int8)\n",
        "colors = np.unique(I.reshape(-1, 3), axis=0)\n",
        "n = len(colors)\n",
        "print(n)\n",
        "\"\"\"\n",
        "w, h = 256, 256\n",
        "I = np.random.randint(0,4,(h,w,3), dtype=np.uint8)\n",
        "\n",
        "# View each pixel as a single 24-bit integer, rather than three 8-bit bytes\n",
        "I24 = np.dot(I.astype(np.uint32),[1,256,65536])\n",
        "\n",
        "# Count unique colours\n",
        "n = len(np.unique(I24))\n",
        "print(n)\n",
        "\"\"\""
      ]
    },
    {
      "cell_type": "markdown",
      "metadata": {
        "id": "0uLmINQtv16Q"
      },
      "source": [
        "#### 67. Considering a four dimensions array, how to get sum over the last two axis at once? (★★★) \n",
        "(**hint**: sum(axis=(-2,-1)))"
      ]
    },
    {
      "cell_type": "code",
      "execution_count": 33,
      "metadata": {
        "id": "90Kq6jugv16Q",
        "colab": {
          "base_uri": "https://localhost:8080/"
        },
        "outputId": "e079c7ea-d77b-41a8-ea38-90fd1783b7fb"
      },
      "outputs": [
        {
          "output_type": "stream",
          "name": "stdout",
          "text": [
            "[[64 49 58 47 71]\n",
            " [60 50 27 55 59]\n",
            " [58 46 48 51 60]\n",
            " [56 72 44 51 46]\n",
            " [56 52 55 50 41]]\n",
            "[[64 49 58 47 71]\n",
            " [60 50 27 55 59]\n",
            " [58 46 48 51 60]\n",
            " [56 72 44 51 46]\n",
            " [56 52 55 50 41]]\n"
          ]
        }
      ],
      "source": [
        "# Method 1 \n",
        "A = np.random.randint(0, 10, (5, 5, 3,4))\n",
        "print(A.sum(axis =(-2,-1)) )\n",
        "\n",
        "# solution by flattening the last two dimensions into one\n",
        "# (useful for functions that don't accept tuples for axis argument)\n",
        "sum = A.reshape(A.shape[:-2] + (-1,)).sum(axis=-1) # the unspecified value(-1) is inferred to be 12\n",
        "print(sum) # summing over the last axis i.e axis =-1 "
      ]
    },
    {
      "cell_type": "code",
      "source": [
        "a = np.array([[1,2,3], [4,5,6]])\n",
        "np.reshape(a, (3,-1))       # the unspecified value is inferred to be 2"
      ],
      "metadata": {
        "colab": {
          "base_uri": "https://localhost:8080/"
        },
        "id": "Zpdt8lwAwg-3",
        "outputId": "337a38c0-ce84-4d16-8a9b-4762bccccf18"
      },
      "execution_count": 42,
      "outputs": [
        {
          "output_type": "execute_result",
          "data": {
            "text/plain": [
              "array([[1, 2],\n",
              "       [3, 4],\n",
              "       [5, 6]])"
            ]
          },
          "metadata": {},
          "execution_count": 42
        }
      ]
    },
    {
      "cell_type": "code",
      "source": [
        "print(A.shape[:-2]+ (-1,))\n",
        "A.reshape(A.shape[:-2] + (-1,)).shape    # the unspecified value(-1) is inferred to be 12"
      ],
      "metadata": {
        "colab": {
          "base_uri": "https://localhost:8080/"
        },
        "id": "PW_PbeM9vTLX",
        "outputId": "276bb6f5-6b9a-4581-d7d1-3828a8d07448"
      },
      "execution_count": 41,
      "outputs": [
        {
          "output_type": "stream",
          "name": "stdout",
          "text": [
            "(5, 5, -1)\n"
          ]
        },
        {
          "output_type": "execute_result",
          "data": {
            "text/plain": [
              "(5, 5, 12)"
            ]
          },
          "metadata": {},
          "execution_count": 41
        }
      ]
    },
    {
      "cell_type": "markdown",
      "metadata": {
        "id": "B2oX4uRtv16Q"
      },
      "source": [
        "#### 68. Considering a one-dimensional vector D, how to compute means of subsets of D using a vector S of same size describing subset  indices? (★★★) \n",
        "(**hint**: np.bincount)"
      ]
    },
    {
      "cell_type": "code",
      "execution_count": 43,
      "metadata": {
        "id": "PJm4Yznnv16Q",
        "colab": {
          "base_uri": "https://localhost:8080/"
        },
        "outputId": "9dcf1d64-b3a6-4116-ee73-0ff999a5ba41"
      },
      "outputs": [
        {
          "output_type": "stream",
          "name": "stdout",
          "text": [
            "0    0.310355\n",
            "1    0.515511\n",
            "2    0.531257\n",
            "3    0.422765\n",
            "4    0.619774\n",
            "5    0.508731\n",
            "6    0.586290\n",
            "7    0.718171\n",
            "8    0.476072\n",
            "9    0.374118\n",
            "dtype: float64\n"
          ]
        }
      ],
      "source": [
        "D = np.random.uniform(0,1,100)\n",
        "S = np.random.randint(0,10,100) # low, high,size, say we want 10 substs of D each with index varying from low 0 to high(not included) 10\n",
        "# Pandas solution as a reference due to more intuitive code\n",
        "import pandas as pd\n",
        "print(pd.Series(D).groupby(S).mean())"
      ]
    },
    {
      "cell_type": "markdown",
      "metadata": {
        "id": "8OS8NE0jv16Q"
      },
      "source": [
        "#### 69. How to get the diagonal of a dot product? (★★★) \n",
        "(**hint**: np.diag)"
      ]
    },
    {
      "cell_type": "code",
      "execution_count": 58,
      "metadata": {
        "id": "a_DpttJuv16Q",
        "colab": {
          "base_uri": "https://localhost:8080/"
        },
        "outputId": "4d2bcc4e-878d-4bab-83b7-e24a76a9f104"
      },
      "outputs": [
        {
          "output_type": "stream",
          "name": "stdout",
          "text": [
            "[0.99296092 1.66577872 1.04027669 1.11025027 0.47848107]\n",
            "[0.99296092 1.66577872 1.04027669 1.11025027 0.47848107]\n"
          ]
        }
      ],
      "source": [
        "\n",
        "A = np.random.uniform(0,1,(5,4))\n",
        "B = np.random.uniform(0,1,(4,5))\n",
        "\n",
        "# Slow version\n",
        "print(np.diag(np.dot(A, B)) )\n",
        "\n",
        "# Faster version\n",
        "print(np.einsum(\"ij,ji->i\", A, B))"
      ]
    },
    {
      "cell_type": "markdown",
      "source": [
        "# **numpy.einsum()**\n",
        "Using the Einstein summation convention, many common multi-dimensional, linear algebraic array operations can be represented in a simple fashion.\n",
        "\n",
        "In implicit mode, the chosen subscripts are important since the axes of the output are reordered alphabetically. This means that np.einsum('ij', a) doesn’t affect a 2D array, while np.einsum('ji', a) takes its transpose. Additionally, np.einsum('ij,jk', a, b) returns a matrix multiplication, while, np.einsum('ij,jh', a, b) returns the transpose of the multiplication since subscript ‘h’ precedes subscript ‘i’.\n",
        "\n",
        "In explicit mode the output can be directly controlled by specifying output subscript labels. This requires the identifier ‘->’ as well as the list of output subscript labels. This feature increases the flexibility of the function since summing can be disabled or forced when required. The call np.einsum('i->', a) is like np.sum(a, axis=-1), and np.einsum('ii->i', a) is like np.diag(a). The difference is that einsum does not allow broadcasting by default. Additionally np.einsum('ij,jh->ih', a, b) directly specifies the order of the output subscript labels and therefore returns matrix multiplication, unlike the example above in implicit mode."
      ],
      "metadata": {
        "id": "tBiwCE3dRGHK"
      }
    },
    {
      "cell_type": "code",
      "source": [
        "a = np.arange(25).reshape(5,5)\n",
        "b = np.random.uniform(0,1,(5,5))\n",
        "print(a)\n",
        "#url : https://numpy.org/doc/stable/reference/generated/numpy.einsum.html?highlight=einsum#numpy.einsum\n",
        "#Extract the diagonal (requires explicit form):\n",
        "print(np.dot(a,b))\n",
        "np.einsum('ij,ji->i', a,b)"
      ],
      "metadata": {
        "colab": {
          "base_uri": "https://localhost:8080/"
        },
        "id": "H66mRTK3z1A3",
        "outputId": "7a967e1f-1b03-4e9a-ed64-f56e9be9000a"
      },
      "execution_count": 10,
      "outputs": [
        {
          "output_type": "stream",
          "name": "stdout",
          "text": [
            "[[ 0  1  2  3  4]\n",
            " [ 5  6  7  8  9]\n",
            " [10 11 12 13 14]\n",
            " [15 16 17 18 19]\n",
            " [20 21 22 23 24]]\n",
            "[[ 2.99020569  4.27760976  4.093774    3.13122398  5.20492745]\n",
            " [10.35996603 12.67367194 14.15766772 12.85099629 16.44142605]\n",
            " [17.72972637 21.06973413 24.22156143 22.5707686  27.67792465]\n",
            " [25.09948671 29.46579631 34.28545515 32.29054091 38.91442325]\n",
            " [32.46924705 37.8618585  44.34934886 42.01031321 50.15092185]]\n"
          ]
        },
        {
          "output_type": "execute_result",
          "data": {
            "text/plain": [
              "array([ 2.99020569, 12.67367194, 24.22156143, 32.29054091, 50.15092185])"
            ]
          },
          "metadata": {},
          "execution_count": 10
        }
      ]
    },
    {
      "cell_type": "markdown",
      "metadata": {
        "id": "-mf9guDYv16R"
      },
      "source": [
        "#### 70. Consider the vector \\[1, 2, 3, 4, 5\\], how to build a new vector with 3 consecutive zeros interleaved between each value? (★★★) \n",
        "(**hint**: array\\[::4\\])"
      ]
    },
    {
      "cell_type": "code",
      "execution_count": 14,
      "metadata": {
        "id": "vD6Id3mwv16R",
        "colab": {
          "base_uri": "https://localhost:8080/"
        },
        "outputId": "10e7c49a-2552-4beb-d663-3651e44bd9ea"
      },
      "outputs": [
        {
          "output_type": "stream",
          "name": "stdout",
          "text": [
            "[1. 0. 0. 0. 2. 0. 0. 0. 3. 0. 0. 0. 4. 0. 0. 0. 5. 0. 0. 0.]\n"
          ]
        }
      ],
      "source": [
        "A = np.arange(1,6)\n",
        "Azero = np.zeros(len(A) + (len(A))*3  )\n",
        "Azero[::4]=A\n",
        "print(Azero)"
      ]
    },
    {
      "cell_type": "markdown",
      "metadata": {
        "id": "O3DV_cffv16R"
      },
      "source": [
        "#### 71. Consider an array of dimension (5,5,3), how to mulitply it by an array with dimensions (5,5)? (★★★) \n",
        "(**hint**: array\\[:, :, None\\])"
      ]
    },
    {
      "cell_type": "code",
      "execution_count": 6,
      "metadata": {
        "collapsed": true,
        "id": "u-vKM2MYv16R",
        "colab": {
          "base_uri": "https://localhost:8080/"
        },
        "outputId": "c9ceab7e-2cbb-4158-c2c3-139f752f636f"
      },
      "outputs": [
        {
          "output_type": "stream",
          "name": "stdout",
          "text": [
            "[[[1566    0 6438]\n",
            "  [ 264 2244 2409]\n",
            "  [ 244  136  360]\n",
            "  [3990 1805 6840]\n",
            "  [3136 5056 1472]]\n",
            "\n",
            " [[2835 7533 6885]\n",
            "  [ 246   54  186]\n",
            "  [5841 8910 3267]\n",
            "  [ 546  372  486]\n",
            "  [1577 1520 1007]]\n",
            "\n",
            " [[4233 3984 1743]\n",
            "  [   0    0    0]\n",
            "  [4340 6720 2170]\n",
            "  [3735 4185 3510]\n",
            "  [7790 4085  855]]\n",
            "\n",
            " [[2010 2479  938]\n",
            "  [1116 1656 1872]\n",
            "  [3060 2808 1872]\n",
            "  [  40  195  390]\n",
            "  [ 741  364 1287]]\n",
            "\n",
            " [[ 280  288  184]\n",
            "  [3293 7832 1602]\n",
            "  [3276 1209 2418]\n",
            "  [5376  168 7980]\n",
            "  [ 600 1050 2450]]]\n",
            "[[1566  264  244 3990 3136]\n",
            " [2835  246 5841  546 1577]\n",
            " [4233    0 4340 3735 7790]\n",
            " [2010 1116 3060   40  741]\n",
            " [ 280 3293 3276 5376  600]]\n",
            "(5, 5, 3)\n"
          ]
        }
      ],
      "source": [
        "A = np.random.randint(0,100,size=(5,5,3))\n",
        "B= np.random.randint(0,100,size=(5,5))\n",
        "G =A*B[:,:,None]\n",
        "print(G)\n",
        "print(G[:,:,0])# Assume your are viewing from side view\n",
        "print(G.shape)"
      ]
    },
    {
      "cell_type": "markdown",
      "metadata": {
        "id": "NXaT3_zMv16S"
      },
      "source": [
        "#### 72. How to swap two rows of an array? (★★★) \n",
        "(**hint**: array\\[\\[\\]\\] = array\\[\\[\\]\\])"
      ]
    },
    {
      "cell_type": "code",
      "execution_count": 15,
      "metadata": {
        "id": "-CEg5d1zv16S",
        "colab": {
          "base_uri": "https://localhost:8080/"
        },
        "outputId": "908ee141-b5e1-4c7a-f940-3be2b2ccf285"
      },
      "outputs": [
        {
          "output_type": "stream",
          "name": "stdout",
          "text": [
            "[[ 0  1  2  3  4]\n",
            " [ 5  6  7  8  9]\n",
            " [10 11 12 13 14]\n",
            " [15 16 17 18 19]\n",
            " [20 21 22 23 24]]\n",
            "[[ 0  1  2  3  4]\n",
            " [ 5  6  7  8  9]\n",
            " [10 11 12 13 14]\n",
            " [20 21 22 23 24]\n",
            " [15 16 17 18 19]]\n"
          ]
        }
      ],
      "source": [
        "A = np.arange(25).reshape(5,5)\n",
        "print(A)\n",
        "A[[3,4],:] = A[[4,3],:]\n",
        "print(A)"
      ]
    },
    {
      "cell_type": "markdown",
      "metadata": {
        "id": "00R3K1l1v16S"
      },
      "source": [
        "#### 73. Consider a set of 10 triplets describing 10 triangles (with shared vertices), find the set of unique line segments composing all the  triangles (★★★) \n",
        "(**hint**: repeat, np.roll, np.sort, view, np.unique)"
      ]
    },
    {
      "cell_type": "code",
      "execution_count": 29,
      "metadata": {
        "id": "AUa0cMckv16T",
        "colab": {
          "base_uri": "https://localhost:8080/"
        },
        "outputId": "556d0395-ecd3-44d2-cc84-8acfd80ea453"
      },
      "outputs": [
        {
          "output_type": "stream",
          "name": "stdout",
          "text": [
            "[( 0,  1) ( 0, 41) ( 1, 20) ( 1, 41) ( 1, 45) ( 9, 67) ( 9, 73) (11, 12)\n",
            " (11, 14) (11, 29) (11, 78) (12, 78) (14, 29) (20, 45) (20, 47) (20, 81)\n",
            " (22, 39) (22, 87) (26, 50) (26, 92) (28, 45) (28, 73) (39, 87) (45, 57)\n",
            " (45, 59) (45, 73) (47, 81) (50, 92) (57, 59) (67, 73)]\n",
            "(30,)\n"
          ]
        }
      ],
      "source": [
        "faces = np.random.randint(0,100,(10,3))\n",
        "F = np.roll(faces.repeat(2,axis=1),-1,axis=1)\n",
        "F = F.reshape(len(F)*3,2)\n",
        "F = np.sort(F,axis=1)\n",
        "\n",
        "G = F.view( dtype=[('p0',F.dtype),('p1',F.dtype)] ) # Naming column 'p0' and 'p1'\n",
        "G = np.unique(G)\n",
        "print(G)\n",
        "print(G.shape)"
      ]
    },
    {
      "cell_type": "code",
      "source": [
        "F.dtype"
      ],
      "metadata": {
        "colab": {
          "base_uri": "https://localhost:8080/"
        },
        "id": "6acM7Iq--GML",
        "outputId": "9e299be5-1382-488e-b4a9-d5cbb4dc9054"
      },
      "execution_count": 25,
      "outputs": [
        {
          "output_type": "execute_result",
          "data": {
            "text/plain": [
              "dtype('int64')"
            ]
          },
          "metadata": {},
          "execution_count": 25
        }
      ]
    },
    {
      "cell_type": "code",
      "source": [
        "# Roll\n",
        "x = np.arange(10)\n",
        "x2 = np.reshape(x, (2, 5))\n",
        "print(x2)\n",
        "print(np.roll(x2, 1, axis=1) )\n",
        "print(np.roll(x2, -1, axis=1) )"
      ],
      "metadata": {
        "colab": {
          "base_uri": "https://localhost:8080/"
        },
        "id": "cvD4-8c07oj7",
        "outputId": "4887a428-ae04-4864-b186-04251b157404"
      },
      "execution_count": 18,
      "outputs": [
        {
          "output_type": "stream",
          "name": "stdout",
          "text": [
            "[[0 1 2 3 4]\n",
            " [5 6 7 8 9]]\n",
            "[[4 0 1 2 3]\n",
            " [9 5 6 7 8]]\n",
            "[[1 2 3 4 0]\n",
            " [6 7 8 9 5]]\n"
          ]
        }
      ]
    },
    {
      "cell_type": "code",
      "source": [
        "# Repeat\n",
        "x = np.array([[1,2],[3,4]])\n",
        "print(np.repeat(x, 3, axis=1))\n",
        "print(np.repeat(x, 3, axis=1).shape)"
      ],
      "metadata": {
        "colab": {
          "base_uri": "https://localhost:8080/"
        },
        "id": "l7o4jViO8CYA",
        "outputId": "fcbc9393-d791-4ee6-b887-d603a405e35e"
      },
      "execution_count": 20,
      "outputs": [
        {
          "output_type": "stream",
          "name": "stdout",
          "text": [
            "[[1 1 1 2 2 2]\n",
            " [3 3 3 4 4 4]]\n",
            "(2, 6)\n"
          ]
        }
      ]
    },
    {
      "cell_type": "markdown",
      "metadata": {
        "id": "KIK3iuULv16T"
      },
      "source": [
        "#### 74. Given an array C that is a bincount, how to produce an array A such that np.bincount(A) == C? (★★★) \n",
        "(**hint**: np.repeat)"
      ]
    },
    {
      "cell_type": "code",
      "execution_count": 38,
      "metadata": {
        "id": "NE08RPmyv16T",
        "colab": {
          "base_uri": "https://localhost:8080/"
        },
        "outputId": "32fc3ad7-2fca-4996-bcef-040788641370"
      },
      "outputs": [
        {
          "output_type": "stream",
          "name": "stdout",
          "text": [
            "[0 2 1 1 2 0 1]\n",
            "[1 1 2 3 4 4 6]\n"
          ]
        }
      ],
      "source": [
        "C = np.bincount([1,1,2,3,4,4,6])\n",
        "print(C)\n",
        "A = np.repeat(np.arange(len(C)), C)\n",
        "print(A)"
      ]
    },
    {
      "cell_type": "code",
      "source": [
        "# Repeat\n",
        "x = np.array([[1,2],[3,4]])\n",
        "# repeats ,int or array of ints : The number of repetitions for each element. repeats is broadcasted to fit the shape of the given axis.\n",
        "np.repeat(x, [2, 3], axis=0)"
      ],
      "metadata": {
        "colab": {
          "base_uri": "https://localhost:8080/"
        },
        "id": "bPuJWeqNBfE7",
        "outputId": "0f9ff29a-0179-45d5-b8e8-715942ba2496"
      },
      "execution_count": 42,
      "outputs": [
        {
          "output_type": "execute_result",
          "data": {
            "text/plain": [
              "array([[1, 2],\n",
              "       [1, 2],\n",
              "       [3, 4],\n",
              "       [3, 4],\n",
              "       [3, 4]])"
            ]
          },
          "metadata": {},
          "execution_count": 42
        }
      ]
    },
    {
      "cell_type": "markdown",
      "metadata": {
        "id": "tWecxq0-v16T"
      },
      "source": [
        "#### 75. How to compute averages using a sliding window over an array? (★★★) \n",
        "(**hint**: np.cumsum)"
      ]
    },
    {
      "cell_type": "code",
      "execution_count": 57,
      "metadata": {
        "id": "8P1owTstv16T",
        "colab": {
          "base_uri": "https://localhost:8080/"
        },
        "outputId": "c7993385-5498-46c8-c1e8-e5f8cb292a78"
      },
      "outputs": [
        {
          "output_type": "stream",
          "name": "stdout",
          "text": [
            "[ 1  1  2  6  9 10 10 11 12 13]\n",
            "[ 1.333  3.     5.668  8.336  9.664 10.336 11.    12.   ]\n"
          ]
        }
      ],
      "source": [
        "def moving_average(a, n=3) :\n",
        "    ret = np.cumsum(a, dtype=np.float16)\n",
        "    ret[n:] = ret[n:] - ret[:-n]\n",
        "    return ret[n - 1:] / n\n",
        "Z = np.random.randint(0,15,size = (10,) )\n",
        "Z.sort()\n",
        "print(Z)\n",
        "print(moving_average(Z, n=3))"
      ]
    },
    {
      "cell_type": "code",
      "source": [
        "print(Z)\n",
        "ret  = np.cumsum(Z)\n",
        "print(ret)\n",
        "print(ret[3:])\n",
        "print(ret[:-3])\n",
        "ret[3:] =ret[3:] - ret[:-3]\n",
        "print(ret[3:] - ret[:-3])\n",
        "ret[3 - 1:] / 3\n"
      ],
      "metadata": {
        "colab": {
          "base_uri": "https://localhost:8080/"
        },
        "id": "cROivgf2G54L",
        "outputId": "acd93243-9ba0-418f-ad1c-7b4ede39e99b"
      },
      "execution_count": 62,
      "outputs": [
        {
          "output_type": "stream",
          "name": "stdout",
          "text": [
            "[ 1  1  2  6  9 10 10 11 12 13]\n",
            "[ 1  2  4 10 19 29 39 50 62 75]\n",
            "[10 19 29 39 50 62 75]\n",
            "[ 1  2  4 10 19 29 39]\n",
            "[ 8 15 21 20 14  8  7]\n"
          ]
        },
        {
          "output_type": "execute_result",
          "data": {
            "text/plain": [
              "array([ 1.33333333,  3.        ,  5.66666667,  8.33333333,  9.66666667,\n",
              "       10.33333333, 11.        , 12.        ])"
            ]
          },
          "metadata": {},
          "execution_count": 62
        }
      ]
    },
    {
      "cell_type": "markdown",
      "metadata": {
        "id": "KYMMq1Fsv16U"
      },
      "source": [
        "#### 76. Consider a one-dimensional array Z, build a two-dimensional array whose first row is (Z\\[0\\],Z\\[1\\],Z\\[2\\]) and each subsequent row is  shifted by 1 (last row should be (Z\\[-3\\],Z\\[-2\\],Z\\[-1\\]) (★★★) \n",
        "(**hint**: from numpy.lib import stride_tricks)"
      ]
    },
    {
      "cell_type": "code",
      "execution_count": 79,
      "metadata": {
        "id": "6rl1QzWHv16U",
        "colab": {
          "base_uri": "https://localhost:8080/",
          "height": 174
        },
        "outputId": "846daadb-79ae-4434-e1da-b3f670a74fd4"
      },
      "outputs": [
        {
          "output_type": "stream",
          "name": "stdout",
          "text": [
            "[[0 1 2]\n",
            " [1 2 3]\n",
            " [2 3 4]\n",
            " [3 4 5]\n",
            " [4 5 6]\n",
            " [5 6 7]\n",
            " [6 7 8]\n",
            " [7 8 9]]\n"
          ]
        },
        {
          "output_type": "execute_result",
          "data": {
            "text/plain": [
              "'\\n# Method 2\\n\\nZ = np.arange(10)\\nprint(sliding_window_view(Z, window_shape=3))\\n'"
            ],
            "application/vnd.google.colaboratory.intrinsic+json": {
              "type": "string"
            }
          },
          "metadata": {},
          "execution_count": 79
        }
      ],
      "source": [
        "# Method 1\n",
        "#https://numpy.org/doc/stable/reference/generated/numpy.lib.stride_tricks.as_strided.html?highlight=stride_tricks\n",
        "# numpy.lib.stride_tricks.as_strided : Create a view into the array with the given shape and strides.\n",
        "from numpy.lib import stride_tricks\n",
        "\n",
        "def rolling(a, window):\n",
        "    shape = (a.size - window + 1, window)\n",
        "    strides = (a.strides[0], a.strides[0])\n",
        "    return stride_tricks.as_strided(a, shape=shape, strides=strides)\n",
        "Z = rolling(np.arange(10), 3)\n",
        "print(Z)\n",
        "\"\"\"\n",
        "# Method 2\n",
        "\n",
        "Z = np.arange(10)\n",
        "print(sliding_window_view(Z, window_shape=3))\n",
        "\"\"\""
      ]
    },
    {
      "cell_type": "code",
      "source": [
        "np.arange(10).strides[0]"
      ],
      "metadata": {
        "colab": {
          "base_uri": "https://localhost:8080/"
        },
        "id": "L6QBflKfOhPi",
        "outputId": "0dd296ff-8325-4148-ac68-7da79713f03c"
      },
      "execution_count": 76,
      "outputs": [
        {
          "output_type": "execute_result",
          "data": {
            "text/plain": [
              "8"
            ]
          },
          "metadata": {},
          "execution_count": 76
        }
      ]
    },
    {
      "cell_type": "markdown",
      "source": [
        "# numpy.matrix.strides\n",
        "This array is stored in memory as 40 bytes, one after the other (known as a contiguous block of memory). The strides of an array tell us how many bytes we have to skip in memory to move to the next position along a certain axis. For example, we have to skip 4 bytes (1 value) to move to the next column, but 20 bytes (5 values) to get to the same position in the next row. As such, the strides for the array x will be (20, 4)."
      ],
      "metadata": {
        "id": "Clnt1gJBN2vT"
      }
    },
    {
      "cell_type": "code",
      "source": [
        "x = np.array([[0, 1, 2, 3, 4],\n",
        "              [5, 6, 7, 8, 9]], dtype=np.int32)\n",
        "x.strides"
      ],
      "metadata": {
        "colab": {
          "base_uri": "https://localhost:8080/"
        },
        "id": "5ku5rvEuLnbK",
        "outputId": "cbda3f2c-af4c-445b-d210-5140bd1c51ca"
      },
      "execution_count": 73,
      "outputs": [
        {
          "output_type": "execute_result",
          "data": {
            "text/plain": [
              "(20, 4)"
            ]
          },
          "metadata": {},
          "execution_count": 73
        }
      ]
    },
    {
      "cell_type": "markdown",
      "metadata": {
        "id": "oY82g3zPv16U"
      },
      "source": [
        "#### 77. How to negate a boolean, or to change the sign of a float inplace? (★★★) \n",
        "(**hint**: np.logical_not, np.negative)"
      ]
    },
    {
      "cell_type": "code",
      "execution_count": 83,
      "metadata": {
        "id": "4XyzKZFdv16U",
        "colab": {
          "base_uri": "https://localhost:8080/"
        },
        "outputId": "df75d792-0b37-49a5-be8a-08f05714c310"
      },
      "outputs": [
        {
          "output_type": "stream",
          "name": "stdout",
          "text": [
            "[0 1 1 0 0 1 1 0 0 1 1 1 0 0 1 1 0 1 1 0 0 1 1 0 0 0 0 1 1 0 0 0 0 0 0 1 0\n",
            " 1 1 1 0 0 0 1 0 1 0 0 1 1 1 1 0 0 0 0 1 0 1 0 0 1 1 1 1 0 1 0 1 1 1 0 1 1\n",
            " 0 0 1 0 1 1 0 1 0 1 0 0 1 1 0 1 1 0 0 1 0 1 0 1 1 1]\n",
            "Negating a Boolean:\n",
            " [1 0 0 1 1 0 0 1 1 0 0 0 1 1 0 0 1 0 0 1 1 0 0 1 1 1 1 0 0 1 1 1 1 1 1 0 1\n",
            " 0 0 0 1 1 1 0 1 0 1 1 0 0 0 0 1 1 1 1 0 1 0 1 1 0 0 0 0 1 0 1 0 0 0 1 0 0\n",
            " 1 1 0 1 0 0 1 0 1 0 1 1 0 0 1 0 0 1 1 0 1 0 1 0 0 0]\n"
          ]
        }
      ],
      "source": [
        "Z = np.random.randint(0,2,100)\n",
        "print(Z)\n",
        "print('Negating a Boolean:\\n',np.logical_not(Z, out=Z))\n",
        "\n",
        "#Z = np.random.uniform(-1.0,1.0,100)\n",
        "#np.negative(Z, out=Z)"
      ]
    },
    {
      "cell_type": "markdown",
      "metadata": {
        "id": "dJwSveTdv16U"
      },
      "source": [
        "#### 78. Consider 2 sets of points P0,P1 describing lines (2d) and a point p, how to compute distance from p to each line i  (P0\\[i\\],P1\\[i\\])? (★★★)"
      ]
    },
    {
      "cell_type": "code",
      "source": [
        "P0 = np.random.uniform(-10,10,(10,2))\n",
        "P1 = np.random.uniform(-10,10,(10,2))\n",
        "p  = np.random.uniform(-10,10,( 1,2))"
      ],
      "metadata": {
        "id": "hiCmR_xWN9dp"
      },
      "execution_count": 47,
      "outputs": []
    },
    {
      "cell_type": "markdown",
      "source": [
        "![image.png](data:image/png;base64,iVBORw0KGgoAAAANSUhEUgAAAu4AAAHPCAYAAAAMBV/EAAAgAElEQVR4Xu3dCZgV1b33+7/EMAnSigqoCDEyxCEYNXQORjBOxAkckICiMQMSc44YYyD3mry+J7zHvCd6Em80CUESjwaMHjRRUDGoKOCQYJyIxDA4gBODwYCN0LRG7/4X1rZ2ddXeq2pX1a7hW8/Do9A1rPVZq7t/tfaqVbt8UNqEDQEEEEAAAQQQQAABBFItsAvBPdXtQ+EQQAABBBBAAAEEELAECO50BAQQQAABBBBAAAEEMiBAcM9AI1FEBBBAAAEEEEAAAQQI7vQBBBBAAAEEEEAAAQQyIEBwz0AjUUQEEEAAAQQQQAABBAju9AEEEEAAAQQQQAABBDIgQHDPQCNRRAQQQAABBBBAAAEECO70AQQQQAABBBBAAAEEMiBAcM9AI1FEBBBAAAEEEEAAAQQI7vQBBBBAAAEEEEAAAQQyIEBwz0AjUUQEEEAAAQQQQAABBAju9AEEEEAAAQQQQAABBDIgQHDPQCNRRAQQQAABBBBAAAEECO70AQQQQAABBBBAIOcC655fLxuXr4+1ln3/pZ/s2XePWK9R9JMT3IveA6g/AggggAACCORa4E83PyFP/P4Z2bF1R6z13L1nN/nCxcfIwC8M+Og6H4j84b8elLV/fsXz2rv17iZ79d1Thpx6qPQ5uHfFPnqz8Ze7npP9j9xfDhn5Kd+yt7bskMdu+pO8994/ZcTXj5bO3Tt57vu3B1fKqkdekENOHCwHff6T5X0++OADWTz9Udmx410ZNmGodN+7m//xj78oh33xYDlwaH9rn5Y3t8rjM/9o/f+IS4ZXXHvjS3+XZ257Rl5/YYO8u7VNuvTsKr369pQhY4ZI74H7hGoLgnsoNg5CAAEEEEAAAQTSL7B+1UaZdfFt0rq1VUr5NNZt149/TPY7dF8Zd+1Z0qnrzvCs4XXG+BtrXluPHXbeUDn2m8eUy3jDhJtEy9+x88flrB+cVnlD4KjJgh8+IEvvesb6lyGnHSqjrzylXT013P/kiz+T9979p3W+b937zXLIXjzzMVnyq8esMh59frMcf8mIdse/9eo/5JfjbrSO332f7vKtey629ll4/WJ5bNZS6/+HnnOEfHHKCdb/L5vzrNz3s4elrfXddufSuh556qfl+O98QXbtuGugNiG4B+JiZwQQQAABBBBAIDsCa556RX5TCu5JbU19esgF08dJ0749rEtq8NYAbm8aWp2bBmF726XDLjLq+ydb4Vu3G786W15b/ob1//uXbgjO+dEZ7UbDtX6/nXy7Fah1c4Zn53U0eP/s7Jnlf7qsFNztkfW50+bLsnuWW18bcvIhMvoHp7bjeuXZ1+Smi35r/fsuu4j8r6VTrf+fPXmOvPSnNRXH6r6z//V/ymVqd7IPzzFsQrN8oXSj0uFjHbx28fw3grsxFTsigAACCCCAAALZEggT3HVEed9P9ZZOpSkn297aJq8994Zsb2k1qrgeq8HdnuvuDu76tV07fhTet5bOv/jnj8iGNX+3zt+r/15y0f98pRSOd5EVi1fL76+YZwVgDcvDS9NgdCqMlP5fNx1Fv/N/3S2rH3/J+rte+8KZ54rePLg34+DuM2LvdrzyifbBfdT3viiHj/60zJlyp1V23bp071wq9zDZfe/u8vabLbLs3uXWzYxdXqeVCTDB3USJfRBAAAEEEEAAgQwKmAR3HQXvPaiXFdb7fno/2XvA3rLtH9tk3caN0n3PbrJ7p27yzJ3L5C9/+GvNKS+1gvt3F11ankZjc77w6Ivy22//zvqrBvQpD15ansbiDMF67jH/d5Tsf9h+1r5P/f5ZWfDjhTtHtkvHffE7J1gj7l5bXMFdbyyWP7jCuv7kuyZZNw0zxt5YvhEZMbF0s1H6Y286J/7OK+8RbZd+n+krZ11zunTf3XtOvVc9CO4Z/CakyAgggAACCCCAgIlAteCuo8FDxx0pfYfsJ9326iYvrlwjzz+5Stb+7VV54ZmXpaX1HesSJ5x4jHz5B1+S+3/yUHkk2e/aYYJ7xTSU0nSZqYtL4b5TR+sSm9/YYk1ReXtji/X3Q08YLKd+f6S8s2mb3H75neWArFNpLvzVudKhg/e0k7iC+xO3Py1/uOZB62HTi2ZdaAV4Z3DXqTenfm9kxVx2/aRgzdOvWMd4fTpQrV0J7ia9nn0QQAABBBBAAIEMClQL7iMvO670MGkf+d3198qbT78pL73zquzdcU/p/vHdrJq2vPuOvPT2qxXhfcb4/5Yd29p8JYIE9x3bdsibL/5dHvrFI9YItG6DRwyQsdecWXF+fXh0cenhUSk9PKqfDpwy9UTZUHro9YnbnrQ+AejUtaNc8Itx7ValcZ4kruCuIfyvD/xNPvHZj5bCXHDtQ7L01iety+u8/U+PPFiGjDpMDjh8/0Dz2b2QCe4Z/CakyAgggAACCCCAgIlAteCuAXnF8y/Iw798xArrHTt8vN0pN+3YXA7v0x/4kTz04yXlkO11fdPgrqPsD09/RDau3CjbSwFeNz323OvOkX0O3Kvi1Dq95Pbv3lV+UFVHqXVpS3veffP4o0RvQqptcQV3r2tqeX/9lVnlTwl0ny6lVXY+OewTcuiJn5J+w/qVP1EwaUPnPgT3oGLsjwACCCCAAAIIZESgWnDX+eB9SvPadVWVatuKlpesaTPTbp4qL//h5Z1zun020+DunLuup9K57SOrzFHXhz3n/u97243268OsF950Xrt58+7iJRnc9dq6Bv0D1y9qd5OjnxgcNOxAOeYr/1L1EwI/X4J7Rr7xKCYCCCCAAAIIIBBUoFpw1znWY/7v6IplEr3Ob4+6T5/3n/LIr/9YXsXFa1/T4K5TSXRKiXPTOfcnTRounz5niLWqjHN7/5/vy/yrH5CnSw/J2puG4JGXHy9HnnV4TZakg7sWSKcCPTv3udJUmhXy+vPr5IP3P1pIXz81OKO07KROnwmyEdyDaLEvAggggAACCCCQIYFqwV3nX3/r7ovlt/86p/yQp19w73FID/n32VPkulEzKqaAuPc3De56nE6Xeenxl2Xtstdk7TM759Jrmcb/11kVbza1r7F53Rb5zTduE/2vbvqg6hn/5zSjeeOmwV3PedYPR7VjeOmJNTL73+aU/91eDtK0K+gI/KIbHpUX/vRyOcDrA7Xn/vQc3ze9ep2b4G4qzn4IIIAAAggggEDGBGotB3n8vw63Vjxxj347q6lTZcZOHi1HnThEunXdTX7//bvL8829gvuFN5TWUvd5AZPXcpB6DueLjA78XH+ZcN1YT2nnfu63nOrc8udL03g6l0bu7Zc42SepFtx1VRhdHUa3AaVpLOOvHVNeK94+/m8PrpTbr5hr/VVH+q947PJQPUGXsNRPDnT0XT9UGHPVaPnUCYOMz0VwN6ZiRwQQQAABBBBAIFsCtYK7BtVjvvYvcuPXbvGsmE6TebPtrfLSkGd89WSZcPnZcsu/3e4Z3nUKyFd+dV75raTuFzD5BXd7WUUthK4S891F3woc3G/91h3WNB6vUXvnkpN64qkLP1or/rGb/yQLf77Eup77za92IayVbUp/7H0mz53kWT6d0vPE7CdLq968KceUXrxkv4jKubO+SdZ+CZP75qNW7yK41xLi6wgggAACCCCAQEYFagV3nVc+ef435OoRP62Yg+2urnN1GQ3vZ3/9VPnll26UttZ3K3YNE9w/KK3pePvUuyreNjpl4eTAwd0ZiPsfeYC1RKSuq+4+v/vGQEfjf37Or8qj4MMmNMuISUeX117fWFp68s7/Z155OpHXkpV2YXVKzMwLf2P91T1tSP/tvbb35GdnzSxPNyK4Z/Qbi2IjgAACCCCAAAJRC9QK7nq9c39ytiy58Y++01/sMrW9/64s27RzRRldGvLxGUvbvZCpVnA/+/+cLh8vTc2xt21vb5e/PbxKXvjjS+W3suo0l9FXnhI4uC/+79Ko+PSdo+I6DWXQ8AHS74i+snLJC7K29MIjXfNdN6957Dd+dXa5/jpi3+ugveWTzZ+QLaX59C8uXVNeelJvBMZefaa13rzXpiH/l+NuLH9Jl4Ecet5Rsl9p9Z53W9+TP//umY9Wmimd6+xpp8shIz9l3OyMuBtTsSMCCCCAAAIIIJAtAZPgrkFZl4XUud61NntpyO/88GL54B//lCU3/bHiEPdUE/dUmVrn1/njX5l5nu9SibXmuGtottd397pWx84fl2/8z1fbvbH0tedel1suub3qy6X0fNVG2+3r/f6KeVWXzLT3008F9Cagc/dOtVjKXye4G1OxIwIIIIAAAgggkC0Bk+Cua6Gf+/Oxcu2pv6hZOXvKzNemnit7d92jPDfcPtA9PcT9UGi1C+ixXyoF2T4H9/bdTdecX3bPcuvr+tIlffmSc9Pr6eov9sozzq/ptKDzp48TXQbTa9PR8tsu+53nsToKP/RLR8rIb5Ve9FS5UmX7U5VG9hff9JgsmfG47/Qj9ycTNeE/3IHgbirFfggggAACCCCAQMYETIK7BtGpD14qvxx/Y9WlHrXqdnC/4heXytsr3hZdj925ec3r/uuCv8mTpdVU/vnuP8u76lxvXc3mY6URdp2WMvi4gdaa5h0+1qGq8OY3tsjiGY9Kt726yee/9jnPFy/pA6Ja7+cXrpRtb22z5poPHHGQ6Ah3rfNrud4ozVN/+c9rZfNrm+VjnXeVvoftJwc29y8/cGvaBVre3ipPzX5GVj3+orS27Hw77J799pCjzv6MDPz8J2uWxes6BHdTffZDAAEEEEAAAQQyJmAU3Et1OueHo+XFP6+peMGRV1V1qoxuNz7xU/ntpe1XlvEK7hkjS3VxCe6pbh4KhwACCCCAAAIIhBcwDe66dvrx3xheXhHF74oa3K+46Vvy3vo2mXfVH9rtRnAP31YmRxLcTZTYBwEEEEAAAQQQyKCAaXDXhzanPnyp/Ofwa+U9x5QWZ5XfO+gD+bf/+Jps+8c2ay64eylI3dcd3HXqySuv7Xwrqr3tvdfe8u57bbLbbt2kU6eORqrvv/++bN68WZqamqRDh+rTaYxO6NhJp9ZsfPNN6d27V9BDy/vrtJgtb2+W/fffP/Q5TA4kuJsosQ8CCCCAAAIIIJBBAdPgrlW7aPaFsuDHC2XtMzuDtj6QecCQ/eWosw6Xg445UNreeVcen/2EPHXHM77h3h3c16/fILNm/1ba2trk7be3yF6l0D78mKPlueV/lc99bqgcesghRqp6nl/feJN8+YLzIg/Hr732mtx62+0y5TuXGZXFa6erfvgjq36XfevSum4AahWA4F5LiK8jgAACCCCAAAIZFQgS3Ieec4R87rzPyqOlN4keXloict+D+8jGF/8uy+5dLisXrZbN67eU3mZUHcJvqszTTz8jjz72uEy+5F+tE/zq1/8tAwcMkFWrV0uXzp3lS+ecYz2sumTJo/LssmVy+JAh8vnPDyuPrnsFdx0p13Pa+w8f/nnZsaNNFiy4X9asXSvNQz8rzc1DZflf/2pdc9mzf5GTTx4pTz/9rGzYsEE2b9ki48eNtUb+H3nkUTnhhOOs6+v23PLl8i+fa5YjjviMaLD/w4IHZJ+995auXbvKMcOOrngo9q233pIfXf1fMvSzn5XW1lY577zxop8Q3HnnXOnStYu8/PIaOfmLI+XAAz8h8+/7g/Tcc09Z+sSfrfINLf3ZRRedN9wI7oZQ7IYAAggggAACCGRNIEhw1xH2T4882Fqx5fXn18m6v62vua652yNIcNfAfvzxx1kj6aNHnyYvvfiytLS0WP+2cOFD0rdvX9EwrptXcH/wwYesAG7v36tXr1LQPlzeWLdOmnr0kOt/9gv57tTvyMMPL5bX33hDTjt150udbr1tjjVyr2G8f79+cuihh1hl+N4V3xUdOT/5iyfJu+++K0seeUzOn3Cu9YmBhuz9999PZtwwUy75t29WjPprObaUbgK+8IURVoCf9oN/t65z5f/+d5l00UTZtn2bzJp1i3z/iivkl6XjP3P4EBk8eKA1yn/8ccdaNwemG8HdVIr9EEDAU0B/KTi3zqV1cv3WyLV++K7aWFoWq7V8SK39YUcAAQQQCC8QJLiHv8pHRwYJ7vZUGR191/9fvPiR0jz2LdK9e7dSgN8qh5UC9ahRp/kG91tuubU0sv5Kef/BgwbKoFIgnjv3HtH/f+LPf7amrjxWGpXfuzRarjcBL730stxz73xr5F9Hv3U74jOfKQf3667/uXzly1+Wd7a9I3Nuv0OOKwXr++67X75RCuDdd+8m1/zXtaVR+nPKwV1H+DWgHz1smDX//t758+XUU06xRvr133/0nz+0rqHHnX3WGfK7399VPv53v7tTepRuMHSk33QjuJtKsR8CCHgKzJlyZ8Urr/UFF5fcNcnzTXC6ju31Z8yoeKvdiIlHi/5hQwABBBCIXuCVZ1+Tm79xq++LgKK+og7cXDB9fLvfAV5TZdzBXaey6DZ+/JesB1GdD6/aI+46Mr9Xz71kt667ySOPPSr/eOsf1tQUna6iwdmennLKyV+0Rs+/9tUL6wruY88ZUx5xP/DA/tYovnPEXafh6Gi6TpPR7R+lcm/YsFG+c/llVnDXEf+2tnfl2v/vp9b///rGm605/p/97FHy45/81Pp/DfmmG8HdVIr9EEDAU0DfTnfd6BkVX/ML4/qijgXXPlTeV98cpw9DBXndM82AAAIIIGAuoKu63D71LvnTw09L94/vZn5giD1b3n1HTrnwBOuNpu5NR7qfeeZZOfvsM60v6Wj3pw871Bq5tv9/7z33ljvu/L385bnnZL/99pMJpUC+Z2k+uG47tu2wvvbGuvXW3wcNHCBfOPZYuf+BB6yR9QMOOEAumDDBWtnl5t/cUpoCc4A1h13/7fm/PS+7ddvNehBWbwCeKM0v15F8vZnQKTEHf+pgmXf33dYNgI6Cn3baqdJWGknXc+v/v/766/LQw4tkj9KNwYqVqyoekNVzrC9N19EbBbuc1/3iFzL5m9+UK6f9QAaU5vGvLs3jP+vMM6yAriPv+/bpbdVRw76e33RlHT0/wT1Ex+QQBBCoFFg88zHRP/amo+5TFk5ux6QB3/ka6tFXniJDSg9AsSGAAAIIxCegSxU+/btl8uwfdz6kGcfWs3OTDDzmIBly6iGebzON45pJndN+YHXrO1tL03mWyFXTplkP0lbb7Ck09lQZe1/3VJugdSC4BxVjfwQQaCfgNQXGHcqX3bNc5k6bXz5WR9snz52EJgIIIIAAAqkW0FVlVqxYZZVRH2Q1We9dV5X585+fbDcNRkfoDxl8cOibG4J7qrsKhUMgOwJe02CcwfyGCTdZD6ba29hrzpTBIwZkp4KUFAEEEEAAgQYLENwb3ABcHoE8CfhNhXGvatD/yNJcxOnj8lR16oIAAggggEDsAgT32Im5AALFEVixeLXoKjP2Zk+H+c3Ft4lz2UgN7Rre2RBAAAEEEEDAXIDgbm7FngggYCDgDunN448SnUZjb4y2GyCyCwIIIIAAAh4CBHe6BQIIRCpQ62UfOu9dR+LZEEAAAQQQQCCYAME9mBd7I4CAgYCuHqOryLg3XfpRV5thQwABBBBAAIHgAgT34GYcgQACNQS8XsqkhzDaTtdBAAEEEEAgvADBPbwdRyKAQBUBfUOqc267znX3epseiAgggAACCCBgJkBwN3NiLwQQCCjgfpvqiIlHi/5hQwABBBBAAIFwAgT3cG4chQACNQQI7nQRBBBAAAEEohUguEfrydkQQOBDAYI7XQEBBBBAAIFoBQju0XpyNgQQILjTBxBAAAEEEIhFgOAeCysnRQABRtzpAwgggAACCEQrQHCP1pOzIYAAI+70AQQQQAABBGIRILjHwspJEUBAX8C07N6PXsI05NRDRV/AxIYAAggggAAC4QQI7uHcOAoBBBBAAAEEEEAAgUQFCO6JcnMxBBBAAAEEEEAAAQTCCRDcw7lxFAIIIIAAAggggAACiQoQ3BPl5mIIIIAAAggggAACCIQTILiHc+MoBBBAAAEEEEAAAQQSFSC4J8rNxRAonsDmdVtk5aLV0jz+qOJVnhojgAACCCAQoQDBPUJMToUAAu0FfnPxbbJh1UaZOPvL0tSnB0QIIIAAAgggEFKA4B4SjsMQQKC2wIrFq2XOlDutHXUN99FXnlL7IPZAAIFcCOinbZvf2GLVpWnfHty456JVqUSjBQjujW4Bro9AjgWuGz1D9Je3vV0wfZz0P/KAHNeYqgURcL+kS48d/vVhme8jXvXyc+nRZ3fpf8QBuXk5mX6/L575mKxa/IJsb2mtqHaX7p1l4IiDZMTEownxQb5R2BcBhwDBne6AAAKxCOgvb/3j3HoP3Ecumn1hLNfjpNkTcN/YaQ3y8MmMV9+v1To6jWzsNWeKfo9kddMblrnT5hsVf+Rlx/Hci5EUOyFQKUBwp0cggEDkAq0tO+T6M2a0G3HTC+l0GQ1nbMUWWF967uGGCTd5IkxdeKl07t4ps0BhgrtWVkekL7lrUibrHiS02w2rI+/6hw0BBMwFCO7mVuyJAAKGAjrqpr/IvbYshxPD6hdiNw3e91/7kPQqjRDr6GnQbUHp2KW3Pul5WNZv7tzBXW9UvR7Mbt26Q/5S+j5xTinJ4ki0102Yfp8PHXek9Duir9XG+oD60tueqpg6p//uN32u3v4VtD+yPwJZESC4Z6WlKCcCGRGoNpLKSFtGGtGgmGueekV0xSB9ZkHDV9DNOU1GQ63zWYjBIwZY00ayurmDe7VnO2xHu65hPRtppQ+g64Po9qbTfS6YPr7dJwf6SdycqXeK1tne/Nq63v7VSA+ujUCcAgT3OHU5NwIFFNAw5/zF7Ecwee4kHlDLcP+oJ1g5VxtSAl3jf20pzOlNn701YrqMs9/W8xB1kOCu9Z029OpyvZMK7mrd+uHDo70H9go9PUdvuPQmzLnpcyx+c/W99r/yiantvhPq6V8Z/rai6AjUFCC41yRiBwQQMBUIMs8166OqpiZ53a+eYOWeSqVBT4O7Tp+xt0ZMGXEGaK8wadqWQYK7+3smqXnfzhvselZ7cpff5Ptap0jpNCF785pKVE//Mm0n9kMgiwIEd49Wc45E6JfrGY2Iu1O4RzY7l+YVpnlVArdtNZ80u7vLrfVaWfqoWOdx2r+QdO5v7wH7yKDSx/5ZftDOtA/rx+D6sKFzykOtY+sJDLXOzdfjFQgbrNwPLus0Gf30xT0S24gViOIK7n5z3PXnhXOKic4LT+pFZVEFd/dNSlQ3HmH7V7y9nrMj0HgBgrtHG7g/6k9ruPD6yFF/8E9ZOLnxPcunBKbTKOzD9WPjNK/rbD9AVW1qiP2QVpyrJ2hf0Ae/nNMNNPj0K/k1lx4QS+KNpWFW0rBDW2o7LAXzFQgbrNwjtDpNxn641b08ZNLTqeIK7ibdSH/WnVR6yDepgZeogntcvy/D9i8Ta/ZBIMsCBPcMB3e/VRnSvCJD0OBuN08a66ShfVZpPrf7JSN+PxD0F/PYq8+MfPS9Vjn0xuH80sODcQYCvXGYOeFmYwunUSOmRGT5h3Zayh42WLkfZHTOh3b/TItq9NbUrJHBXcuYZH0J7qa9gv0QSJcAwT3Dwd3r5SVaHZM5ho3qhmGDe9qWEPQLqjqCrK/21s1rFD7ql8tUWy/d2cZx+7nDWJD+FXfZgpSFfc0FwgR37a9XH//T8kXcn7i4VyRK+hOZuIK73jTrNEb3tvmNLe2mliV1I0twN+/r7IlAmgQI7hkN7rWW3GvEigwmHdsd3P0eANNgrGHQucpEmkbd3fXQ8KkfcztfLKQhZfGvHmu3VnWUU6+qzS+Na+6pVzv7TRXSdb6dbaihROf+u7csPc9g0s+LsE+Y4K4PJTofQHVOk7HN3AMS1VYoCevsXoLR9Dym37tBHk51m8Qx3dF5Q2JaV9PRf/eDxlH9nA7Tv0zrxn4IZFmA4J7R4O7+YamB0fnCG78fnhom16/aUFFrr9DkDmJRBSvT4K4FdC8ZZ/8i8aqD19Jt7v2ienDX69mCar/Q3aPRUY66O0OO18N8+rCoHZyTHr3UNoxr/muWf+jmpexhgpWzP5o6eIV702P99ktTcNcyul2ivlmJM7i7b1JM2stkAYgw/avefsHxCGRBgODegOAexUjoNcdfV55PrIHsgl+Oq1hLt9pawO5fEu6pNe7y1VrdQcOZvdV6EUs9wd15M+Ksv17b6yE290Nw1T6C1n2X3bvzTZ9DTj20YuTc3UW83oqoZfPb4vr4330D4TVC5i5r0g/7Edyz8GsgXBmDBiuvG16TK8cxAp224B7390mcwd09wFJrgMA9XUr7AOu4m3wnsA8COwUI7hkM7l4vL9FQ6g7kfiHNa362PWLs/prJg41B5oWaBnet493T7qt42NFZH5OPZ937VAutzoBb6yNidx30DY9685P05g4fXp+yuG9eTD/qj6oucQeSqMrJeYILBA3uYVYdskuV1PdYkJ9l1cSCTJXxek4l6hF3r7JGNcddz+0eSKk2SGI68BG0fwXvwRyBQDYFCO4ZDO5+qzK4fyBW++Hpnldpj5K4z23yoFSQX3ZhH051h1L3zYvXA7nOXya1PjUIEtyjXLJOrxt063dEX+s18+429Arl7nBv0p5By1Ntf4J7lJrpOlfQYOX+vtHv6R59dveslH765Zz6F+X0smqKQX6WRRHcdaBEfwY461prxDqqXhBlcPe6KfP6WeO1n99gQtD+FZUL50Eg7QIE94wF92qrMrinZNQKq+5QpeHX+TIQ01dvB/llFya4+82ZdAYB98fpbotagTVIcHd/7FzPGxbr+QjbZFTPHdxrfZoQ9Q8sgnvUouk5X5BgFXS6mHv/OKbLeEkG+VkWJLgHabVaP6uCnMv0prreT+L099JvLr614kF0vba2m/0wur5syr10brX58EH6V1QmnAeBLAgQ3BsQ3OvpGNVeXqLnDbIiQ7W1t4O8wS/IL7swwV3r5Yilm/MAACAASURBVHUT4l7z2fnLxx1qa62yQ3Cvp1f6H0twj8c1DWcNEqzc09ZMHmD0GqF3rtpkaqCfIurbjGs9f6PnC/KzLI7gXu8nCzrw8kTpRWy1ntPRskc54q7nq/U+CbeX/ky/YPp43/daBOlfpn2B/RDIgwDBPWPB3R2E3HMh3WG21i9I95QTm8NrTqkGfedHuva+zukeXm8Hdb7u2yvIeX0jrX36VesXkHOExj1a7B6Vc9bVeR33NBqtg9bFuen17JV09JMGnY7i3PTjazs0RDniXs9UGUbc8/AjOLt1CBKs3HOgTeZwu8N+mPdTOAc6TD4Za1Rw158v+oZj/RkWdnOOept8shZ1cNdyaxkWXLvQ8/eEXS8dFPp0aRU0+225fvUN0r/CmnEcAlkUILhnKLh7rcrgDsrucG0yX9I9suV3TBQrMZg+nKrN4r6e16i7s+x2ud3Tidzz48OM+junDaVlFJngnsUfufkps2mwMl2+1S2jP8v0BUXOzWvZVy9RHcBYuWh1xQ26SXB3LoNrei2v63uV3a/l611qVwcw9H0JzrKbBHfnkoz1lsGr7dRfB0T00w7d9HmG/kccIINKUzI7d+9U8xvBtH/VPBE7IJAzAYJ7hoK7+2FE075Ybf5ikBH3pIO71q/W6LbXcof6C0k/Hrc39zSZeoN70Ad49Zf4vNIKOfamv8CqLR9p2q7u9vD6lMTdvvXOZTUtm71fWm5ygpab/WsLNCpY6Uj8lnVvW3On7VFbezrMoOEHWaPWGtx1TnVrS2t53rVJcK9d62T3sOtq10uv7vx5MvbqM62/a3DXzZ5HbhLck61J8Ks1qn8FLylHIJCsAME9Q8E9zMtLtHp+8ya9liGzObxeQx/HVJlqv0xN1vt1fwqhv8jXr95Y/qjW6+P1eqfKuJ8zqPWpRrXlz+qZKuOeKmSyjrvJFIUofwQR3KPUTNe5GhWsnDeseiOqYVWDutfPLOe+WQzu9tRH56eN9gCO1yeQ9vcbwT1d3yuUBoEoBQjuDQju7o9Rm/btIRr+qm1eqyx4vTrePofzY1O/FRncI8f6i8D5enrTOaVB5oUGmSpj+iIo5w2NllnrYM9hN339dpCHU71uePxujrwe2HKG53pWldG2ds4d9movZxsntTKHsx8T3KP8cZ2uczUquKuCHWj15+aO0lQMfRbG6xOnrAd358CE/R4K+3va62cbwT1d3yOUBoE4BAjuBsFdA23n0gM11Tbnx7a1GirMm1ODPnTqnrfu/qXm9bY7DZTXnzGj4oFQkxef1BPcvR5mVT8dRXMuTan/5rdMmt8UoiBBNUhw17J4rUesc2J1NQd7beqVS16w1lp3bu5wXW9wdz/A55wK455KU++KFbX6tdfXCe5h1IIf4/4Uye/7KviZ/Y9oZHDXm2e9Ybdv0P0GGbIe3FXfHpiwf/7ZPzO8VsoiuEfZwzkXAukUILgbBHeTpjNd89wr9Jl8rBlkmUe9hjvoO0Ob14ixHfjc00C8Pn52e9QT3E1sdZ9qa9L7vUo9SFANGty1TEHnyntZ1jNVRsvgVXf7oTrnpy66b7U3x5q2Q9D9CO5BxcLtH+STrHBXaH9UI4O7lsZ50+r3yVoegrs9MKE3J7oai464+92oENyj6t2cB4H0ChDcMxDcvUbHNYRV27weJLVHaNxTZNw3He659LWmzMQd3LV8+hBWtZUI3HVSG5NPC2zDMMFdb4DmlR6Uc38y4NUueuMxqvSmSP1v1Jv7Zsvr/KZThqIuG8E9alHv8xUtuLt/Jvq9dyIPwd35rI8ORuj3u9/3M8E9me83roJAIwUI7h769ooEQRomyFQZ/cGrr/S2t1ovy9ARF512YW/OFQaqlVF/iDu34V8fZk35sVcgsL826sqTK+bY6y+7Jb96vOLYk0oPffqFTud1ar3kJIitrqWurnrjUGvz+qRgysLJtQ4rf93ZJrXaw31S9dI1570CvJo1jzvKeAk04wK7dtRrLym9Ot35jILuotcfPvFoI8Ow167VB50j/0mvahNHndJ4ziIFd+cnhvpppf0OBq9PPfMQ3LW/mT6rQnBP43cnZUIgWgGCe7SenK1BAu4pI0GmyURZZGdIjXptZJNyOtfMbsT13WVkxN2k1erfp0jB3Q6x9mpOzgf33c/B5CW4Owcmqv1sI7jX/73EGRBIuwDBPe0tRPmMBNwj7ozsGrHFvhPBPTpivTldWvpkRx/c1k0fgtZPh3SkuSjB3Xlj6lyNy/kyIeeLk5z71/NCpehaMfyZ7CmJ1X622Q4mK5WFL0kyRzb6GYpkaslVEAguQHAPbsYRKRGw15XXN/P9pTT9SJeE063WuuopKX4hikFwj6aZqz3HoPOddeqd89OeJNYsJ1hF07a1zqJhfG1pOp5OMyzSzzb6V62ewdeLKkBwL2rL56Defm9ybdSDmDkgjbwKBPf6SU0ePtaHM+0bV70iwb1+97Scwfk9VKSfbQT3tPRAypE2AYJ72lqE8hgLeAX3Rs1tNy50wXYkuNff4M6XbNmfKGk/183rfQfO4O5+EN60NLUeMtfzEKxMNevbz16jXx/Wz/p0nyAS9K8gWuxbJAGCe5FaO2d1tafK2NUaVFp9Jo7lFnPGlmh1CO71cbuXPdT+fcH08RVLo3q9gMwecfd6UZhJiUxG7O3vP52+Yd9ImJybfRAwEaB/mSixTxEFCO5FbHXqjEBCAgT3+qDdL1LzezeB+wVtSQT3+mrG0QgggAACYQQI7mHUOAaBmAS2/PhZ6XJCX+k4pGdMV0j2tAT3+rzdfl6vudcruF9AZgd3HbXc/MaWwIWoNiUj7Ch+4EJwAAKGAkHeXG54SnZDILUCBPfUNg0FK5zAByIbR82X7Q+8Kh2aOkrX0z8hnYb3sf6rf8/iRnCvr9VMl3l0h2mTqS5hS0ZwDyvHcXEJENzjkuW8aRQguKexVShTYQXemvq4tFz3XLv66wh817EHZW40nuBeX1d2j6T7jbjPnTZf9CFGe4szuNdXI45GAAEEEKhHgOBejx7HIhCxwLZ5a+TNsQuqnnXXft2l8/B9pcvp/a3/pnk0nuBeXwdxj24HneMe56oy9dWMoxFAAAEEwggQ3MOocQwCMQm8v7lNXu3934HO3uXEvtLp2H1ltzGfFA31adoI7vW1hr5854YJN5VPkqZVZeqrGUcjgAACCIQRILiHUeMYBGIUWNd8h7Qt2xTqChrcu4wujcR/fl/pOqp/qHNEeRDBvX5N94oxzuUX1z79asUbU+2rsarMTgldKnPlkhfqbwTOkIhA526dRD9VYkMAAX8Bgju9A4GUCfjNcw9STJ0+02vBqIavTkNwD9Jq3vu613L32svvzalxrCpTf42SO4N+WqGfWrBlR2Dy3EmiN6dsCCDgLUBwp2cgkDIBk3nu1YqcltCuZSS4R9O5dK76/dc+JNtbWtudsHn8UdYbVPVNk/bGw6k7JaYNvdr6r8mbYKNpKc5Sj0DTvj0I7fUAcmwhBAjuhWhmKpklgTDz3O36pSm0E9yj7XU6er70tqeskK5bjz67y5BTDxVdCk+DvX7d3kZMPDrai2fwbHojozeOOnqro7hsCCCAQB4ECO55aEXqkDuBMPPcdX773nNGNnx6jLMxGHHPXdfMTIX0ZkaXyRw8YgDzpjPTahQUAQRqCRDcawnxdQQaIBB0nruu865z2tO2NCTBvQGdh0taAgtKU4v04VT99IFPIOgUCCCQFwGCe15aknrkSiDIPHcdae+zdEzqQrs2CME9V90yU5Wx+57f2veZqgyFRQABBD4UILjTFRBIoUDQee49Zx4r3c4flLqaENxT1ySFKdA1x19nPczLKiWFaXIqikAhBAjuhWhmKplFgaDz3NMY3gnuWex52S+zPqir69/rxgo72W9PaoAAAh8JENzpDQikVKDaPHedHvPe2pZ2JU9beCe4p7Rz5bxY9tr3uuJOUktB6io2RVjO0F4XX9/iy4YAAskLENyTN+eKCBgJ+M1z73JiX9lr1gmy7e6XZdPERakO7wR3o6Zmp4gFFs98TPSPrnE/8rLjjM7u9bKq3gN7Sefunaoebz8Ea++ky0/qvPo0BNsgL+CqddPhfpeAvvTrpJLtkNMONfJlJwQQiEaA4B6NI2dBIHIBr3nuOo9dR9XtbeuslakO7wT3yLsFJzQQmDPlTtFRdw3tGt5NNl06UsOpc6t1vH2DoCH206UAa78IS/9+yV2TaoZ+k3LVs49dPtNz6E2HrsDjDuP2mvh6HvtrtpV+oqGfbLAhgEAyAgT3ZJy5CgKhBF4f9NvylBh3aK8V3nVN966j+oe6blQHEdyjkuQ8QQR0fruONpuGytaWHXL18T9td4laL2+6YcJNolNHRl95SjnQ2td2/luQske5b9Dgbl9bw7mW397sTxWc/27f6Lj3jbL8nAsBBNoLENzpFQikWECnwuioul9orxbe0/AWVYJ7ijtXjos2bejVVu1MH0y1X9bkRXLR7At9p71o/9ZNp4zYU2PsPp+G9ePDBnetk/OmR4O7fpqgb+q1R9ztcyf5HEGOuyxVQ8BYgOBuTMWOCCQvoKF9x5J1FdNj/Erh9TBro8M7wT35PlP0K9rTOmqNljud7Kk1XnZB5snr6LuOwutWLfAn1Ubu4O73CYR+4rDg2oUVU4WqjaTr/lpP/VSj1nSipOrKdRAoigDBvSgtTT0LIWCP0Dsr28jwTnAvRLdLVSX1bak6Qjx4xADrIdFam3PpSN1Xj1v79KvWGvC6md4A6A3D7VPvso5Ly/QR0+Cu9XRPF/IbSVcvvdHRmxT9lOGC6eMbPpe/VhvzdQTyJEBwz1NrUhcESgJpCu8Ed7pk0gL2fGzTqSp20LfLqXO71zz9SsXoc6258s6AXG9o10B8f+nGQ7depWBsuiqOl3M9wd2rHvrA793T7rNuTgjtSfdsrofATgGCOz0BgRwKpCW8E9xz2LlSXiW7z9UK23Y17AdM7b9PXXipFdx1VNneqoVx+yHNqJZHdK7gUu/8cdPgrjcL80qr6thrtGu93Q/XOp8DCDJ9KOXdheIhkDkBgnvmmowCI2Am4Bfe+ywdI/oCpyQ2gnsSysW5ho746tSVamuk2w+mTp47ydq32uack677OafX2OfRf9dQPmXh5Hanci4HeX5pWcQo1m6PM7ib9hT3jYqzTGlYLce0HuyHQB4FCO55bFXqhMCHAl7hveOQntJrwSjRue9xbwT3uIWLc357DraG6Imzv+wZyu356n5B263lfnmSM5S6H1jV+fIa7J3bNcdfV54L7z636VQd93GNDu46yj/26jMr5q1Xe3i33k8FitODqSkC0QgQ3KNx5CwIpFZg4+nzZfsDr1aUL6nwTnBPbbfIZMHsaS1+D57qiLyGTNMwaa+5bmPoNBn7TanuJSK9rmkvB+mF6Vw6MQh2o4O7ltV9c2QvB+lVj3rn4QexYV8EEGCOO30AgdwL6BtYN4ycJ23LNiUe3gnuue9eiVbQObXFawTcnrpiMgfbGZC1Eu5g7vVSJmewj6LiWgZdwca56acG9ltJdaqP+y2muq+O5pts7jnu+qCrBm33tmXd26L76rXtzfTmx6Qc7IMAAtEJMOIenSVnQiC1Ao0K7wT31HaJzBbMOa/8krsmeU7pMJmHbT9U6gyq/Y7oW+GiAdoZZk3OGwQ27AuSTF8sZfpwqpZZb1SuP2NGxdSfqG9UgtiwLwIIeAsQ3OkZCBREoBHhneBekM6VcDX9pszYU19MVpSpNj/drzpRj0KnKbhrnfl+TbgjczkEQggQ3EOgcQgCWRVIOrwTBLLaU9Jdbr8pM/ZKMLVGpO258GFqabJajel5k54qU+uGxr00Zq39TevJfgggEJ0AwT06S86EQCYE/MJ7t/MHSc+Zx0ZaB4J7pJyczCFgrwij88Avmn1haQ3yDdaIsS7JqH+vtrlXSdFjOpdWq/HaNr+xpWK6jM4T1zn0cW1xPpxaLYi75/xr/ZgqE1crc14EwgsQ3MPbcSQCmRXQ8P764FtE/+vcog7vBPfMdpHUF1znZOsIsc5B1yDd1Ht30TDvt+KMXaGgD526V5cxuTGoBy/O4K4Punqtba+Gqxa/UDG/vZZjPXXkWAQQCC9AcA9vx5EIZFpAV5nR1WbiDO8E90x3kdQX3h1y9e+11k83WebRWXGvoB/ldBk3cpzB3bRBq62Vb3oO9kMAgXgECO7xuHJWBDIhEHd4J7hnohtkupDulyjVmpftnsdtslKMux+bLDcZFrXRwV1H5HWpzSjeAhvWgOMQQMBfgOBO70Cg4AJxhneCe8E7VwLVd06Z0ctVGw3XfedMvbOiVO63hHoVWUfpl927vPylHn12Fw38cWz64O39pSk/utX7ciN3uauVV6/Ve8A+Mqj0dlj7JVRx1I9zIoBAfQIE9/r8OBqBXAjEFd4J7rnoHqmvhL1KjE7xmLJwcurLSwERQACBsAIE97ByHIdAzgT8wnvTVc3S4/LDQ9WW4B6KjYNCCGh479ytk+ha62wIIIBAXgUI7nltWeqFQAgBDe/rmu9od6QuE6krzgTdCO5BxdgfAQQQQAABfwGCO70DAQQqBLbOWimbJi6KJLwT3OlcCCCAAAIIRCdAcI/OkjMhkBuBqMI7wT03XYKKIIAAAgikQIDgnoJGoAgIpFEgivBOcE9jy1ImBBBAAIGsChDcs9pylBuBBATqDe8E9wQaiUsggAACCBRGgOBemKamogiEE/AL773uP106D9+36kkJ7uHMOQoBBBBAAAEvAYI7/QIBBGoKeIX3Dk0dpdeCUdJxSE/f4wnuNWnZAQEEEEAAAWMBgrsxFTsiUGwBXWlGA7xzqxXeCe7F7jPUHgEEEEAgWgGCe7SenA2BXAsEDe8E91x3ByqHAAIIIJCwAME9YXAuh0DWBYKEd4J71lub8iOAAAIIpEmA4J6m1qAsCGREwDS8E9wz0qAUEwEEEEAgEwIE90w0E4VEIH0CfuG9z9Ixsmu/7laBCe7pazdKhAACCCCQXQGCe3bbjpIj0HABr/Cuq8zoajP64CrBveFNRAEQQAABBHIkQHDPUWNSFQQaIbCu+Q5pW7ap4tJ2eJ/9//5e1jz1SvlrF0wfJ/2PPKARxeSaCCCAAAIIZF6A4J75JqQCCDRW4P3NbbJh5DzP8H73gK2yftVGgntjm4irI4AAAgjkRIDgnpOGpBoINFLAL7xv+/j7MnfgVmn72AdW8Rhxb2QrcW0EEEAAgawLENyz3oKUH4GUCJiEd4J7ShqLYiCAAAIIZFKA4J7JZqPQCKRToFZ4H3fDl5jjns6mo1QIIIAAAhkQILhnoJEoIgJZEvAL7y/s0SafvGc0wT1LjUlZEUAAAQRSJUBwT1VzUBgE8iGg4f31wbeI/te5dTt/kPSceWw+KkktEEAAAQQQSFiA4J4wOJdDoCgCukSkrjZDeC9Ki1NPBBBAAIG4BQjucQtzfgQKLLBg7P/IAfe9JV3f7cDIe4H7AVVHAAEEEIhGgOAejSNnQQABDwF9c2rLo6/LcWu6Et7pIQgggAACCNQpQHCvE5DDEUDAX0CDu745tef2jxHe6SgIIIAAAgjUKUBwrxOQwxFAoHZw1z38wnvTVc3S4/LDYUQAAQQQQACBGgIEd7oIAgjEJmCPuNsXGP+NE6XjN59odz1daUZXnGFDAAEEEEAAAX8Bgju9AwEEYhNwB3d9c+pez2+XTRMXEd5jU+fECCCAAAJ5FSC457VlqRcCKRDwCu79jzxAts5aSXhPQftQBAQQQACBbAkQ3LPVXpQWgUwJ+AV3rQThPVNNSWERQAABBFIgQHBPQSNQBATyKlAtuBPe89rq1AsBBBBAIC4BgntcspwXAQSkVnCvFt77LB0jHYf0RBEBBBBAAAEEPhQguNMVEEAgNgGT4O4X3js0dZReC0YR3mNrHU6MAAIIIJA1AYJ71lqM8iKQIQHT4K5V0pVmdN67cyO8Z6ixKSoCCCCAQOwCBPfYibkAAsUVCBLcCe/F7SfUHAEEEEDATIDgbubEXgggEEIgaHAnvIdA5hAEEEAAgcIIENwL09RUFIHkBcIEd8J78u3EFRFAAAEEsiFAcM9GO1FKBDIpEDa4Vwvv+604T3TuOxsCCCCAAAJFEyC4F63FqS8CCQrUE9z9wrsuEamrzRDeE2xILoUAAgggkAoBgnsqmoFCIJBPgXqDu6qsa75D2pZtqgAivOezv1ArBBBAAIHqAgR3eggCCMQmEEVwf39zm2wYOY/wHlsrcWIEEEAAgawIENyz0lKUE4EMCkQR3LXahPcMNj5FRgABBBCIXIDgHjkpJ0QAAVsgquBOeKdPIYAAAgggIEJwpxcggEBsAlEG91rhvc/SMbHVgxMjgAACCCCQBgGCexpagTIgkFOBqIN7tfDe7fxB0nPmsTmVpFoIIIAAAggw4k4fQACBGAXiCO5a3PfWtlirzejcd+dGeI+xMTk1AggggEDDBRhxb3gTUAAE8isQV3BXMV0iUlebIbznt/9Qs48E1jz1ivWXzt07S++B++SWZv2qjdLa0mrVr/+RB+S2nlQMgbACBPewchyHAAI1BeIM7oT3mvzs0AABDZ73X/uQ0ZX7HdFXhpx2qDT16VF1/6W3PikLPjznyMuOk+bxRxmdP4s7FamuWWwfytx4AYJ749uAEiCQW4G4gzvhPbddJ7MV05Fx7fdBthETjxb947VtXrdFZk64WbaXRqE14E+eOynIqTO573WjZ4jWu0vp04WJs79c88Ymk5Wk0AiEFCC4h4TjMAQQqC2QRHAnvNduB/YIL6BTsVp+/bxsveF569kK3Xbt1126XXSw9Lj88HYnDhPc9SR+I+nO76HRV55ijdDnfVt2z3KZO22+VU2dLnPB9HF5rzL1Q8BYgOBuTMWOCCAQVCCp4F4tvOtKM/rQKhsCQQX0OYo3xy4oB3b38R2H9JReC0ZJh6aO5S+5g7uOkrvDduvWHbJy0WprVNnedHR5ysLJFZdwnqsoo+02wDXHX2d9yqCbBnfmuwftveyfVwGCe15blnohkAKBJIO7Vrd1yRuy4aS729Wc8J6CzpDBIujKRRred+23SZr+4y7ZbcyTVi3eueMoeeuSc0sPRneRLif2lX3uPsU3uPuNGLe27JAbJtxUEd7dAdX5/aPz2nVUviibzunX+e66MepelFanniYCBHcTJfZBAIFQAkkHdy3k1lkrZdPERYT3UC3GQbaA3Y86NG2Xvuu+3Q6m7bn9Zd3Q71n/ri//0tF33dwj7tVC5+KZj4n+sTfnXHd9yFWDvb1dNPvCitVkNNSuXPJC+eudu3WSsdecWVFODb8bSuext0HDD6r7wVat35JfPV4+Z6/SCjdeNxQ63WXZvcvL+w3/+rBAo+bu+uvc/loP8dJ7ESiCAMG9CK1MHRFokEAjgjvhvUGNnbPL6s2fhvfdL3lI9rj6ds/a/f3LX5N35hwlTVc1l+e7RxXcnSPOXtNovEbsncHfXQ49xyV3TSotJ9mprpbS6159/E8rznHlE1PbndP9vT914aWBr+2cLlO0TxzqaiQOzrUAwT3XzUvlEGisQKOCO+G9se2eh6tvPH2+bH/gVel1/0+k8zGrPau05apTZfN/nLYzuH+79KDqLsFG3OdMuVNWLP7o3DpiPnjEAOtaOtquo866+Y3ae4VzexUWe2UWu+BRzhOvVm69njvca53cnwaY9BHnzw9du14/dWBDoOgCBPei9wDqj0CMAo0M7oT3GBu2AKe2R9ybvn+P9PjevZ41DjvirsF26W1PVkyT0QvYo9Lu4FttuUjnyLyeQ0OyTl9xTsGJerTaueqLXtN9fr0Z0XBvb2FXw3FPJQozal+ArkoVCyZAcC9Yg1NdBJIUaHRwrxbenfOSkzThWtkQsOe464Op+634frtCm85xN62tM/y6R9KrvXTJa8qMTouxV2TReeE6Ul3vFBl3PZzTWNwr3uhSjhrudatnio7zZUx6rig/NTBtF/ZDIG0CBPe0tQjlQSBHAmkI7sq55cfPyubvLa2Q1SX8dCk/+6HCHLFTlToFdO32DSPnWSvK6NZxyGuyxzVzylNmWh8ZUFom8mKjVWVMiqLTQC6YPr4croMGVveDnM5ruh9qNSmPyT7OcK77Ox8edU7T0aUwdcQ9zBbkBibM+TkGgSwKENyz2GqUGYGMCKQluCuXPfXBSUd4z0hHSrCY7tBe2V+2W3/VZSB3Bvra67hXK7qORg8dd6Q0jzuqYkTcPUXEZKTZfYxet9oUm3pJ3dNh7E8FdG16De725py3H/Sa7uAeZ32Clo39EWiUAMG9UfJcF4ECCKQpuBPeC9Dh6qyiX2jXN6Xab03VS+gN324XDJKmK46qePmSfs0dNnU0/SSP9deb9u3hu7xhFoK71tU5XcZ+gNb5aYHXajhBmojgHkSLfYsiQHAvSktTTwQaIJC24E54b0AnyMgl/UK7c1Rdp85oaNcg77cFWQ7S7xxBg3sjpspo2d0PxurDo/NK89vtlXLqmSbjdRPEiHtGvpkoZqwCBPdYeTk5AsUWSGNwJ7wXu0961d4ktJuqRRHc3dNQak03cS4d6S5nnMsoum8YtJzO1WRqlbuWaVCHWufj6wjkQYDgnodWpA4IpFQgrcG9Wnjfb8V57aY/pJSXYkUgEGVo9xolrvbmVL/iuwNxtZFm9+i8jnJvWfe2NWXH3sKMVLvffDrk1ENFz+3enA+i6uoyOsddN/dKM2Gayl23uB60DVM2jkGgUQIE90bJc10ECiCQ5uDuF969HjgsQFMVsopRh/aogruexzl/3G/KiTvg65xyfQGTvUSks1GDhl53aPYL/+7pMvY1o1g73r2s5JSFkwvZT6k0Ak4Bgjv9AQEEYhNIe3CPI7jFhsmJIxWIq+2jmCqjFXW+ndRvuot7iowzXLuXa/Q7hwb0tU+/aj1Aq/vYm2lwd68ixXweTgAAIABJREFUYx9vcqOgdWzdusNan91rc9Yv7NtXI+00nAyBFAgQ3FPQCBQBgbwKpD24q3tcAS6vbZqHesXZ5lEFd/fbSd1vDXUHa/eLlnTU/fozZpRfxKTt5h411xH7WRffZu3jXnLSNLjred03ECbTZJz1u/KJqe26lfvtsWHfvpqH/kodEHAKENzpDwggEJtAFoI74T225g98Yg1z9hxpO2gGPkmNA+IM7XppDZzrV20ol6JzafqKcyQ7SH2c02XcwdU5h13P6bW8pAbz1lIod246516dl972ZKmcG8tfcgd3bYfNb2yRDaV9dDpMtXny7hdGVZsmo+dauWh1RTt7BXdnsK93Wckg5uyLQNoFCO5pbyHKh0CGBbIS3Anv6ehk7v7iFejqKaku5/jm2AUVa7Lr+dL6XINz1DvMQ65+Vs4HT+0bAL+XPNlz2Ku9BMod3KtNk9Hz6c2A3lDYNw5e7eycKhTm4dp6+gnHIpBmAYJ7mluHsiGQcYEsBfda4b3P0jEZb430Fz/O4K6hfcPIedbUKOeW1tCuZXRPd5k8d5LvS5vCtu60oVdbh3oFc3sqTadunUSv7bXpyPxvvnFbeQTddPlJ55Qid3B3zpvX0fZL7ppU8WbZsHXlOATyIEBwz0MrUgcEUiqQteBeLbx3O3+Q9Jx5bEql81GsuIJ7FkO73aLO0ex6X2jk1Uv8grs9VUWD8/mlh0fd033cc+Dtc5vORa8W3J0P1o4sPTSrU2/YEEBgpwDBnZ6AAAKxCWQxuCuGvt5+XfMd7UZnCe+xdRXrxHEE9yyHdlvb6RL1qHu14K7TWYacdpjnaLdXcDcdbdd6+QV352h7lNOD4u25nB2B5AQI7slZcyUECieQ1eCuDeUX+Ajv9XVjDWZLb3vKmuesW48+u4u+3EdDWtTBPQ+hXY3UbN60+yyvfkf0tR4UjWqrNlWm2jWcwV1H5QeOOEhGXna88ZQWv+BuL0+p1x515cmRTw2Kyo3zINAoAYJ7o+S5LgIFEMhycCe8R99B3UscOq+gUyyW3bu84o2f9TycmpfQHn0rVJ4xbHCvt1zVpsrUe26ORyDPAgT3PLcudUOgwQJZD+6E9+g6ULXQbl9FR251TXF7CxvcCe3m7UZwN7diTwTSIEBwT0MrUAYEciqQh+BeLbx3n3yY7Hn1sJy2XrTVcq5JrmfWl/Tow5a66bSZFYtXt7tgmOBOaA/WbgT3YF7sjUCjBQjujW4Bro9AjgXyEtyrhXddaUbnvbP5C2go13W57U0fYrxg+viK+dDutcB136DBndAevBfa67j3HtjLeH568Ku0P8L5oip9voENAQTMBAjuZk7shQACIQTyFNy1+q1L3pANJ93dToLwXr1z2C/xsfcae82ZMnjEgHYHXTd6Rs03avpdidAe4huUQxBAIHMCBPfMNRkFRiA7AnkL7iq/ddZK2TRxEeE9QDd094OpCy/1HN11vi1TT2864k5oD9AY7IoAApkWILhnuvkoPALpFshjcCe8B+9zpss8utcGNwnuhPbg7cERCCCQXQGCe3bbjpIjkHqBvAZ3wnuwruceSfcbcXe+MdNkxJ3QHqwd2BsBBLIvQHDPfhtSAwRSK5Dn4E54N+927pH0KOa4+4X2Lif2lb1mnSAdmjqaF5A9EUAAgYwIENwz0lAUE4EsCuQ9uPuFdw2NvRaMko5Demax2SIv8/rSco83TLipfN56V5XhrbaRNxEnRACBjAgQ3DPSUBQTgSwKFCG4a7ts+fGzsvl7SyuaiPBe2WPdK8Y413Ff+/SrFW9MtY/0muNOaM/iTwLKjAACUQkQ3KOS5DwIINBOoCjBXSuuK83oijPOjfD+kYZ7LXevb5dab04ltPNDBgEEii5AcC96D6D+CMQoUKTgTniv3ZGW3bNc7r/2Idne0tpu5+bxR1lvULVfCKQ7OEfcCe21fdkDAQTyL0Bwz38bU0MEGiZQtOBOeK/d1Tav2yJLb3vKCum69eizuww59VDRt2dqsNev29uIiUdb/0tor+3KHgggUAwBgnsx2plaItAQgSIGd8J7tF2N0B6tJ2dDAIFsCxDcs91+lB6BVAsUNbj7hfdd+3WXPkvHsFShYa8ltBtCsRsCCBRGgOBemKamoggkL1Dk4K7aG0+fL9sfeLUCXpeI1KUiWWe8en8ktCf//coVEUAg/QIE9/S3ESVEILMCRQ/u729ukw0j51lztJ0b4Z3QntlvagqOAAINFSC4N5SfiyOQb4GiB3dtXcJ7sD7OSHswL/ZGAIFiCRDci9Xe1BaBRAUI7ju5Ce9m3Y7QbubEXgggUFwBgntx256aIxC7AMH9I2LCe/XuRmiP/duRCyCAQA4ECO45aESqgEBaBQjulS3jF967nNhX9rn7lLQ2Y+zlIrTHTswFEEAgJwIE95w0JNVAII0CBPf2reIX3rudP0h6zjw2jc0Ya5kI7bHycnIEEMiZAME9Zw1KdRBIkwDB3bs1CKs7XXBI03crZUEAgSwIENyz0EqUEYGMChDc/Ruu6KG16PXP6Lc0xUYAgQYLENwb3ABcHoE8CxDcq7duUcNrUeud5+916oYAAskIENyTceYqCBRSgOBeu9mLFmKLVt/aPYA9EEAAAXMBgru5FXsigEBAAYK7GZhfmO0++TDZ8+phZifJwF6E9gw0EkVEAIFUCxDcU908FA6BbAsQ3M3bzy/U6kozuuJM1jdCe9ZbkPIjgEAaBAjuaWgFyoBATgUI7sEadtu8NfLm2AXtDsp6eCe0B+sH7I0AAgj4CRDc6RsIIBCbAME9OO3WWStl08RFuQnvhPbgfYAjEEAAAYI7fQABBBIXILiHI89LeCe0h2t/jkIAAQQI7vQBBBBIXIDgHp486+Gd0B6+7TkSAQQQILjTBxBAIHEBgnt95FkN74T2+tqdoxFAAAGCO30AAQQSFyC410/uFd47NHWUXgtGScchPeu/QMRnILRHDMrpEEAAAYcAD6fSHRBAIDYBgnsEtB+IbPnJs7L5e0srTpbG8E5oj6C9OQUCCCBQRYDgTvdAAIHYBAju0dHqSjM6+u7c0hTeCe3RtTVnQgABBPwECO70DQQQiE2A4B4tbVrDO6E92nbmbAgggADBnT6AAAKJCxDcoydPW3gntEffxpwRAQQQILjTBxBAIHEBgns85GkJ74T2eNqXsyKAAAIEd/oAAggkLkBwj4/cK7zv2q+79Fk6RnTue9wboT1uYc6PAAIItBdgjju9AgEEYhMguMdGa5144+nzZfsDr1ZcRJeI1KUi4wzvhPZ425WzI4AAAoy40wcQQCBxAYJ7vOTvb26TDSPniQZp5xZneCe0x9umnB0BBBCoJsCIO/0DAQRiEyC4x0ZbPnGS4Z3QHn97cgUEEECA4E4fQACBhggQ3JNhTyK86xry/5jyuOi1nFu38wdJz5nHJlNRroIAAggUXIAR94J3AKqPQJwCBPc4dSvPHWd419CuD8O6N0J7cu3LlRBAAAEVILjTDxBAIDYBgntstJ4n9gvvXU7sK/vcfUqowhDaQ7FxEAIIIBCLAME9FlZOigACKkBwT74f+IX3MKPjfqG9nhuB5EW4IgIIIJAfAYJ7ftqSmiCQOgGCe2OaJIqHSP1Cu9ZIl5rUJSd19Ro2BBBAAIHkBAjuyVlzJQQKJ0Bwb1yT1xPeq02PafvL363lJwnvjWtbrowAAsUVILgXt+2pOQKxCxDcYyeueoEw4b3WnHbnVBzCe2Pbl6sjgEDxBAjuxWtzaoxAYgIE98SofS8UJLzXCu32RQjvjW9XSoAAAsUUILgXs92pNQKJCBDcE2GueRG/8N50VbP0+PbhpfXFRExDO+G9Jjc7IIAAArEJENxjo+XECCBAcE9PH/AL7/bLk8Ks087Ie3ral5IggEAxBAjuxWhnaolAQwQI7g1h973otnlr5M2xC4wKZbp8JOHdiJOdEEAAgUgECO6RMHISBBDwEiC4p69fVFvm0S6taWi39ye8p6+dKRECCORTgOCez3alVgikQoDgnopmaFeIauE9aGj3C+99lo6RXft1TycApUIAAQQyKkBwz2jDUWwEsiBAcE9vK2358bOy+XtL2xVQ57xreA+zOc9Zz3nCXJtjEEAAgSIIENyL0MrUEYEGCRDcGwRvcFmd3vL64FtE/+ve9p4zUrqO6m9wlo92cYb2sKP2gS7IzggggEABBQjuBWx0qoxAUgIE96Skw11HQ3vLr59vN/Ie9MVKuiKNTr/Rrfvkw2TPq4eFKxBHIYAAAghUFSC400EQQCA2AYJ7bLSRnvitqY9Ly3XPVZzTNLw7QzvTYyJtFk6GAAIItBMguNMpEEAgNgGCe2y0kZ/YGcDtk1cL7zpa/48pj5dH2gntkTcJJ0QAAQQI7vQBBBBIToDgnpx1FFcyDe/u5R/3uGZY6Adaoyg350AAAQSKIsCIe1Famnoi0AABgnsD0Ou8ZK3wzprtdQJzOAIIIFCHAMG9DjwORQCB6gIE92z2EL/w3vOGL8iWq56UtmWbxHQOfDYFKDUCCCCQTgGCezrbhVIhkAsBgnt2m9ErvNu10Rcr6ZKRHYf0zG4FKTkCCCCQQQGCewYbjSIjkBUBgntWWsq7nBtPny/bH3i13Rf3W3kub0XNdtNSegQQyKgAwT2jDUexEciCAME9C63kX0bnfHbnXjrS3mvBKGu6DBsCCCCAQHICBPfkrLkSAoUTILhnv8kJ79lvQ2qAAAL5ESC456ctqQkCqRMguKeuSUIViPAeio2DEEAAgcgFCO6Rk3JCBBCwBQju+ekLhPf8tCU1QQCB7AoQ3LPbdpQcgdQLENxT30SBCugX3ruc2Ff2ufuUQOdiZwQQQACB4AIE9+BmHIEAAoYCBHdDqAztpuF9XfMd8t7alopSdzt/kPSceWyGakJREUAAgewJENyz12aUGIHMCBDcM9NUgQqqL2DaMHKeaIh3boT3QIzsjAACCAQWILgHJuMABBAwFSC4m0plbz/Ce/bajBIjgED2BQju2W9DaoBAagUI7qltmkgKRniPhJGTIIAAAsYCBHdjKnZEAIGgAgT3oGLZ25/wnr02o8QIIJBdAYJ7dtuOkiOQegGCe+qbKJIC+oX3pquapcflh0dyDU6CAAIIICBCcKcXIIBAbAIE99hoU3div/CuK83oQ6tsCCCAAAL1CxDc6zfkDAgg4CNAcC9W19g6a6VsmrioXaUJ78XqB9QWAQTiEyC4x2fLmREovADBvXhdgPBevDanxgggkJwAwT05a66EQOEECO6Fa3KrwoT3YrY7tUYAgfgFCO7xG3MFBAorQHAvbNMT3ovb9NQcAQRiFCC4x4jLqREougDBvdg9wG/kfe85I6XrqP7FxqH2CCCAQAgBgnsINA5BAAEzAYK7mVOe9/IK7x2aOkqvBaOk45Ceea46dUMAAQQiFyC4R07KCRFAwBYguNMXVOCtqY9Ly3XPVWAQ3ukbCCCAQHABgntwM45AAAFDAYK7IVQBdtNlInX03bkR3gvQ8FQRAQQiFSC4R8rJyRBAwClAcKc/OAUI7/QHBBBAoD4Bgnt9fhyNAAJVBAjudA+3AOGdPoEAAgiEFyC4h7fjSAQQqCFAcKeLeAkQ3ukXCCCAQDgBgns4N45CAAEDAYK7AVJBd/EK77rKjK42o3Pf2RBAAAEE2gsQ3OkVCCAQmwDBPTbaXJx44+nzZfsDr1bUhfCei6alEgggEJMAwT0mWE6LAAIiBHd6QTWB9ze3yYaR86Rt2SbCO10FAQQQMBAguBsgsQsCCIQTILiHcyvSUYT3IrU2dUUAgXoFCO71CnI8Agj4ChDc6RwmAoR3EyX2QQABBEQI7vQCBBCITYDgHhtt7k5MeM9dk1IhBBCIQYDgHgMqp0QAgZ0CBHd6QhABv/De7fxB0nPmsUFOxb4IIIBALgUI7rlsViqFQDoECO7paIcslULD+7rmO+S9tS0VxSa8Z6kVKSsCCMQlQHCPS5bzIoAAI+70gVACusqMrjajId65Ed5DcXIQAgjkSIDgnqPGpCoIpE2AEfe0tUh2ykN4z05bUVIEEEhOgOCenDVXQqBwAgT3wjV5pBUmvEfKyckQQCAHAgT3HDQiVUAgrQIE97S2THbKRXjPTltRUgQQiF+A4B6/MVdAoLACBPfCNn2kFfcL701XNUuPyw+P9FqcDAEEEEizAME9za1D2RDIuADBPeMNmKLia3jX1Wbcmy4TqQ+tsiGAAAJFECC4F6GVqSMCDRIguDcIPqeX3TprpWyauIjwntP2pVoIIFBbgOBe24g9EEAgpADBPSQch/kKEN7pHAggUGQBgnuRW5+6IxCzAME9ZuCCnp7wXtCGp9oIICAEdzoBAgjEJkBwj4228CcmvBe+CwCAQCEFCO6FbHYqjUAyAgT3ZJyLehW/8N7r/tOl8/B9i8pCvRFAIMcCBPccNy5VQ6DRAgT3RrdA/q/vFd47NHWUXgtGScchPfMPQA0RQKBQAgT3QjU3lUUgWQGCe7LeRb2arjSjAd65Ed6L2huoNwL5FiC457t9qR0CDRUguDeUv1AXJ7wXqrmpLAKFFSC4F7bpqTgC8QsQ3OM35gofCRDe6Q0IIJB3AYJ73luY+iHQQAGCewPxC3ppwntBG55qI1AQAYJ7QRqaaiLQCAGCeyPUuaZfeO+zdIzs2q87QAgggEBmBQjumW06Co5A+gUI7ulvo7yW0Cu86yozutqMPrjKhgACCGRRgOCexVajzAhkRIDgnpGGymkx1zXfIW3LNlXUjvCe08amWggURIDgXpCGppoINEKA4N4Ida5pC7y/uU02jJxHeKdLIIBAbgQI7rlpSiqCQPoECO7pa5OilYjwXrQWp74I5FuA4J7v9qV2CDRUgODeUH4u/qEA4Z2ugAACeREguOelJakHAikUILinsFEKWiTCe0EbnmojkDMBgnvOGpTqIJAmAYJ7mlqDsviF927nD5KeM48FCAEEEEi9AME99U1EARHIrgDBPbttl9eSa3h/ffAtov91boT3vLY49UIgXwIE93y1J7VBIFUCBPdUNQeF+VBAl4jU1WYI73QJBBDImgDBPWstRnkRyJAAwT1DjVWwohLeC9bgVBeBnAgQ3HPSkFQDgTQKENzT2CqUyRYgvNMXEEAgawIE96y1GOVFIEMCBPcMNVZBi0p4L2jDU20EMipAcM9ow1FsBLIgQHDPQitRRr/w3nRVs/S4/HCAEEAAgdQIENxT0xQUBIH8CRDc89emea2Rhvd1zXe0q54uE6krzrAhgAACaRAguKehFSgDAjkVILjntGFzWq2ts1bKpomLCO85bV+qhUAeBAjueWhF6oBASgUI7iltGIrlK0B4p3MggECaBQjuaW4dyoZAxgUI7hlvwIIWn/Be0Ian2ghkQIDgnoFGoogIZFWA4J7VlqPchHf6AAIIpFGA4J7GVqFMCOREgOCek4YsaDX8wnuv+0+XzsP3LagK1UYAgUYKENwbqc+1Eci5AME95w1cgOp5hfcOTR2l14JR0nFIzwIIUEUEEEiTAME9Ta1BWRDImQDBPWcNWtDq6EozGuCdG+G9oJ2BaiPQYAGCe4MbgMsjkGcBgnueW7dYdSO8F6u9qS0CaRUguKe1ZSgXAjkQILjnoBGpQlmA8E5nQACBRgsQ3BvdAlwfgRwLENxz3LgFrRrhvaANT7URSIkAwT0lDUExEMijAME9j61KnfzC+34rzhOd+86GAAIIxCVAcI9LlvMigIAQ3OkEeRXwCu+6yoyuNkN4z2urZ79e61dtlFkX3ybbW1rLlRly2qEy+spT2lWutWWHXH/GjIp9R0w8WvQPW+MECO6Ns+fKCORegOCe+yYudAXXNd8hbcs2VRgQ3gvdJTJR+cUzHxP949wumn2h9B64T8W/zZ02X5bds7z8b019eoju17l7p0zUM6+FJLjntWWpFwIpECC4p6ARKEJsAu9vbpMNI+cR3mMT5sRxCdww4SbR0Xd763/kAXLB9HHlv+vXdB/npl/X/dgaK0Bwb6w/V0cg1wIE91w3L5UrCRDe6QZZFFjz1CvWVEa/YO7+2d08/igZedlxWaxq7spMcM9dk1IhBNIjQHBPT1tQkvgECO/x2XLm9gJLb31SBh07QHTqSj3bgmsfEj2Xven5Js+dJO5Q36V7Z7nkrklMkakHO8JjCe4RYnIqBBCoFCC40yOKIlAtvPdZOqYoDNQzAQH9ubqhNJVl6LgjpXncUaEDtT58qtNhNq/bUi61PqSq89+d/zb2mjNl8IgBCdSMS5gIENxNlNgHAQRCCRDcQ7FxUEYF/MJ7t/MHSc+Zx2a0VhQ7bQLOn6s6Sn7St48LHaxXLF4tc6bc6VtFDewa3NnSI0BwT09bUBIEcidAcM9dk1KhGgIa3l8ffIs19925Ed7pOlEJuH+u6nn1odGTSnPQ3SvDmFxTg7sGePemU2Qmzv5y3VNyTMrAPuYCBHdzK/ZEAIGAAgT3gGDsngsBXSJSV5shvOeiOVNXCa/gbhdS12QfednxgabP6LSYmRNurlivXc+nD6PqQ6ls6RIguKerPSgNArkSILjnqjmpTAABwnsALHYNJFAtuOuJdKR8+NeHBQrd7uUh9Tws/xioWRLbmeCeGDUXQqDxAu6XbsRdIn15h/MhJx0NqnclhLjLzPkRiEpAw/v+N78uXd/tUHHKLif2lb+Nqm9FkKjKyHmyJ+D+uepXA/1ZO+rKk2uuve43z91eZSZ7QvkuMcE93+1L7RCoEJg29GpEEEAgQYGe2z8mx63p2i68v7BHmzzWd3uCJeFSRRXQ+e8a4L0GTXRlmevPmNFumoxtNWLi0aJ/2NIjQHBPT1tQEgRiFyC4x07MBRBoJ+AX3jW4a4BnQyBuAb+12OdOmy86gm9vGu6dn5Lqv180+8JQD73GXaeinp/gXtSWp96FFCC4F7LZqXQKBDS8n7a6W7uSEN5T0Dg5L4I+YDri60e3e2DV6+2pGtKXlNZxd64yoyP2Ot+dLR0CBPd0tAOlQCARAea4J8LMRRDwFDhs9S7Sct1z7b62YlSTdD5xf9QQMBIwneNebYqMXui60TMqRtc14OtKMjrirl9zbqwwY9Q0iexEcE+EmYsgUEwBVpUpZrtTa3+BrbNWyqaJi9rtoC9o0rXe2RCoJVBrVRmTh1J1EMc5kOOeSrPg2odk6a1PloviN9WmVln5evQCBPfoTTkjAgh8KEBwpysg0F6A8E6vqEfAL7ibLgO5ftVG0eUfndvoK08RXfXL3rweWuUtqvW0WnTHEtyjs+RMCCDgEiC40yUQ8BYgvNMzwgp4BfcgL15yH+83h909Kq/lHXvNmaIBnq1xAgT3xtlzZQRyL0Bwz30TU8E6BPzCe5+lY6TjkJ51nJlD8yzg/Lmqofuk0rz03gP3MaqyTn/RaTDOrdqLltzz4HUajj7A2rl7J6PrsVP0AgT36E05IwIIfChAcKcrIFBdYMuPn5XN31tasVOHpo7Sa8Eowjudx1NAf65ufmOLnPTt4xj9LmAfIbgXsNGpMgJJCRDck5LmOlkW0IdVdfTduRHes9yi8ZZdl2pkukq8xmk+O8E9za1D2RBooICu8bvs3uWyofQgkz7MZG/60Wyv0seyzeOO9HwTn7PIBPcGNiCXzpQA4T1TzUVhEWiYAMG9YfRcGIF0CugavvOm3Sca3Gttfi/2sI8juNcS5OsIfCRAeKc3IIBALQGCey0hvo5AgQR0ZH1Waf7k9pZW41rrQ1EXTB/v+bASwd2YkR0RsAQI73QEBBCoJkBwp38ggIAloOv26tq+OuLu3DSYD/pw+a/WrTtk5aLV7fbxW9+X4E7nQiC4gF9432/FeaJz39kQQKC4AgT34rY9NUegQsD9pjz9ot+avXOnzRd97bZz89qX4E4nQyCcgFd41yUidbUZwns4U45CIA8CBPc8tCJ1QKBOAa+35I0srQ2sc9j9tjlT7hRd3cDevF7iQXCvs2E4vLAC729ukw0j50nbsk0VBkHCu55DN4J+YbsRFc+hAME9h41KlRAIKqABXIO4velLNibPnVT1NDqlRl/O4dymLry0Yq47wT1oS7A/Ah8J1BPe7WO7jj1Ielx+OKwIIJATAYJ7ThqSaiBQj4D71dYjJh4t+qfWViuY1/p6rfPzdQSKLhAmvDuP6XJiX9ln3ikiuxRdkvojkA8Bgns+2pFaIFCXgHvai9/cdvdF3PPi3dNrCO51NQsHI2AJBAnvXvv2a63+6RnMCCCQHQGCe3baipIiEJtA2IBda6Q+7HljqygnRiCjAtXCe5+lY6oG/F73ny6dh++b0ZpTbAQQcAoQ3OkPCCAgYQM2wZ3Og0ByAn7hvdv5g2SPa4Z5PsyqpWu6qpl57sk1E1dCIFYBgnusvJwcgWwIMFUmG+1EKRF4b22LrGu+w5o+49x05Rj3v9lfZ547/QaB/AgQ3PPTltQEgdACtUbO/U5ca6S+1tdDF5gDESiwgC4RqUtF+gV1LxrmuRe4w1D1XAkQ3HPVnFQGgXACLAcZzo2jEGiUQNDwzjz3RrUU10UgWgGCe7SenA2BTArwAqZMNhuFLrBA0ODOPPcCdxaqnisBgnuumpPKIBBewL20Y5funeX0K0+WwSMGtDupe1/dwWsJSabKhG8PjkTATyBoaNfzMM+d/oRAPgQI7vloR2qBQN0COup+w4SbRN+I6tx6D9xHBn0Y3lu37pCVi1a320fDvQZ390Zwr7tZOAECFQJhQrt9Aua505kQyL4AwT37bUgNEIhMYP2qjTLr4ttke0ur8Tk12F8wfbx07t6J4G6sxo4IBBfYNm+NbLro4UAPpTqvwjz34OYcgUDaBAjuaWsRyoNAgwV0xH3etPtkzVOv1CxJ8/ijZMTXj/YM7XowI+41CdkBASOBrbNWyqaJi4z29duJee518XEwAqkQILinohkoBALpE9Dgvuze5bKhNAp5a7APAAAGX0lEQVSvI/H21v/IA6RXaZS9edyR0tSnR9WCE9zT166UKHsCfmu3B62JNc/97lOCHsb+CCCQIgGCe4oag6IgkDcBgnveWpT6NFJAp8q0PvqGbJ+7RjTMB930JU19138l6GHsjwACKRIguKeoMSgKAnkTILjnrUWpT1oENLi/c8eLsmNRKcg/8KpxsfosHSMdh/Q03p8dEUAgXQIE93S1B6VBIFcCBPdcNSeVSbGAjsZvv7s0Ir/kjaqj8cxzT3EjUjQEDAQI7gZI7IIAAuEECO7h3DgKgXoEdMnI7Q++6jkazzz3emQ5FoHGCxDcG98GlACB3AoQ3HPbtFQsIwLvb26zRuHt0fj3t+xgnntG2o5iIuAlQHCnXyCAQGwCBPfYaDkxAqEEdDSeOe6h6DgIgVQIENxT0QwUAoF8ChDc89mu1AoBBBBAoDECBPfGuHNVBAohQHAvRDNTSQQQQACBhAQI7glBcxkEiihAcC9iq1NnBBBAAIG4BAjucclyXgQQEII7nQABBBBAAIHoBAju0VlyJgQQcAkQ3OkSCCCAAAIIRCdAcI/OkjMhgADBnT6AAAIIIIBAbAIE99hoOTECCDDiTh9AAAEEEEAgOgGCe3SWnAkBBBhxpw8ggAACCCAQmwDBPTZaTowAAoy40wcQQAABBBCIToDgHp0lZ0IAAUbc6QMIIIAAAgjEJkBwj42WEyOAACPu9AEEEEAAAQSiEyC4R2fJmRBAgBF3+gACCCCAAAKxCRDcY6PlxAggsH7VRmltaS1D9B7YSzp37wQMAggggAACCIQQILiHQOMQBBBAAAEEEEAAAQSSFiC4Jy3O9RBAAAEEEEAAAQQQCCFAcA+BxiEIIIAAAggggAACCCQtQHBPWpzrIYAAAggggAACCCAQQoDgHgKNQxBAAAEEEEAAAQQQSFqA4J60ONdDAAEEEEAAAQQQQCCEAME9BBqHIIAAAggggAACCCCQtADBPWlxrocAAggggAACCCCAQAgBgnsINA5BAAEEEEAAAQQQQCBpAYJ70uJcDwEEEEAAAQQQQACBEAIE9xBoHIIAAggggAACCCCAQNICBPekxbkeAggggAACCCCAAAIhBAjuIdA4BAEEEEAAAQQQQACBpAUI7kmLcz0EEEAAAQQQQAABBEIIENxDoHEIAggggAACCCCAAAJJCxDckxbneggggAACCCCAAAIIhBAguIdA4xAEEEAAAQQQQAABBJIWILgnLc71EEAAAQQQQAABBBAIIUBwD4HGIQgggAACCCCAAAIIJC1AcE9anOshgAACCCCAAAIIIBBCgOAeAo1DEEAAAQQQQAABBBBIWoDgnrQ410MAAQQQQAABBBBAIIQAwT0EGocggAACCCCAAAIIIJC0AME9aXGuhwACCCCAAAIIIIBACAGCewg0DkEAAQQQQAABBBBAIGkBgnvS4lwPAQQQQAABBBBAAIEQAgT3EGgcggACCCCAAAIIIIBA0gIE96TFuR4CCCCAAAIIIIAAAiEECO4h0DgEAQQQQAABBBBAAIGkBQjuSYtzPQQQQAABBBBAAAEEQggQ3EOgcQgCCCCAAAIIIIAAAkkLENyTFud6CCCAAAIIIIAAAgiEECC4h0DjEAQQQAABBBBAAAEEkhYguCctzvUQQAABBBBAAAEEEAghQHAPgcYhCCCAAAIIIIAAAggkLUBwT1qc6yGAAAIIIIAAAgggEEKA4B4CjUMQQAABBBBAAAEEEEhagOCetDjXQwABBBBAAAEEEEAghADBPQQahyCAAAIIIIAAAgggkLQAwT1pca6HAAIIIIAAAggggEAIAYJ7CDQOQQABBBBAAAEEEEAgaQGCe9LiXA8BBBBAAAEEEEAAgRACBPcQaByCAAIIIIAAAggggEDSAgT3pMW5HgIIIIAAAggggAACIQQI7iHQOAQBBBBAAAEEEEAAgaQFCO5Ji3M9BBBAAAEEEEAAAQRCCBDcQ6BxCAIIIIAAAggggAACSQsQ3JMW53oIIIAAAggggAACCIQQILiHQOMQBBBAAAEEEEAAAQSSFiC4Jy3O9RBAAAEEEEAAAQQQCCFAcA+BxiEIIIAAAggggAACCCQtQHBPWpzrIYAAAggggAACCCAQQoDgHgKNQxBAAAEEEEAAAQQQSFqA4J60ONdDAAEEEEAAAQQQQCCEwP8PwsMjCdD3o1MAAAAASUVORK5CYII=)"
      ],
      "metadata": {
        "id": "8NSQ7QVSObEq"
      }
    },
    {
      "cell_type": "markdown",
      "source": [
        "We know that the perpendicular distance (d) of a line Ax + By+ C = 0 from a point (x1, y1) is given by\n",
        "\n",
        "d = |Ax1 + By1 + C|]/ √(A2 + B2)"
      ],
      "metadata": {
        "id": "qYIQwiUzQU-V"
      }
    },
    {
      "cell_type": "code",
      "source": [
        "def distance(P0, P1, p):\n",
        "    T = P1 - P0\n",
        "    L = (T**2).sum(axis=1)\n",
        "    A = T[:,1]\n",
        "    B = -1*T[:,0] \n",
        "    C = (P0[:,1]- P0[:,0])*T[:,0]\n",
        "    #print('A:',A,'\\n','B:',B,'\\n','C:',C)\n",
        "    U = np.abs( p[...,0]*A + p[...,1]*B+ C )/ np.sqrt(L)\n",
        "    return U\n",
        "\n",
        "print(distance(P0, P1, p))"
      ],
      "metadata": {
        "colab": {
          "base_uri": "https://localhost:8080/"
        },
        "id": "jAYgT5JJQq1y",
        "outputId": "8b0e068b-2014-4c1a-b2bd-4ce097902a64"
      },
      "execution_count": 48,
      "outputs": [
        {
          "output_type": "stream",
          "name": "stdout",
          "text": [
            "[6.34306867 5.19381332 6.54420091 5.98560503 2.43160376 2.33904394\n",
            " 1.06811399 3.37910388 4.46009996 1.24997508]\n"
          ]
        }
      ]
    },
    {
      "cell_type": "markdown",
      "metadata": {
        "id": "rVHmqcYiv16V"
      },
      "source": [
        "#### 79. Consider 2 sets of points P0,P1 describing lines (2d) and a set of points P, how to compute distance from each point j (P\\[j\\]) to each line i (P0\\[i\\],P1\\[i\\])? (★★★)"
      ]
    },
    {
      "cell_type": "code",
      "source": [
        "p  = np.random.uniform(-10,10,( 2,2))"
      ],
      "metadata": {
        "id": "v4_gtlReY3xm"
      },
      "execution_count": 49,
      "outputs": []
    },
    {
      "cell_type": "code",
      "execution_count": 50,
      "metadata": {
        "id": "Ze6vQge0v16V",
        "colab": {
          "base_uri": "https://localhost:8080/"
        },
        "outputId": "dc86e2d2-c962-4053-c090-91c32bf21cdf"
      },
      "outputs": [
        {
          "output_type": "stream",
          "name": "stdout",
          "text": [
            "[[ 4.29233018  0.69617016  5.93177428  0.35679017  3.26116175  6.37068231\n",
            "   4.60922851 14.45823686  1.96472464 11.17370356]\n",
            " [10.97248863  4.65783506  7.67350083 14.51398762 10.929274    5.85792735\n",
            "   8.49092927  9.46567785 14.11106014  2.36027795]]\n"
          ]
        }
      ],
      "source": [
        "print(np.array([distance(P0,P1,p_i) for p_i in p]))"
      ]
    },
    {
      "cell_type": "markdown",
      "metadata": {
        "id": "-dlAKagAv16V"
      },
      "source": [
        "#### 80. Consider an arbitrary array, write a function that extract a subpart with a fixed shape and centered on a given element (pad with a `fill` value when necessary) (★★★) \n",
        "(**hint**: minimum, maximum)"
      ]
    },
    {
      "cell_type": "code",
      "execution_count": 62,
      "metadata": {
        "id": "tGM9WNYOv16V",
        "colab": {
          "base_uri": "https://localhost:8080/"
        },
        "outputId": "fb825ba0-de49-4cc6-e533-1d23cfbb4c5a"
      },
      "outputs": [
        {
          "output_type": "stream",
          "name": "stdout",
          "text": [
            "[[8 6 0 2 7 6 9 9 9 2]\n",
            " [6 5 9 0 0 4 3 0 0 8]\n",
            " [4 3 0 3 9 4 3 5 1 2]\n",
            " [5 8 0 3 7 0 8 4 0 7]\n",
            " [4 8 6 4 6 4 8 7 6 1]\n",
            " [2 8 1 7 2 1 5 5 7 0]\n",
            " [6 1 4 1 3 3 2 8 6 4]\n",
            " [8 1 2 7 7 6 2 0 1 3]\n",
            " [3 1 1 1 7 8 9 2 1 4]\n",
            " [6 1 6 2 8 2 5 5 6 1]]\n",
            "[[0 0 0 0 0]\n",
            " [8 6 0 2 7]\n",
            " [6 5 9 0 0]\n",
            " [4 3 0 3 9]\n",
            " [5 8 0 3 7]]\n"
          ]
        },
        {
          "output_type": "stream",
          "name": "stderr",
          "text": [
            "/usr/local/lib/python3.7/dist-packages/ipykernel_launcher.py:23: FutureWarning: Using a non-tuple sequence for multidimensional indexing is deprecated; use `arr[tuple(seq)]` instead of `arr[seq]`. In the future this will be interpreted as an array index, `arr[np.array(seq)]`, which will result either in an error or a different result.\n"
          ]
        }
      ],
      "source": [
        "Z = np.random.randint(0,10,(10,10))\n",
        "shape = (5,5)\n",
        "fill  = 0\n",
        "position = (1,2)\n",
        "\n",
        "R = np.ones(shape, dtype=Z.dtype)*fill\n",
        "P  = np.array(list(position)).astype(int)\n",
        "Rs = np.array(list(R.shape)).astype(int)\n",
        "Zs = np.array(list(Z.shape)).astype(int)\n",
        "\n",
        "R_start = np.zeros((len(shape),)).astype(int)\n",
        "R_stop  = np.array(list(shape)).astype(int)\n",
        "Z_start = (P-Rs//2)\n",
        "Z_stop  = (P+Rs//2)+Rs%2\n",
        "\n",
        "R_start = (R_start - np.minimum(Z_start,0)).tolist()\n",
        "Z_start = (np.maximum(Z_start,0)).tolist()\n",
        "R_stop = np.maximum(R_start, (R_stop - np.maximum(Z_stop-Zs,0))).tolist()\n",
        "Z_stop = (np.minimum(Z_stop,Zs)).tolist()\n",
        "\n",
        "r = [slice(start,stop) for start,stop in zip(R_start,R_stop)]\n",
        "z = [slice(start,stop) for start,stop in zip(Z_start,Z_stop)]\n",
        "R[r] = Z[z]\n",
        "print(Z)\n",
        "print(R)"
      ]
    },
    {
      "cell_type": "markdown",
      "metadata": {
        "id": "7b3dWE4Dv16W"
      },
      "source": [
        "#### 81. Consider an array Z = \\[1,2,3,4,5,6,7,8,9,10,11,12,13,14\\], how to generate an array R = \\[\\[1,2,3,4\\], \\[2,3,4,5\\], \\[3,4,5,6\\], ..., \\[11,12,13,14\\]\\]? (★★★) \n",
        "(**hint**: stride\\_tricks.as\\_strided)"
      ]
    },
    {
      "cell_type": "code",
      "execution_count": 65,
      "metadata": {
        "id": "cuiGt6h3v16W",
        "colab": {
          "base_uri": "https://localhost:8080/"
        },
        "outputId": "d9f2737b-d550-41b6-c9af-ffa11b5efc99"
      },
      "outputs": [
        {
          "output_type": "stream",
          "name": "stdout",
          "text": [
            "[[ 1  2  3  4]\n",
            " [ 2  3  4  5]\n",
            " [ 3  4  5  6]\n",
            " [ 4  5  6  7]\n",
            " [ 5  6  7  8]\n",
            " [ 6  7  8  9]\n",
            " [ 7  8  9 10]\n",
            " [ 8  9 10 11]\n",
            " [ 9 10 11 12]\n",
            " [10 11 12 13]\n",
            " [11 12 13 14]]\n"
          ]
        }
      ],
      "source": [
        "from numpy.lib import stride_tricks\n",
        "len = 15\n",
        "Z = np.arange(1,len,dtype=np.uint32)\n",
        "stride = Z.strides\n",
        "R = stride_tricks.as_strided(Z,(11,4),(stride[0],stride[0]))\n",
        "print(R)\n"
      ]
    },
    {
      "cell_type": "markdown",
      "metadata": {
        "id": "exeKf71Wv16W"
      },
      "source": [
        "#### 82. Compute a matrix rank (★★★) \n",
        "(**hint**: np.linalg.svd) (suggestion: np.linalg.svd)"
      ]
    },
    {
      "cell_type": "code",
      "execution_count": 4,
      "metadata": {
        "id": "RAtJ7D76v16X",
        "colab": {
          "base_uri": "https://localhost:8080/"
        },
        "outputId": "898b0065-939e-40cc-f925-e801b43e51ce"
      },
      "outputs": [
        {
          "output_type": "stream",
          "name": "stdout",
          "text": [
            "10\n",
            "10\n"
          ]
        }
      ],
      "source": [
        "\n",
        "mat = np.random.uniform(0,1,(10,10))\n",
        "U, S, V = np.linalg.svd(mat) # Singular Value Decomposition\n",
        "rank = np.sum(S > 1e-10)\n",
        "print(rank)\n",
        "\n",
        "# Method 2\n",
        "rank = np.linalg.matrix_rank(mat)\n",
        "print(rank)\n"
      ]
    },
    {
      "cell_type": "markdown",
      "metadata": {
        "id": "Q_Gg7Eadv16X"
      },
      "source": [
        "#### 83. How to find the most frequent value in an array? \n",
        "(**hint**: np.bincount, argmax)"
      ]
    },
    {
      "cell_type": "code",
      "execution_count": 13,
      "metadata": {
        "id": "fyv6umgev16X",
        "colab": {
          "base_uri": "https://localhost:8080/"
        },
        "outputId": "40c5d6eb-8428-4fb1-b3c1-d88ab39b218d"
      },
      "outputs": [
        {
          "output_type": "stream",
          "name": "stdout",
          "text": [
            "[6 4 3 5 6 3 4 3 4 3]\n",
            "0\n"
          ]
        }
      ],
      "source": [
        "\n",
        "Z = np.random.randint(0,10,50)\n",
        "count_Z =Z[np.bincount(Z)]\n",
        "print(count_Z)\n",
        "print(count_Z.argmax())"
      ]
    },
    {
      "cell_type": "code",
      "source": [
        "A = np.bincount(np.array([0, 1, 1, 3, 2, 1, 7]))\n",
        "print(A)\n",
        "print(A.argmax())"
      ],
      "metadata": {
        "colab": {
          "base_uri": "https://localhost:8080/"
        },
        "id": "iMsGLFzNT7Un",
        "outputId": "081ec184-ac7e-4fb0-a2d3-c40d5dbf5fde"
      },
      "execution_count": 9,
      "outputs": [
        {
          "output_type": "stream",
          "name": "stdout",
          "text": [
            "[1 3 1 1 0 0 0 1]\n",
            "1\n"
          ]
        }
      ]
    },
    {
      "cell_type": "markdown",
      "metadata": {
        "id": "Qim7tirSv16X"
      },
      "source": [
        "#### 84. Extract all the contiguous 3x3 blocks from a random 10x10 matrix (★★★) \n",
        "(**hint**: stride\\_tricks.as\\_strided)"
      ]
    },
    {
      "cell_type": "code",
      "execution_count": 82,
      "metadata": {
        "id": "McRlzE3Fv16X",
        "colab": {
          "base_uri": "https://localhost:8080/",
          "height": 243
        },
        "outputId": "85a5ea46-5c1d-4ce5-bcf6-32ddc341a2af"
      },
      "outputs": [
        {
          "output_type": "stream",
          "name": "stdout",
          "text": [
            "[[0 2 4 1 3 1 1 1 1 0]\n",
            " [0 0 3 0 0 3 4 0 0 2]\n",
            " [4 1 4 1 2 0 3 2 3 1]\n",
            " [2 3 4 0 2 4 1 2 2 2]\n",
            " [3 3 1 4 4 3 2 2 2 2]\n",
            " [2 2 4 0 0 2 3 4 0 3]\n",
            " [3 3 0 3 3 3 4 3 3 1]\n",
            " [0 4 4 3 3 4 4 2 2 3]\n",
            " [2 2 1 3 2 3 1 3 4 4]\n",
            " [1 0 4 3 2 1 4 4 1 2]]\n",
            "(8, 8, 3, 3)\n",
            "(80, 8)\n"
          ]
        },
        {
          "output_type": "execute_result",
          "data": {
            "text/plain": [
              "'\\nfrom numpy.lib.stride_tricks import sliding_window_view\\nZ = np.random.randint(0,5,(10,10))\\nprint(sliding_window_view(Z, window_shape=(3, 3)))\\n'"
            ],
            "application/vnd.google.colaboratory.intrinsic+json": {
              "type": "string"
            }
          },
          "metadata": {},
          "execution_count": 82
        }
      ],
      "source": [
        "\n",
        "Z = np.random.randint(0,5,(10,10))\n",
        "n = 3\n",
        "i = 1 + (Z.shape[0]-3)\n",
        "j = 1 + (Z.shape[1]-3)\n",
        "C = stride_tricks.as_strided(Z, shape=(i, j, n, n), strides=Z.strides + Z.strides)\n",
        "print(Z)\n",
        "#print(C)\n",
        "print(C.shape)\n",
        "print(Z.strides)\n",
        "# Method 2 \n",
        "\"\"\"\n",
        "from numpy.lib.stride_tricks import sliding_window_view\n",
        "Z = np.random.randint(0,5,(10,10))\n",
        "print(sliding_window_view(Z, window_shape=(3, 3)))\n",
        "\"\"\""
      ]
    },
    {
      "cell_type": "markdown",
      "metadata": {
        "id": "SH5vaxHov16X"
      },
      "source": [
        "#### 85. Create a 2D array subclass such that Z\\[i,j\\] == Z\\[j,i\\] (★★★) \n",
        "(**hint**: class method)"
      ]
    },
    {
      "cell_type": "code",
      "execution_count": 26,
      "metadata": {
        "id": "flX9gL_5v16Y",
        "colab": {
          "base_uri": "https://localhost:8080/"
        },
        "outputId": "2d50b667-3c98-4f87-c973-0586b9f43b92"
      },
      "outputs": [
        {
          "output_type": "stream",
          "name": "stdout",
          "text": [
            "[[ 7  4 12 13  6  2]\n",
            " [ 4  2  7  6 15 13]\n",
            " [12  7  6  6 10  6]\n",
            " [13  6  6  4  5  5]\n",
            " [ 6 15 10  5  3  3]\n",
            " [ 2 13  6  5  3  7]]\n",
            "[[7 1 5 6 1 1]\n",
            " [3 2 1 0 9 9]\n",
            " [7 6 6 4 5 6]\n",
            " [7 6 2 4 4 1]\n",
            " [5 6 5 1 3 0]\n",
            " [1 4 0 4 3 7]]\n"
          ]
        }
      ],
      "source": [
        "class Symetric(np.ndarray):\n",
        "    def __setitem__(self, index, value):\n",
        "        i,j = index\n",
        "        super(Symetric, self).__setitem__((i,j), value)\n",
        "        super(Symetric, self).__setitem__((j,i), value)\n",
        "\n",
        "def symetric(Z):\n",
        "    return np.asarray(Z + Z.T - np.diag(Z.diagonal())).view(Symetric)\n",
        "mat = np.random.randint(0,10,(6,6))\n",
        "S = symetric(mat)\n",
        "print(S)\n",
        "print(mat)"
      ]
    },
    {
      "cell_type": "code",
      "source": [
        "np.diag(mat.diagonal())"
      ],
      "metadata": {
        "colab": {
          "base_uri": "https://localhost:8080/"
        },
        "id": "XreruABXYMmw",
        "outputId": "9ac1381e-e96f-4e2a-fe2b-79afa931092a"
      },
      "execution_count": 29,
      "outputs": [
        {
          "output_type": "execute_result",
          "data": {
            "text/plain": [
              "array([[7, 0, 0, 0, 0, 0],\n",
              "       [0, 2, 0, 0, 0, 0],\n",
              "       [0, 0, 6, 0, 0, 0],\n",
              "       [0, 0, 0, 4, 0, 0],\n",
              "       [0, 0, 0, 0, 3, 0],\n",
              "       [0, 0, 0, 0, 0, 7]])"
            ]
          },
          "metadata": {},
          "execution_count": 29
        }
      ]
    },
    {
      "cell_type": "markdown",
      "metadata": {
        "id": "HxgcOQmwv16Y"
      },
      "source": [
        "#### 86. Consider a set of p matrices wich shape (n,n) and a set of p vectors with shape (n,1). How to compute the sum of of the p matrix products at once? (result has shape (n,1)) (★★★) \n",
        "(**hint**: np.tensordot)"
      ]
    },
    {
      "cell_type": "code",
      "execution_count": 2,
      "metadata": {
        "id": "LfVKgWNAv16Y",
        "colab": {
          "base_uri": "https://localhost:8080/"
        },
        "outputId": "73996020-e301-4a1a-9d91-6947350bec9a"
      },
      "outputs": [
        {
          "output_type": "stream",
          "name": "stdout",
          "text": [
            "[[200.]\n",
            " [200.]\n",
            " [200.]\n",
            " [200.]\n",
            " [200.]\n",
            " [200.]\n",
            " [200.]\n",
            " [200.]\n",
            " [200.]\n",
            " [200.]\n",
            " [200.]\n",
            " [200.]\n",
            " [200.]\n",
            " [200.]\n",
            " [200.]\n",
            " [200.]\n",
            " [200.]\n",
            " [200.]\n",
            " [200.]\n",
            " [200.]]\n"
          ]
        }
      ],
      "source": [
        "\n",
        "p, n = 10, 20\n",
        "M = np.ones((p,n,n))\n",
        "V = np.ones((p,n,1))\n",
        "S = np.tensordot(M, V, axes=[[0, 2], [0, 1]])\n",
        "print(S)\n",
        "\n",
        "# It works, because:\n",
        "# M is (p,n,n)\n",
        "# V is (p,n,1)\n",
        "# Thus, summing over the paired axes 0 and 0 (of M and V independently),\n",
        "# and 2 and 1, to remain with a (n,1) vector."
      ]
    },
    {
      "cell_type": "markdown",
      "source": [
        "![image.png](data:image/png;base64,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)"
      ],
      "metadata": {
        "id": "2LNNI6bhFk8Y"
      }
    },
    {
      "cell_type": "code",
      "source": [
        "# Tensordot product : https://numpy.org/doc/stable/reference/generated/numpy.tensordot.html?highlight=tensordot#numpy.tensordot\n",
        "a = np.arange(60.).reshape(3,4,5)\n",
        "b = np.arange(24.).reshape(4,3,2)\n",
        "c = np.tensordot(a,b, axes=([1,0],[0,1]))\n",
        "c.shape\n",
        "print(c)"
      ],
      "metadata": {
        "colab": {
          "base_uri": "https://localhost:8080/"
        },
        "id": "Esrg8rTVBAkX",
        "outputId": "5ac880ca-6a77-447f-bd82-c09f4a4e6c89"
      },
      "execution_count": 5,
      "outputs": [
        {
          "output_type": "stream",
          "name": "stdout",
          "text": [
            "[[4400. 4730.]\n",
            " [4532. 4874.]\n",
            " [4664. 5018.]\n",
            " [4796. 5162.]\n",
            " [4928. 5306.]]\n"
          ]
        }
      ]
    },
    {
      "cell_type": "markdown",
      "metadata": {
        "id": "-RJLOvJPv16Y"
      },
      "source": [
        "#### 87. Consider a 16x16 array, how to get the block-sum (block size is 4x4)? (★★★) \n",
        "(**hint**: np.add.reduceat)"
      ]
    },
    {
      "cell_type": "code",
      "execution_count": 11,
      "metadata": {
        "id": "yV8-7Nzbv16Y",
        "colab": {
          "base_uri": "https://localhost:8080/",
          "height": 174
        },
        "outputId": "f52c7eb7-d906-466f-c63d-469960265692"
      },
      "outputs": [
        {
          "output_type": "stream",
          "name": "stdout",
          "text": [
            "[[16. 16. 16. 16.]\n",
            " [16. 16. 16. 16.]\n",
            " [16. 16. 16. 16.]\n",
            " [16. 16. 16. 16.]]\n",
            "[[16. 16. 16. 16.]\n",
            " [16. 16. 16. 16.]\n",
            " [16. 16. 16. 16.]\n",
            " [16. 16. 16. 16.]]\n"
          ]
        },
        {
          "output_type": "execute_result",
          "data": {
            "text/plain": [
              "'\\n# Method:3\\n\\nZ = np.ones((16, 16))\\nk = 4\\nprint(sliding_window_view(Z, window_shape=(k, k))[::k, ::k].sum(axis=(-2, -1)))\\n'"
            ],
            "application/vnd.google.colaboratory.intrinsic+json": {
              "type": "string"
            }
          },
          "metadata": {},
          "execution_count": 11
        }
      ],
      "source": [
        "\n",
        "Z = np.ones((16,16))\n",
        "k = 4\n",
        "S = np.add.reduceat(np.add.reduceat(Z, np.arange(0, Z.shape[0], k), axis=0),\n",
        "                                       np.arange(0, Z.shape[1], k), axis=1)\n",
        "print(S)\n",
        "\n",
        "# Method 2: \n",
        "\n",
        "Z = np.ones((16,16))\n",
        "k = 4\n",
        "\n",
        "windows = np.lib.stride_tricks.sliding_window_view(Z, (k, k))\n",
        "S = windows[::k, ::k].sum(axis=(-2, -1))\n",
        "print(S)\n",
        "'''\n",
        "# Method:3\n",
        "\n",
        "Z = np.ones((16, 16))\n",
        "k = 4\n",
        "print(sliding_window_view(Z, window_shape=(k, k))[::k, ::k].sum(axis=(-2, -1)))\n",
        "'''"
      ]
    },
    {
      "cell_type": "markdown",
      "metadata": {
        "id": "Edgv25Xpv16Y"
      },
      "source": [
        "#### 88. How to implement the Game of Life using numpy arrays? (★★★)"
      ]
    },
    {
      "cell_type": "code",
      "execution_count": 12,
      "metadata": {
        "id": "X4TpdRp4v16Z",
        "colab": {
          "base_uri": "https://localhost:8080/"
        },
        "outputId": "2e39e489-fbb3-4d24-96cd-530b704fe6a8"
      },
      "outputs": [
        {
          "output_type": "stream",
          "name": "stdout",
          "text": [
            "[[0 0 0 ... 0 0 0]\n",
            " [0 0 0 ... 0 0 0]\n",
            " [0 0 0 ... 0 0 0]\n",
            " ...\n",
            " [0 1 1 ... 0 0 0]\n",
            " [0 0 0 ... 0 0 0]\n",
            " [0 0 0 ... 0 0 0]]\n"
          ]
        }
      ],
      "source": [
        "def iterate(Z):\n",
        "    # Count neighbours\n",
        "    N = (Z[0:-2,0:-2] + Z[0:-2,1:-1] + Z[0:-2,2:] +\n",
        "         Z[1:-1,0:-2]                + Z[1:-1,2:] +\n",
        "         Z[2:  ,0:-2] + Z[2:  ,1:-1] + Z[2:  ,2:])\n",
        "\n",
        "    # Apply rules\n",
        "    birth = (N==3) & (Z[1:-1,1:-1]==0)\n",
        "    survive = ((N==2) | (N==3)) & (Z[1:-1,1:-1]==1)\n",
        "    Z[...] = 0\n",
        "    Z[1:-1,1:-1][birth | survive] = 1\n",
        "    return Z\n",
        "\n",
        "Z = np.random.randint(0,2,(50,50))\n",
        "for i in range(100): Z = iterate(Z)\n",
        "print(Z)"
      ]
    },
    {
      "cell_type": "markdown",
      "metadata": {
        "id": "MccHJwNev16Z"
      },
      "source": [
        "#### 89. How to get the n largest values of an array (★★★) \n",
        "(**hint**: np.argsort | np.argpartition)"
      ]
    },
    {
      "cell_type": "code",
      "execution_count": 23,
      "metadata": {
        "id": "uVD2Pg-kv16Z",
        "colab": {
          "base_uri": "https://localhost:8080/"
        },
        "outputId": "7d2a384e-ab23-46e0-bf0d-12977f70a092"
      },
      "outputs": [
        {
          "output_type": "stream",
          "name": "stdout",
          "text": [
            "[9995 9996 9997 9998 9999]\n",
            "[9995 9997 9998 9996 9999]\n"
          ]
        }
      ],
      "source": [
        "Z = np.arange(10000)\n",
        "np.random.shuffle(Z)\n",
        "n = 5\n",
        "\n",
        "# Method 1\n",
        "print (Z[np.argsort(Z)[-n:]])\n",
        "\n",
        "#Method 2\n",
        "# url : https://numpy.org/doc/stable/reference/generated/numpy.argpartition.html?highlight=argpartition#numpy.argpartition\n",
        "# numpy.argpartition(a, kth, axis=- 1, kind='introselect', order=None)\n",
        "\n",
        "print (Z[np.argpartition(Z,-n)[-n:]])"
      ]
    },
    {
      "cell_type": "markdown",
      "metadata": {
        "id": "mj1yEEXVv16Z"
      },
      "source": [
        "#### 90. Given an arbitrary number of vectors, build the cartesian product (every combinations of every item) (★★★) \n",
        "(**hint**: np.indices)"
      ]
    },
    {
      "cell_type": "code",
      "execution_count": 24,
      "metadata": {
        "scrolled": true,
        "id": "t0MM7xglv16Z",
        "colab": {
          "base_uri": "https://localhost:8080/"
        },
        "outputId": "6d3be3db-4c9a-40e9-8854-5e1eb05c203f"
      },
      "outputs": [
        {
          "output_type": "stream",
          "name": "stdout",
          "text": [
            "[[1 4 6]\n",
            " [1 4 7]\n",
            " [1 5 6]\n",
            " [1 5 7]\n",
            " [2 4 6]\n",
            " [2 4 7]\n",
            " [2 5 6]\n",
            " [2 5 7]\n",
            " [3 4 6]\n",
            " [3 4 7]\n",
            " [3 5 6]\n",
            " [3 5 7]]\n"
          ]
        }
      ],
      "source": [
        "def cartesian(arrays):\n",
        "    arrays = [np.asarray(a) for a in arrays]\n",
        "    shape = (len(x) for x in arrays)\n",
        "\n",
        "    ix = np.indices(shape, dtype=int)\n",
        "    ix = ix.reshape(len(arrays), -1).T\n",
        "\n",
        "    for n, arr in enumerate(arrays):\n",
        "        ix[:, n] = arrays[n][ix[:, n]]\n",
        "\n",
        "    return ix\n",
        "\n",
        "print (cartesian(([1, 2, 3], [4, 5], [6, 7])))"
      ]
    },
    {
      "cell_type": "markdown",
      "metadata": {
        "id": "G7GdTNVQv16a"
      },
      "source": [
        "#### 91. How to create a record array from a regular array? (★★★) \n",
        "(**hint**: np.core.records.fromarrays)"
      ]
    },
    {
      "cell_type": "code",
      "execution_count": 27,
      "metadata": {
        "id": "j8nuqWOnv16a",
        "colab": {
          "base_uri": "https://localhost:8080/"
        },
        "outputId": "cb32da4f-7d9f-4474-a9b3-95164c2cebeb"
      },
      "outputs": [
        {
          "output_type": "stream",
          "name": "stdout",
          "text": [
            "[(b'Hello', 2.5, 3) (b'World', 3.6, 2)]\n"
          ]
        }
      ],
      "source": [
        "Z = np.array([(\"Hello\", 2.5, 3),\n",
        "              (\"World\", 3.6, 2)])\n",
        "R = np.core.records.fromarrays(Z.T,\n",
        "                               names='col1, col2, col3',\n",
        "                               formats = 'S8, f8, i8')\n",
        "print(R)"
      ]
    },
    {
      "cell_type": "code",
      "source": [
        "# Example \n",
        "x1=np.array([1,2,3,4])\n",
        "x2=np.array(['a','dd','xyz','12'])\n",
        "x3=np.array([1.1,2,3,4])\n",
        "\n",
        "r = np.core.records.fromarrays([x1,x2,x3],names='a,b,c')\n",
        "print(r)\n",
        "print(r[1])"
      ],
      "metadata": {
        "colab": {
          "base_uri": "https://localhost:8080/"
        },
        "id": "xNho-mNxNUba",
        "outputId": "15c8b6bb-f180-430f-89dc-3845b700c2cf"
      },
      "execution_count": 28,
      "outputs": [
        {
          "output_type": "stream",
          "name": "stdout",
          "text": [
            "[(1, 'a', 1.1) (2, 'dd', 2. ) (3, 'xyz', 3. ) (4, '12', 4. )]\n",
            "(2, 'dd', 2.)\n"
          ]
        }
      ]
    },
    {
      "cell_type": "markdown",
      "metadata": {
        "id": "eTRO4OILv16a"
      },
      "source": [
        "#### 92. Consider a large vector Z, compute Z to the power of 3 using 3 different methods (★★★) \n",
        "(**hint**: np.power, \\*, np.einsum)"
      ]
    },
    {
      "cell_type": "code",
      "execution_count": 29,
      "metadata": {
        "id": "R8xiI5VCv16b",
        "colab": {
          "base_uri": "https://localhost:8080/"
        },
        "outputId": "ecb90aa5-8b2a-4335-b5e4-c33f5557c837"
      },
      "outputs": [
        {
          "output_type": "stream",
          "name": "stdout",
          "text": [
            "2.11 s ± 7.09 ms per loop (mean ± std. dev. of 7 runs, 1 loop each)\n",
            "58.4 ms ± 1.6 ms per loop (mean ± std. dev. of 7 runs, 10 loops each)\n",
            "50.8 ms ± 1.4 ms per loop (mean ± std. dev. of 7 runs, 10 loops each)\n"
          ]
        }
      ],
      "source": [
        "\n",
        "x = np.random.rand(int(5e7))\n",
        "\n",
        "%timeit np.power(x,3)\n",
        "%timeit x*x*x\n",
        "%timeit np.einsum('i,i,i->i',x,x,x)"
      ]
    },
    {
      "cell_type": "markdown",
      "metadata": {
        "id": "7wazJUILv16b"
      },
      "source": [
        "#### 93. Consider two arrays A and B of shape (8,3) and (2,2). How to find rows of A that contain elements of each row of B regardless of the order of the elements in B? (★★★) \n",
        "(**hint**: np.where)"
      ]
    },
    {
      "cell_type": "code",
      "execution_count": 52,
      "metadata": {
        "id": "gbjX2eWJv16b",
        "colab": {
          "base_uri": "https://localhost:8080/"
        },
        "outputId": "09901029-8546-4a86-ec4c-b2d45c5d1d18"
      },
      "outputs": [
        {
          "output_type": "stream",
          "name": "stdout",
          "text": [
            "C: (8, 3, 2, 2)\n",
            "Matched Row mask:  [ True  True False  True  True  True False False]\n",
            "Rows: [0 1 3 4 5]\n"
          ]
        }
      ],
      "source": [
        "A = np.random.randint(0,5,(8,3))\n",
        "B = np.random.randint(0,5,(2,2))\n",
        "# numpy.newaxis : A convenient alias for None, useful for indexing arrays.\n",
        "C = (A[..., np.newaxis, np.newaxis] == B)\n",
        "print('C:',C.shape)\n",
        "# numpy.any : Test whether any array element along a given axis evaluates to True.\n",
        "\n",
        "rows = np.where(C.any((3,1)).all(1))[0]\n",
        "print('Matched Row mask: ',C.any((3,1)).all(1))\n",
        "print('Rows:',rows)"
      ]
    },
    {
      "cell_type": "markdown",
      "metadata": {
        "id": "l7Fsg1V6v16c"
      },
      "source": [
        "#### 94. Considering a 10x3 matrix, extract rows with unequal values (e.g. \\[2,2,3\\]) (★★★)"
      ]
    },
    {
      "cell_type": "code",
      "execution_count": 74,
      "metadata": {
        "id": "_qnPsZ93v16c",
        "colab": {
          "base_uri": "https://localhost:8080/",
          "height": 417
        },
        "outputId": "89b8afd4-9e8b-48f9-8469-e003c52c13c9"
      },
      "outputs": [
        {
          "output_type": "stream",
          "name": "stdout",
          "text": [
            "Matrix:\n",
            " [[2 4 3]\n",
            " [2 3 4]\n",
            " [4 1 0]\n",
            " [2 1 3]\n",
            " [0 3 0]\n",
            " [4 4 3]\n",
            " [1 4 3]\n",
            " [4 0 3]\n",
            " [0 0 1]\n",
            " [3 4 0]]\n",
            "[False False False False False False False False False False]\n",
            "[[4 2 3]\n",
            " [2 0 4]\n",
            " [3 1 2]\n",
            " [2 0 1]\n",
            " [1 4 1]\n",
            " [4 2 1]\n",
            " [0 1 1]\n",
            " [3 1 0]\n",
            " [0 3 1]\n",
            " [0 2 2]]\n"
          ]
        },
        {
          "output_type": "execute_result",
          "data": {
            "text/plain": [
              "'\\n# soluiton for numerical arrays only, will work for any number of columns in Z\\nU = Z[Z.max(axis=1) != Z.min(axis=1),:]\\nprint(U)\\n'"
            ],
            "application/vnd.google.colaboratory.intrinsic+json": {
              "type": "string"
            }
          },
          "metadata": {},
          "execution_count": 74
        }
      ],
      "source": [
        "mat = np.random.randint(0,5,(10,3))\n",
        "print('Matrix:\\n',mat)\n",
        "# solution for arrays of all dtypes (including string arrays and record arrays)\n",
        "E = np.all(mat[:,1:] == mat[:,:-1], axis=1)\n",
        "print(E)\n",
        "U = Z[~E]\n",
        "print(U)\n",
        "'''\n",
        "# soluiton for numerical arrays only, will work for any number of columns in Z\n",
        "U = Z[Z.max(axis=1) != Z.min(axis=1),:]\n",
        "print(U)\n",
        "'''"
      ]
    },
    {
      "cell_type": "markdown",
      "metadata": {
        "id": "Hc_i59Tcv16d"
      },
      "source": [
        "#### 95. Convert a vector of ints into a matrix binary representation (★★★) \n",
        "(**hint**: np.unpackbits)"
      ]
    },
    {
      "cell_type": "code",
      "execution_count": 70,
      "metadata": {
        "id": "cw6Pjfsyv16d",
        "colab": {
          "base_uri": "https://localhost:8080/"
        },
        "outputId": "a4afc14f-7f30-45db-896d-f9d95dda6d62"
      },
      "outputs": [
        {
          "output_type": "stream",
          "name": "stdout",
          "text": [
            "[[0 0 0 0 0 0 0 0]\n",
            " [0 0 0 0 0 0 0 1]\n",
            " [0 0 0 0 0 0 1 0]\n",
            " [0 0 0 0 0 0 1 1]\n",
            " [0 0 0 0 1 1 1 1]\n",
            " [0 0 0 1 0 0 0 0]\n",
            " [0 0 1 0 0 0 0 0]\n",
            " [0 1 0 0 0 0 0 0]\n",
            " [1 0 0 0 0 0 0 0]]\n"
          ]
        }
      ],
      "source": [
        "\"\"\"\n",
        "# Method 1\n",
        "I = np.array([0, 1, 2, 3, 15, 16, 32, 64, 128])\n",
        "B = ((I.reshape(-1,1) & (2**np.arange(8))) != 0).astype(int)\n",
        "print(B[:,::-1]) # sort in reverse with -1 i.e lower to higher \n",
        "\"\"\"\n",
        "# Method 2\n",
        "I = np.array([0, 1, 2, 3, 15, 16, 32, 64, 128], dtype=np.uint8)\n",
        "print(np.unpackbits(I[:, None], axis=1)) # np.newaxis , its new way of writting None\n"
      ]
    },
    {
      "cell_type": "markdown",
      "metadata": {
        "id": "dAc9sTG_v16d"
      },
      "source": [
        "#### 96. Given a two dimensional array, how to extract unique rows? (★★★) \n",
        "(**hint**: np.ascontiguousarray)"
      ]
    },
    {
      "cell_type": "code",
      "execution_count": 54,
      "metadata": {
        "id": "stnxXtL2v16e",
        "colab": {
          "base_uri": "https://localhost:8080/"
        },
        "outputId": "163d1576-72b7-47e3-e32d-e949f69281dd"
      },
      "outputs": [
        {
          "output_type": "stream",
          "name": "stdout",
          "text": [
            "[[0 0 0]\n",
            " [0 0 1]\n",
            " [0 1 0]\n",
            " [0 1 1]\n",
            " [1 1 0]\n",
            " [1 1 1]]\n",
            "[[0 0 0]\n",
            " [0 0 1]\n",
            " [0 1 0]\n",
            " [0 1 1]\n",
            " [1 1 0]\n",
            " [1 1 1]]\n"
          ]
        }
      ],
      "source": [
        "\n",
        "Z = np.random.randint(0,2,(6,3))\n",
        "T = np.ascontiguousarray(Z).view(np.dtype((np.void, Z.dtype.itemsize * Z.shape[1])))\n",
        "_, idx = np.unique(T, return_index=True)\n",
        "uZ = Z[idx]\n",
        "print(uZ)\n",
        "\n",
        "# Author: Andreas Kouzelis\n",
        "# NumPy >= 1.13\n",
        "uZ = np.unique(Z, axis=0)\n",
        "print(uZ)"
      ]
    },
    {
      "cell_type": "markdown",
      "metadata": {
        "id": "iFdv_JvMv16e"
      },
      "source": [
        "#### 97. Considering 2 vectors A & B, write the einsum equivalent of inner, outer, sum, and mul function (★★★) \n",
        "(**hint**: np.einsum)"
      ]
    },
    {
      "cell_type": "code",
      "execution_count": 63,
      "metadata": {
        "id": "8FTfvi-2v16e",
        "colab": {
          "base_uri": "https://localhost:8080/"
        },
        "outputId": "e4d2c4b0-1b46-4919-c956-6cfc61313a70"
      },
      "outputs": [
        {
          "output_type": "stream",
          "name": "stdout",
          "text": [
            "np.sum(A):\n",
            " 4.013812621410901\n",
            " A * B\n",
            " [0.6401637  0.13131209 0.01135852 0.20373774 0.53914594 0.47654309\n",
            " 0.03788872 0.08389055 0.3654278  0.15936973]\n",
            "np.inner(A, B)\n",
            " 2.6488378828095187\n",
            "np.outer(A, B)\n",
            " [[0.6401637  0.33579836 0.6830912  0.37758736 0.77120875 0.51238748\n",
            "  0.41560919 0.2506753  0.53121413 0.44334944]\n",
            " [0.25033247 0.13131209 0.26711903 0.14765345 0.30157691 0.20036629\n",
            "  0.16252167 0.09802519 0.20772834 0.17336934]\n",
            " [0.01064471 0.00558369 0.01135852 0.00627856 0.01282374 0.00852004\n",
            "  0.0069108  0.00416826 0.00883309 0.00737206]\n",
            " [0.34541809 0.18118933 0.36858082 0.20373774 0.41612709 0.27647289\n",
            "  0.22425347 0.13525882 0.28663133 0.2392215 ]\n",
            " [0.44753338 0.23475398 0.47754366 0.26396834 0.53914594 0.35820604\n",
            "  0.2905491  0.17524512 0.3713676  0.30994209]\n",
            " [0.59538065 0.31230738 0.63530513 0.351173   0.71725836 0.47654309\n",
            "  0.38653499 0.23313915 0.49405271 0.41233465]\n",
            " [0.05836008 0.03061282 0.06227353 0.03442249 0.07030671 0.04671145\n",
            "  0.03788872 0.02285264 0.04842777 0.04041764]\n",
            " [0.21423604 0.11237768 0.22860208 0.12636271 0.25809134 0.17147467\n",
            "  0.13908702 0.08389055 0.17777517 0.14837053]\n",
            " [0.44037536 0.23099924 0.46990564 0.25974633 0.53052263 0.35247675\n",
            "  0.28590194 0.17244218 0.3654278  0.30498476]\n",
            " [0.23011807 0.12070861 0.24554911 0.1357304  0.27722451 0.18418666\n",
            "  0.14939801 0.09010963 0.19095423 0.15936973]]\n"
          ]
        }
      ],
      "source": [
        "A = np.random.uniform(0,1,10)\n",
        "B = np.random.uniform(0,1,10)\n",
        "\n",
        "print('np.sum(A):\\n',np.einsum('i->', A), )      # np.sum(A)\n",
        "print(' A * B\\n',np.einsum('i,i->i', A, B) )# A * B  or Row * Column operation\n",
        "print('np.inner(A, B)\\n',np.einsum('i,i', A, B) ) # np.inner(A, B)\n",
        "print('np.outer(A, B)\\n',np.einsum('i,j->ij', A, B) )  # np.outer(A, B) or Column * Row operation"
      ]
    },
    {
      "cell_type": "markdown",
      "metadata": {
        "id": "2QQgJMvIv16e"
      },
      "source": [
        "#### 98. Considering a path described by two vectors (X,Y), how to sample it using equidistant samples (★★★)? \n",
        "(**hint**: np.cumsum, np.interp)"
      ]
    },
    {
      "cell_type": "code",
      "execution_count": 56,
      "metadata": {
        "collapsed": true,
        "id": "tYVjPfUFv16e"
      },
      "outputs": [],
      "source": [
        "phi = np.arange(0, 10*np.pi, 0.1)\n",
        "a = 1\n",
        "x = a*phi*np.cos(phi)\n",
        "y = a*phi*np.sin(phi)\n",
        "\n",
        "dr = (np.diff(x)**2 + np.diff(y)**2)**.5 # segment lengths\n",
        "r = np.zeros_like(x)\n",
        "r[1:] = np.cumsum(dr)                # integrate path\n",
        "r_int = np.linspace(0, r.max(), 200) # regular spaced path\n",
        "x_int = np.interp(r_int, r, x)       # integrate path\n",
        "y_int = np.interp(r_int, r, y)"
      ]
    },
    {
      "cell_type": "markdown",
      "metadata": {
        "id": "sNZPAaqav16e"
      },
      "source": [
        "#### 99. Given an integer n and a 2D array X, select from X the rows which can be interpreted as draws from a multinomial distribution with n degrees, i.e., the rows which only contain integers and which sum to n. (★★★) \n",
        "(**hint**: np.logical\\_and.reduce, np.mod)"
      ]
    },
    {
      "cell_type": "code",
      "execution_count": 57,
      "metadata": {
        "id": "dPOSovqYv16f",
        "colab": {
          "base_uri": "https://localhost:8080/"
        },
        "outputId": "6983467c-1d24-44d1-b3f8-209dfe1a8f88"
      },
      "outputs": [
        {
          "output_type": "stream",
          "name": "stdout",
          "text": [
            "[[2. 0. 1. 1.]]\n"
          ]
        }
      ],
      "source": [
        "X = np.asarray([[1.0, 0.0, 3.0, 8.0],\n",
        "                [2.0, 0.0, 1.0, 1.0],\n",
        "                [1.5, 2.5, 1.0, 0.0]])\n",
        "n = 4\n",
        "M = np.logical_and.reduce(np.mod(X, 1) == 0, axis=-1)\n",
        "M &= (X.sum(axis=-1) == n)\n",
        "print(X[M])"
      ]
    },
    {
      "cell_type": "markdown",
      "metadata": {
        "id": "oy0j0W5Vv16f"
      },
      "source": [
        "#### 100. Compute bootstrapped 95% confidence intervals for the mean of a 1D array X (i.e., resample the elements of an array with replacement N times, compute the mean of each sample, and then compute percentiles over the means). (★★★) \n",
        "(**hint**: np.percentile)"
      ]
    },
    {
      "cell_type": "code",
      "execution_count": 58,
      "metadata": {
        "id": "9-WU83D5v16g",
        "colab": {
          "base_uri": "https://localhost:8080/"
        },
        "outputId": "cac03c95-5d25-49d9-b589-8cea140fc98d"
      },
      "outputs": [
        {
          "output_type": "stream",
          "name": "stdout",
          "text": [
            "[-0.25711893  0.13710298]\n"
          ]
        }
      ],
      "source": [
        "X = np.random.randn(100) # random 1D array\n",
        "N = 1000 # number of bootstrap samples\n",
        "idx = np.random.randint(0, X.size, (N, X.size))\n",
        "means = X[idx].mean(axis=1)\n",
        "confint = np.percentile(means, [2.5, 97.5])\n",
        "print(confint)"
      ]
    }
  ],
  "metadata": {
    "kernelspec": {
      "display_name": "Python 3",
      "language": "python",
      "name": "python3"
    },
    "language_info": {
      "codemirror_mode": {
        "name": "ipython",
        "version": 3
      },
      "file_extension": ".py",
      "mimetype": "text/x-python",
      "name": "python",
      "nbconvert_exporter": "python",
      "pygments_lexer": "ipython3",
      "version": "3.8.3"
    },
    "colab": {
      "provenance": [],
      "collapsed_sections": []
    }
  },
  "nbformat": 4,
  "nbformat_minor": 0
}